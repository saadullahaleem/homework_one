{
  "nbformat": 4,
  "nbformat_minor": 0,
  "metadata": {
    "accelerator": "GPU",
    "colab": {
      "name": "DSPD_Homework_1_complete.ipynb",
      "provenance": [],
      "collapsed_sections": []
    },
    "kernelspec": {
      "display_name": "Python 3",
      "language": "python",
      "name": "python3"
    },
    "language_info": {
      "codemirror_mode": {
        "name": "ipython",
        "version": 3
      },
      "file_extension": ".py",
      "mimetype": "text/x-python",
      "name": "python",
      "nbconvert_exporter": "python",
      "pygments_lexer": "ipython3",
      "version": "3.7.9"
    },
    "widgets": {
      "application/vnd.jupyter.widget-state+json": {
        "3a4f485870ce45018a360c5c63eed900": {
          "model_module": "@jupyter-widgets/controls",
          "model_name": "HBoxModel",
          "state": {
            "_view_name": "HBoxView",
            "_dom_classes": [],
            "_model_name": "HBoxModel",
            "_view_module": "@jupyter-widgets/controls",
            "_model_module_version": "1.5.0",
            "_view_count": null,
            "_view_module_version": "1.5.0",
            "box_style": "",
            "layout": "IPY_MODEL_f1648879da794bbabe32a2d02a9ded4d",
            "_model_module": "@jupyter-widgets/controls",
            "children": [
              "IPY_MODEL_9a691ed42c154a19923a4bd1c1a7e7ec",
              "IPY_MODEL_beacc9777d5844c2b83fdf5a974e1eea"
            ]
          }
        },
        "f1648879da794bbabe32a2d02a9ded4d": {
          "model_module": "@jupyter-widgets/base",
          "model_name": "LayoutModel",
          "state": {
            "_view_name": "LayoutView",
            "grid_template_rows": null,
            "right": null,
            "justify_content": null,
            "_view_module": "@jupyter-widgets/base",
            "overflow": null,
            "_model_module_version": "1.2.0",
            "_view_count": null,
            "flex_flow": null,
            "width": null,
            "min_width": null,
            "border": null,
            "align_items": null,
            "bottom": null,
            "_model_module": "@jupyter-widgets/base",
            "top": null,
            "grid_column": null,
            "overflow_y": null,
            "overflow_x": null,
            "grid_auto_flow": null,
            "grid_area": null,
            "grid_template_columns": null,
            "flex": null,
            "_model_name": "LayoutModel",
            "justify_items": null,
            "grid_row": null,
            "max_height": null,
            "align_content": null,
            "visibility": null,
            "align_self": null,
            "height": null,
            "min_height": null,
            "padding": null,
            "grid_auto_rows": null,
            "grid_gap": null,
            "max_width": null,
            "order": null,
            "_view_module_version": "1.2.0",
            "grid_template_areas": null,
            "object_position": null,
            "object_fit": null,
            "grid_auto_columns": null,
            "margin": null,
            "display": null,
            "left": null
          }
        },
        "9a691ed42c154a19923a4bd1c1a7e7ec": {
          "model_module": "@jupyter-widgets/controls",
          "model_name": "FloatProgressModel",
          "state": {
            "_view_name": "ProgressView",
            "style": "IPY_MODEL_6df0fbcea0524b07b8f540c6f4f9722c",
            "_dom_classes": [],
            "description": "Downloading: ",
            "_model_name": "FloatProgressModel",
            "bar_style": "success",
            "max": 2042,
            "_view_module": "@jupyter-widgets/controls",
            "_model_module_version": "1.5.0",
            "value": 2042,
            "_view_count": null,
            "_view_module_version": "1.5.0",
            "orientation": "horizontal",
            "min": 0,
            "description_tooltip": null,
            "_model_module": "@jupyter-widgets/controls",
            "layout": "IPY_MODEL_8e489c51c5054b1d84c50a9e1a36f003"
          }
        },
        "beacc9777d5844c2b83fdf5a974e1eea": {
          "model_module": "@jupyter-widgets/controls",
          "model_name": "HTMLModel",
          "state": {
            "_view_name": "HTMLView",
            "style": "IPY_MODEL_b1906c2b481a48c98787ee95a0aac19e",
            "_dom_classes": [],
            "description": "",
            "_model_name": "HTMLModel",
            "placeholder": "​",
            "_view_module": "@jupyter-widgets/controls",
            "_model_module_version": "1.5.0",
            "value": " 5.77k/? [00:05&lt;00:00, 972B/s]",
            "_view_count": null,
            "_view_module_version": "1.5.0",
            "description_tooltip": null,
            "_model_module": "@jupyter-widgets/controls",
            "layout": "IPY_MODEL_f56cd3ebd9fd414aad80617558ef8a73"
          }
        },
        "6df0fbcea0524b07b8f540c6f4f9722c": {
          "model_module": "@jupyter-widgets/controls",
          "model_name": "ProgressStyleModel",
          "state": {
            "_view_name": "StyleView",
            "_model_name": "ProgressStyleModel",
            "description_width": "initial",
            "_view_module": "@jupyter-widgets/base",
            "_model_module_version": "1.5.0",
            "_view_count": null,
            "_view_module_version": "1.2.0",
            "bar_color": null,
            "_model_module": "@jupyter-widgets/controls"
          }
        },
        "8e489c51c5054b1d84c50a9e1a36f003": {
          "model_module": "@jupyter-widgets/base",
          "model_name": "LayoutModel",
          "state": {
            "_view_name": "LayoutView",
            "grid_template_rows": null,
            "right": null,
            "justify_content": null,
            "_view_module": "@jupyter-widgets/base",
            "overflow": null,
            "_model_module_version": "1.2.0",
            "_view_count": null,
            "flex_flow": null,
            "width": null,
            "min_width": null,
            "border": null,
            "align_items": null,
            "bottom": null,
            "_model_module": "@jupyter-widgets/base",
            "top": null,
            "grid_column": null,
            "overflow_y": null,
            "overflow_x": null,
            "grid_auto_flow": null,
            "grid_area": null,
            "grid_template_columns": null,
            "flex": null,
            "_model_name": "LayoutModel",
            "justify_items": null,
            "grid_row": null,
            "max_height": null,
            "align_content": null,
            "visibility": null,
            "align_self": null,
            "height": null,
            "min_height": null,
            "padding": null,
            "grid_auto_rows": null,
            "grid_gap": null,
            "max_width": null,
            "order": null,
            "_view_module_version": "1.2.0",
            "grid_template_areas": null,
            "object_position": null,
            "object_fit": null,
            "grid_auto_columns": null,
            "margin": null,
            "display": null,
            "left": null
          }
        },
        "b1906c2b481a48c98787ee95a0aac19e": {
          "model_module": "@jupyter-widgets/controls",
          "model_name": "DescriptionStyleModel",
          "state": {
            "_view_name": "StyleView",
            "_model_name": "DescriptionStyleModel",
            "description_width": "",
            "_view_module": "@jupyter-widgets/base",
            "_model_module_version": "1.5.0",
            "_view_count": null,
            "_view_module_version": "1.2.0",
            "_model_module": "@jupyter-widgets/controls"
          }
        },
        "f56cd3ebd9fd414aad80617558ef8a73": {
          "model_module": "@jupyter-widgets/base",
          "model_name": "LayoutModel",
          "state": {
            "_view_name": "LayoutView",
            "grid_template_rows": null,
            "right": null,
            "justify_content": null,
            "_view_module": "@jupyter-widgets/base",
            "overflow": null,
            "_model_module_version": "1.2.0",
            "_view_count": null,
            "flex_flow": null,
            "width": null,
            "min_width": null,
            "border": null,
            "align_items": null,
            "bottom": null,
            "_model_module": "@jupyter-widgets/base",
            "top": null,
            "grid_column": null,
            "overflow_y": null,
            "overflow_x": null,
            "grid_auto_flow": null,
            "grid_area": null,
            "grid_template_columns": null,
            "flex": null,
            "_model_name": "LayoutModel",
            "justify_items": null,
            "grid_row": null,
            "max_height": null,
            "align_content": null,
            "visibility": null,
            "align_self": null,
            "height": null,
            "min_height": null,
            "padding": null,
            "grid_auto_rows": null,
            "grid_gap": null,
            "max_width": null,
            "order": null,
            "_view_module_version": "1.2.0",
            "grid_template_areas": null,
            "object_position": null,
            "object_fit": null,
            "grid_auto_columns": null,
            "margin": null,
            "display": null,
            "left": null
          }
        },
        "4665b61c6e85437280c06702ab48488f": {
          "model_module": "@jupyter-widgets/controls",
          "model_name": "HBoxModel",
          "state": {
            "_view_name": "HBoxView",
            "_dom_classes": [],
            "_model_name": "HBoxModel",
            "_view_module": "@jupyter-widgets/controls",
            "_model_module_version": "1.5.0",
            "_view_count": null,
            "_view_module_version": "1.5.0",
            "box_style": "",
            "layout": "IPY_MODEL_1443ef6fe1f2401b9c18deea86091084",
            "_model_module": "@jupyter-widgets/controls",
            "children": [
              "IPY_MODEL_4aae7ba346a844f9b9bccbdaa8b78c10",
              "IPY_MODEL_46bb1814c61e4880bebfb4895d7a2ba5"
            ]
          }
        },
        "1443ef6fe1f2401b9c18deea86091084": {
          "model_module": "@jupyter-widgets/base",
          "model_name": "LayoutModel",
          "state": {
            "_view_name": "LayoutView",
            "grid_template_rows": null,
            "right": null,
            "justify_content": null,
            "_view_module": "@jupyter-widgets/base",
            "overflow": null,
            "_model_module_version": "1.2.0",
            "_view_count": null,
            "flex_flow": null,
            "width": null,
            "min_width": null,
            "border": null,
            "align_items": null,
            "bottom": null,
            "_model_module": "@jupyter-widgets/base",
            "top": null,
            "grid_column": null,
            "overflow_y": null,
            "overflow_x": null,
            "grid_auto_flow": null,
            "grid_area": null,
            "grid_template_columns": null,
            "flex": null,
            "_model_name": "LayoutModel",
            "justify_items": null,
            "grid_row": null,
            "max_height": null,
            "align_content": null,
            "visibility": null,
            "align_self": null,
            "height": null,
            "min_height": null,
            "padding": null,
            "grid_auto_rows": null,
            "grid_gap": null,
            "max_width": null,
            "order": null,
            "_view_module_version": "1.2.0",
            "grid_template_areas": null,
            "object_position": null,
            "object_fit": null,
            "grid_auto_columns": null,
            "margin": null,
            "display": null,
            "left": null
          }
        },
        "4aae7ba346a844f9b9bccbdaa8b78c10": {
          "model_module": "@jupyter-widgets/controls",
          "model_name": "FloatProgressModel",
          "state": {
            "_view_name": "ProgressView",
            "style": "IPY_MODEL_606db8eb9d6b4f6696f2a766aab35266",
            "_dom_classes": [],
            "description": "Downloading: ",
            "_model_name": "FloatProgressModel",
            "bar_style": "success",
            "max": 1672,
            "_view_module": "@jupyter-widgets/controls",
            "_model_module_version": "1.5.0",
            "value": 1672,
            "_view_count": null,
            "_view_module_version": "1.5.0",
            "orientation": "horizontal",
            "min": 0,
            "description_tooltip": null,
            "_model_module": "@jupyter-widgets/controls",
            "layout": "IPY_MODEL_d34825b8640b42108039385594be6815"
          }
        },
        "46bb1814c61e4880bebfb4895d7a2ba5": {
          "model_module": "@jupyter-widgets/controls",
          "model_name": "HTMLModel",
          "state": {
            "_view_name": "HTMLView",
            "style": "IPY_MODEL_4be9f2801b0b4c31b4e9493943dcc009",
            "_dom_classes": [],
            "description": "",
            "_model_name": "HTMLModel",
            "placeholder": "​",
            "_view_module": "@jupyter-widgets/controls",
            "_model_module_version": "1.5.0",
            "value": " 7.03k/? [00:01&lt;00:00, 5.63kB/s]",
            "_view_count": null,
            "_view_module_version": "1.5.0",
            "description_tooltip": null,
            "_model_module": "@jupyter-widgets/controls",
            "layout": "IPY_MODEL_0f412a03fc6944769fcb5c93976b1eef"
          }
        },
        "606db8eb9d6b4f6696f2a766aab35266": {
          "model_module": "@jupyter-widgets/controls",
          "model_name": "ProgressStyleModel",
          "state": {
            "_view_name": "StyleView",
            "_model_name": "ProgressStyleModel",
            "description_width": "initial",
            "_view_module": "@jupyter-widgets/base",
            "_model_module_version": "1.5.0",
            "_view_count": null,
            "_view_module_version": "1.2.0",
            "bar_color": null,
            "_model_module": "@jupyter-widgets/controls"
          }
        },
        "d34825b8640b42108039385594be6815": {
          "model_module": "@jupyter-widgets/base",
          "model_name": "LayoutModel",
          "state": {
            "_view_name": "LayoutView",
            "grid_template_rows": null,
            "right": null,
            "justify_content": null,
            "_view_module": "@jupyter-widgets/base",
            "overflow": null,
            "_model_module_version": "1.2.0",
            "_view_count": null,
            "flex_flow": null,
            "width": null,
            "min_width": null,
            "border": null,
            "align_items": null,
            "bottom": null,
            "_model_module": "@jupyter-widgets/base",
            "top": null,
            "grid_column": null,
            "overflow_y": null,
            "overflow_x": null,
            "grid_auto_flow": null,
            "grid_area": null,
            "grid_template_columns": null,
            "flex": null,
            "_model_name": "LayoutModel",
            "justify_items": null,
            "grid_row": null,
            "max_height": null,
            "align_content": null,
            "visibility": null,
            "align_self": null,
            "height": null,
            "min_height": null,
            "padding": null,
            "grid_auto_rows": null,
            "grid_gap": null,
            "max_width": null,
            "order": null,
            "_view_module_version": "1.2.0",
            "grid_template_areas": null,
            "object_position": null,
            "object_fit": null,
            "grid_auto_columns": null,
            "margin": null,
            "display": null,
            "left": null
          }
        },
        "4be9f2801b0b4c31b4e9493943dcc009": {
          "model_module": "@jupyter-widgets/controls",
          "model_name": "DescriptionStyleModel",
          "state": {
            "_view_name": "StyleView",
            "_model_name": "DescriptionStyleModel",
            "description_width": "",
            "_view_module": "@jupyter-widgets/base",
            "_model_module_version": "1.5.0",
            "_view_count": null,
            "_view_module_version": "1.2.0",
            "_model_module": "@jupyter-widgets/controls"
          }
        },
        "0f412a03fc6944769fcb5c93976b1eef": {
          "model_module": "@jupyter-widgets/base",
          "model_name": "LayoutModel",
          "state": {
            "_view_name": "LayoutView",
            "grid_template_rows": null,
            "right": null,
            "justify_content": null,
            "_view_module": "@jupyter-widgets/base",
            "overflow": null,
            "_model_module_version": "1.2.0",
            "_view_count": null,
            "flex_flow": null,
            "width": null,
            "min_width": null,
            "border": null,
            "align_items": null,
            "bottom": null,
            "_model_module": "@jupyter-widgets/base",
            "top": null,
            "grid_column": null,
            "overflow_y": null,
            "overflow_x": null,
            "grid_auto_flow": null,
            "grid_area": null,
            "grid_template_columns": null,
            "flex": null,
            "_model_name": "LayoutModel",
            "justify_items": null,
            "grid_row": null,
            "max_height": null,
            "align_content": null,
            "visibility": null,
            "align_self": null,
            "height": null,
            "min_height": null,
            "padding": null,
            "grid_auto_rows": null,
            "grid_gap": null,
            "max_width": null,
            "order": null,
            "_view_module_version": "1.2.0",
            "grid_template_areas": null,
            "object_position": null,
            "object_fit": null,
            "grid_auto_columns": null,
            "margin": null,
            "display": null,
            "left": null
          }
        },
        "8220d8c88b584c57976331e642a91a0d": {
          "model_module": "@jupyter-widgets/controls",
          "model_name": "HBoxModel",
          "state": {
            "_view_name": "HBoxView",
            "_dom_classes": [],
            "_model_name": "HBoxModel",
            "_view_module": "@jupyter-widgets/controls",
            "_model_module_version": "1.5.0",
            "_view_count": null,
            "_view_module_version": "1.5.0",
            "box_style": "",
            "layout": "IPY_MODEL_89acb9b83fcb44469ea15d1a2a21a77f",
            "_model_module": "@jupyter-widgets/controls",
            "children": [
              "IPY_MODEL_e4b8a460417343f6a89ee3203e7f1531",
              "IPY_MODEL_42215894d2fd4fabbaee64666b8d70f6"
            ]
          }
        },
        "89acb9b83fcb44469ea15d1a2a21a77f": {
          "model_module": "@jupyter-widgets/base",
          "model_name": "LayoutModel",
          "state": {
            "_view_name": "LayoutView",
            "grid_template_rows": null,
            "right": null,
            "justify_content": null,
            "_view_module": "@jupyter-widgets/base",
            "overflow": null,
            "_model_module_version": "1.2.0",
            "_view_count": null,
            "flex_flow": null,
            "width": null,
            "min_width": null,
            "border": null,
            "align_items": null,
            "bottom": null,
            "_model_module": "@jupyter-widgets/base",
            "top": null,
            "grid_column": null,
            "overflow_y": null,
            "overflow_x": null,
            "grid_auto_flow": null,
            "grid_area": null,
            "grid_template_columns": null,
            "flex": null,
            "_model_name": "LayoutModel",
            "justify_items": null,
            "grid_row": null,
            "max_height": null,
            "align_content": null,
            "visibility": null,
            "align_self": null,
            "height": null,
            "min_height": null,
            "padding": null,
            "grid_auto_rows": null,
            "grid_gap": null,
            "max_width": null,
            "order": null,
            "_view_module_version": "1.2.0",
            "grid_template_areas": null,
            "object_position": null,
            "object_fit": null,
            "grid_auto_columns": null,
            "margin": null,
            "display": null,
            "left": null
          }
        },
        "e4b8a460417343f6a89ee3203e7f1531": {
          "model_module": "@jupyter-widgets/controls",
          "model_name": "FloatProgressModel",
          "state": {
            "_view_name": "ProgressView",
            "style": "IPY_MODEL_a60fffe4199a46ca86005c72b595bf23",
            "_dom_classes": [],
            "description": "Downloading: ",
            "_model_name": "FloatProgressModel",
            "bar_style": "success",
            "max": 1611423,
            "_view_module": "@jupyter-widgets/controls",
            "_model_module_version": "1.5.0",
            "value": 1611423,
            "_view_count": null,
            "_view_module_version": "1.5.0",
            "orientation": "horizontal",
            "min": 0,
            "description_tooltip": null,
            "_model_module": "@jupyter-widgets/controls",
            "layout": "IPY_MODEL_d18e59aa9ae84d5e9dd9c4e14bf9895f"
          }
        },
        "42215894d2fd4fabbaee64666b8d70f6": {
          "model_module": "@jupyter-widgets/controls",
          "model_name": "HTMLModel",
          "state": {
            "_view_name": "HTMLView",
            "style": "IPY_MODEL_fb4d8f3348bb415386761f6b245764e5",
            "_dom_classes": [],
            "description": "",
            "_model_name": "HTMLModel",
            "placeholder": "​",
            "_view_module": "@jupyter-widgets/controls",
            "_model_module_version": "1.5.0",
            "value": " 3.52M/? [00:01&lt;00:00, 3.09MB/s]",
            "_view_count": null,
            "_view_module_version": "1.5.0",
            "description_tooltip": null,
            "_model_module": "@jupyter-widgets/controls",
            "layout": "IPY_MODEL_bf5094b9e03947d09b6d3af1dbd89306"
          }
        },
        "a60fffe4199a46ca86005c72b595bf23": {
          "model_module": "@jupyter-widgets/controls",
          "model_name": "ProgressStyleModel",
          "state": {
            "_view_name": "StyleView",
            "_model_name": "ProgressStyleModel",
            "description_width": "initial",
            "_view_module": "@jupyter-widgets/base",
            "_model_module_version": "1.5.0",
            "_view_count": null,
            "_view_module_version": "1.2.0",
            "bar_color": null,
            "_model_module": "@jupyter-widgets/controls"
          }
        },
        "d18e59aa9ae84d5e9dd9c4e14bf9895f": {
          "model_module": "@jupyter-widgets/base",
          "model_name": "LayoutModel",
          "state": {
            "_view_name": "LayoutView",
            "grid_template_rows": null,
            "right": null,
            "justify_content": null,
            "_view_module": "@jupyter-widgets/base",
            "overflow": null,
            "_model_module_version": "1.2.0",
            "_view_count": null,
            "flex_flow": null,
            "width": null,
            "min_width": null,
            "border": null,
            "align_items": null,
            "bottom": null,
            "_model_module": "@jupyter-widgets/base",
            "top": null,
            "grid_column": null,
            "overflow_y": null,
            "overflow_x": null,
            "grid_auto_flow": null,
            "grid_area": null,
            "grid_template_columns": null,
            "flex": null,
            "_model_name": "LayoutModel",
            "justify_items": null,
            "grid_row": null,
            "max_height": null,
            "align_content": null,
            "visibility": null,
            "align_self": null,
            "height": null,
            "min_height": null,
            "padding": null,
            "grid_auto_rows": null,
            "grid_gap": null,
            "max_width": null,
            "order": null,
            "_view_module_version": "1.2.0",
            "grid_template_areas": null,
            "object_position": null,
            "object_fit": null,
            "grid_auto_columns": null,
            "margin": null,
            "display": null,
            "left": null
          }
        },
        "fb4d8f3348bb415386761f6b245764e5": {
          "model_module": "@jupyter-widgets/controls",
          "model_name": "DescriptionStyleModel",
          "state": {
            "_view_name": "StyleView",
            "_model_name": "DescriptionStyleModel",
            "description_width": "",
            "_view_module": "@jupyter-widgets/base",
            "_model_module_version": "1.5.0",
            "_view_count": null,
            "_view_module_version": "1.2.0",
            "_model_module": "@jupyter-widgets/controls"
          }
        },
        "bf5094b9e03947d09b6d3af1dbd89306": {
          "model_module": "@jupyter-widgets/base",
          "model_name": "LayoutModel",
          "state": {
            "_view_name": "LayoutView",
            "grid_template_rows": null,
            "right": null,
            "justify_content": null,
            "_view_module": "@jupyter-widgets/base",
            "overflow": null,
            "_model_module_version": "1.2.0",
            "_view_count": null,
            "flex_flow": null,
            "width": null,
            "min_width": null,
            "border": null,
            "align_items": null,
            "bottom": null,
            "_model_module": "@jupyter-widgets/base",
            "top": null,
            "grid_column": null,
            "overflow_y": null,
            "overflow_x": null,
            "grid_auto_flow": null,
            "grid_area": null,
            "grid_template_columns": null,
            "flex": null,
            "_model_name": "LayoutModel",
            "justify_items": null,
            "grid_row": null,
            "max_height": null,
            "align_content": null,
            "visibility": null,
            "align_self": null,
            "height": null,
            "min_height": null,
            "padding": null,
            "grid_auto_rows": null,
            "grid_gap": null,
            "max_width": null,
            "order": null,
            "_view_module_version": "1.2.0",
            "grid_template_areas": null,
            "object_position": null,
            "object_fit": null,
            "grid_auto_columns": null,
            "margin": null,
            "display": null,
            "left": null
          }
        },
        "6b78a1d95f714a88ba66a952eb763a00": {
          "model_module": "@jupyter-widgets/controls",
          "model_name": "HBoxModel",
          "state": {
            "_view_name": "HBoxView",
            "_dom_classes": [],
            "_model_name": "HBoxModel",
            "_view_module": "@jupyter-widgets/controls",
            "_model_module_version": "1.5.0",
            "_view_count": null,
            "_view_module_version": "1.5.0",
            "box_style": "",
            "layout": "IPY_MODEL_f37d9f474cb948f09a0124ebd0bb7bea",
            "_model_module": "@jupyter-widgets/controls",
            "children": [
              "IPY_MODEL_fcbf3e31cf284cfd97433ce8c30b6890",
              "IPY_MODEL_5aca59b2cc264366a7e3172e7e1326be"
            ]
          }
        },
        "f37d9f474cb948f09a0124ebd0bb7bea": {
          "model_module": "@jupyter-widgets/base",
          "model_name": "LayoutModel",
          "state": {
            "_view_name": "LayoutView",
            "grid_template_rows": null,
            "right": null,
            "justify_content": null,
            "_view_module": "@jupyter-widgets/base",
            "overflow": null,
            "_model_module_version": "1.2.0",
            "_view_count": null,
            "flex_flow": null,
            "width": null,
            "min_width": null,
            "border": null,
            "align_items": null,
            "bottom": null,
            "_model_module": "@jupyter-widgets/base",
            "top": null,
            "grid_column": null,
            "overflow_y": null,
            "overflow_x": null,
            "grid_auto_flow": null,
            "grid_area": null,
            "grid_template_columns": null,
            "flex": null,
            "_model_name": "LayoutModel",
            "justify_items": null,
            "grid_row": null,
            "max_height": null,
            "align_content": null,
            "visibility": null,
            "align_self": null,
            "height": null,
            "min_height": null,
            "padding": null,
            "grid_auto_rows": null,
            "grid_gap": null,
            "max_width": null,
            "order": null,
            "_view_module_version": "1.2.0",
            "grid_template_areas": null,
            "object_position": null,
            "object_fit": null,
            "grid_auto_columns": null,
            "margin": null,
            "display": null,
            "left": null
          }
        },
        "fcbf3e31cf284cfd97433ce8c30b6890": {
          "model_module": "@jupyter-widgets/controls",
          "model_name": "FloatProgressModel",
          "state": {
            "_view_name": "ProgressView",
            "style": "IPY_MODEL_1ce11ebc66ed4a17b32043949605e2d6",
            "_dom_classes": [],
            "description": "Downloading: ",
            "_model_name": "FloatProgressModel",
            "bar_style": "success",
            "max": 202559,
            "_view_module": "@jupyter-widgets/controls",
            "_model_module_version": "1.5.0",
            "value": 202559,
            "_view_count": null,
            "_view_module_version": "1.5.0",
            "orientation": "horizontal",
            "min": 0,
            "description_tooltip": null,
            "_model_module": "@jupyter-widgets/controls",
            "layout": "IPY_MODEL_78a73ada8463430487822888992ea837"
          }
        },
        "5aca59b2cc264366a7e3172e7e1326be": {
          "model_module": "@jupyter-widgets/controls",
          "model_name": "HTMLModel",
          "state": {
            "_view_name": "HTMLView",
            "style": "IPY_MODEL_8200d2c1cee6465eb336fda3a2870d7d",
            "_dom_classes": [],
            "description": "",
            "_model_name": "HTMLModel",
            "placeholder": "​",
            "_view_module": "@jupyter-widgets/controls",
            "_model_module_version": "1.5.0",
            "value": " 439k/? [00:02&lt;00:00, 219kB/s]",
            "_view_count": null,
            "_view_module_version": "1.5.0",
            "description_tooltip": null,
            "_model_module": "@jupyter-widgets/controls",
            "layout": "IPY_MODEL_82f2b458f92c4066810c60bec0bfc6ab"
          }
        },
        "1ce11ebc66ed4a17b32043949605e2d6": {
          "model_module": "@jupyter-widgets/controls",
          "model_name": "ProgressStyleModel",
          "state": {
            "_view_name": "StyleView",
            "_model_name": "ProgressStyleModel",
            "description_width": "initial",
            "_view_module": "@jupyter-widgets/base",
            "_model_module_version": "1.5.0",
            "_view_count": null,
            "_view_module_version": "1.2.0",
            "bar_color": null,
            "_model_module": "@jupyter-widgets/controls"
          }
        },
        "78a73ada8463430487822888992ea837": {
          "model_module": "@jupyter-widgets/base",
          "model_name": "LayoutModel",
          "state": {
            "_view_name": "LayoutView",
            "grid_template_rows": null,
            "right": null,
            "justify_content": null,
            "_view_module": "@jupyter-widgets/base",
            "overflow": null,
            "_model_module_version": "1.2.0",
            "_view_count": null,
            "flex_flow": null,
            "width": null,
            "min_width": null,
            "border": null,
            "align_items": null,
            "bottom": null,
            "_model_module": "@jupyter-widgets/base",
            "top": null,
            "grid_column": null,
            "overflow_y": null,
            "overflow_x": null,
            "grid_auto_flow": null,
            "grid_area": null,
            "grid_template_columns": null,
            "flex": null,
            "_model_name": "LayoutModel",
            "justify_items": null,
            "grid_row": null,
            "max_height": null,
            "align_content": null,
            "visibility": null,
            "align_self": null,
            "height": null,
            "min_height": null,
            "padding": null,
            "grid_auto_rows": null,
            "grid_gap": null,
            "max_width": null,
            "order": null,
            "_view_module_version": "1.2.0",
            "grid_template_areas": null,
            "object_position": null,
            "object_fit": null,
            "grid_auto_columns": null,
            "margin": null,
            "display": null,
            "left": null
          }
        },
        "8200d2c1cee6465eb336fda3a2870d7d": {
          "model_module": "@jupyter-widgets/controls",
          "model_name": "DescriptionStyleModel",
          "state": {
            "_view_name": "StyleView",
            "_model_name": "DescriptionStyleModel",
            "description_width": "",
            "_view_module": "@jupyter-widgets/base",
            "_model_module_version": "1.5.0",
            "_view_count": null,
            "_view_module_version": "1.2.0",
            "_model_module": "@jupyter-widgets/controls"
          }
        },
        "82f2b458f92c4066810c60bec0bfc6ab": {
          "model_module": "@jupyter-widgets/base",
          "model_name": "LayoutModel",
          "state": {
            "_view_name": "LayoutView",
            "grid_template_rows": null,
            "right": null,
            "justify_content": null,
            "_view_module": "@jupyter-widgets/base",
            "overflow": null,
            "_model_module_version": "1.2.0",
            "_view_count": null,
            "flex_flow": null,
            "width": null,
            "min_width": null,
            "border": null,
            "align_items": null,
            "bottom": null,
            "_model_module": "@jupyter-widgets/base",
            "top": null,
            "grid_column": null,
            "overflow_y": null,
            "overflow_x": null,
            "grid_auto_flow": null,
            "grid_area": null,
            "grid_template_columns": null,
            "flex": null,
            "_model_name": "LayoutModel",
            "justify_items": null,
            "grid_row": null,
            "max_height": null,
            "align_content": null,
            "visibility": null,
            "align_self": null,
            "height": null,
            "min_height": null,
            "padding": null,
            "grid_auto_rows": null,
            "grid_gap": null,
            "max_width": null,
            "order": null,
            "_view_module_version": "1.2.0",
            "grid_template_areas": null,
            "object_position": null,
            "object_fit": null,
            "grid_auto_columns": null,
            "margin": null,
            "display": null,
            "left": null
          }
        },
        "d84b5d1587a643659f241cc856a1a8b8": {
          "model_module": "@jupyter-widgets/controls",
          "model_name": "HBoxModel",
          "state": {
            "_view_name": "HBoxView",
            "_dom_classes": [],
            "_model_name": "HBoxModel",
            "_view_module": "@jupyter-widgets/controls",
            "_model_module_version": "1.5.0",
            "_view_count": null,
            "_view_module_version": "1.5.0",
            "box_style": "",
            "layout": "IPY_MODEL_bc9f397b2c8643358d0bf5adbcd067ed",
            "_model_module": "@jupyter-widgets/controls",
            "children": [
              "IPY_MODEL_7685884902334fdba9633ea305e13b1b",
              "IPY_MODEL_1b2f865f29cf4ccaa8c556e012354459"
            ]
          }
        },
        "bc9f397b2c8643358d0bf5adbcd067ed": {
          "model_module": "@jupyter-widgets/base",
          "model_name": "LayoutModel",
          "state": {
            "_view_name": "LayoutView",
            "grid_template_rows": null,
            "right": null,
            "justify_content": null,
            "_view_module": "@jupyter-widgets/base",
            "overflow": null,
            "_model_module_version": "1.2.0",
            "_view_count": null,
            "flex_flow": null,
            "width": null,
            "min_width": null,
            "border": null,
            "align_items": null,
            "bottom": null,
            "_model_module": "@jupyter-widgets/base",
            "top": null,
            "grid_column": null,
            "overflow_y": null,
            "overflow_x": null,
            "grid_auto_flow": null,
            "grid_area": null,
            "grid_template_columns": null,
            "flex": null,
            "_model_name": "LayoutModel",
            "justify_items": null,
            "grid_row": null,
            "max_height": null,
            "align_content": null,
            "visibility": null,
            "align_self": null,
            "height": null,
            "min_height": null,
            "padding": null,
            "grid_auto_rows": null,
            "grid_gap": null,
            "max_width": null,
            "order": null,
            "_view_module_version": "1.2.0",
            "grid_template_areas": null,
            "object_position": null,
            "object_fit": null,
            "grid_auto_columns": null,
            "margin": null,
            "display": null,
            "left": null
          }
        },
        "7685884902334fdba9633ea305e13b1b": {
          "model_module": "@jupyter-widgets/controls",
          "model_name": "FloatProgressModel",
          "state": {
            "_view_name": "ProgressView",
            "style": "IPY_MODEL_a003fc137e7742d5820ba20fb62f6752",
            "_dom_classes": [],
            "description": "Downloading: ",
            "_model_name": "FloatProgressModel",
            "bar_style": "success",
            "max": 201089,
            "_view_module": "@jupyter-widgets/controls",
            "_model_module_version": "1.5.0",
            "value": 201089,
            "_view_count": null,
            "_view_module_version": "1.5.0",
            "orientation": "horizontal",
            "min": 0,
            "description_tooltip": null,
            "_model_module": "@jupyter-widgets/controls",
            "layout": "IPY_MODEL_56e8f00682ba43dbb03877ebf817f0a0"
          }
        },
        "1b2f865f29cf4ccaa8c556e012354459": {
          "model_module": "@jupyter-widgets/controls",
          "model_name": "HTMLModel",
          "state": {
            "_view_name": "HTMLView",
            "style": "IPY_MODEL_8e266691ea994e44bbe26deba6a1ea47",
            "_dom_classes": [],
            "description": "",
            "_model_name": "HTMLModel",
            "placeholder": "​",
            "_view_module": "@jupyter-widgets/controls",
            "_model_module_version": "1.5.0",
            "value": " 437k/? [00:00&lt;00:00, 2.94MB/s]",
            "_view_count": null,
            "_view_module_version": "1.5.0",
            "description_tooltip": null,
            "_model_module": "@jupyter-widgets/controls",
            "layout": "IPY_MODEL_7ffeb769d1a4460898604fe4396e89bc"
          }
        },
        "a003fc137e7742d5820ba20fb62f6752": {
          "model_module": "@jupyter-widgets/controls",
          "model_name": "ProgressStyleModel",
          "state": {
            "_view_name": "StyleView",
            "_model_name": "ProgressStyleModel",
            "description_width": "initial",
            "_view_module": "@jupyter-widgets/base",
            "_model_module_version": "1.5.0",
            "_view_count": null,
            "_view_module_version": "1.2.0",
            "bar_color": null,
            "_model_module": "@jupyter-widgets/controls"
          }
        },
        "56e8f00682ba43dbb03877ebf817f0a0": {
          "model_module": "@jupyter-widgets/base",
          "model_name": "LayoutModel",
          "state": {
            "_view_name": "LayoutView",
            "grid_template_rows": null,
            "right": null,
            "justify_content": null,
            "_view_module": "@jupyter-widgets/base",
            "overflow": null,
            "_model_module_version": "1.2.0",
            "_view_count": null,
            "flex_flow": null,
            "width": null,
            "min_width": null,
            "border": null,
            "align_items": null,
            "bottom": null,
            "_model_module": "@jupyter-widgets/base",
            "top": null,
            "grid_column": null,
            "overflow_y": null,
            "overflow_x": null,
            "grid_auto_flow": null,
            "grid_area": null,
            "grid_template_columns": null,
            "flex": null,
            "_model_name": "LayoutModel",
            "justify_items": null,
            "grid_row": null,
            "max_height": null,
            "align_content": null,
            "visibility": null,
            "align_self": null,
            "height": null,
            "min_height": null,
            "padding": null,
            "grid_auto_rows": null,
            "grid_gap": null,
            "max_width": null,
            "order": null,
            "_view_module_version": "1.2.0",
            "grid_template_areas": null,
            "object_position": null,
            "object_fit": null,
            "grid_auto_columns": null,
            "margin": null,
            "display": null,
            "left": null
          }
        },
        "8e266691ea994e44bbe26deba6a1ea47": {
          "model_module": "@jupyter-widgets/controls",
          "model_name": "DescriptionStyleModel",
          "state": {
            "_view_name": "StyleView",
            "_model_name": "DescriptionStyleModel",
            "description_width": "",
            "_view_module": "@jupyter-widgets/base",
            "_model_module_version": "1.5.0",
            "_view_count": null,
            "_view_module_version": "1.2.0",
            "_model_module": "@jupyter-widgets/controls"
          }
        },
        "7ffeb769d1a4460898604fe4396e89bc": {
          "model_module": "@jupyter-widgets/base",
          "model_name": "LayoutModel",
          "state": {
            "_view_name": "LayoutView",
            "grid_template_rows": null,
            "right": null,
            "justify_content": null,
            "_view_module": "@jupyter-widgets/base",
            "overflow": null,
            "_model_module_version": "1.2.0",
            "_view_count": null,
            "flex_flow": null,
            "width": null,
            "min_width": null,
            "border": null,
            "align_items": null,
            "bottom": null,
            "_model_module": "@jupyter-widgets/base",
            "top": null,
            "grid_column": null,
            "overflow_y": null,
            "overflow_x": null,
            "grid_auto_flow": null,
            "grid_area": null,
            "grid_template_columns": null,
            "flex": null,
            "_model_name": "LayoutModel",
            "justify_items": null,
            "grid_row": null,
            "max_height": null,
            "align_content": null,
            "visibility": null,
            "align_self": null,
            "height": null,
            "min_height": null,
            "padding": null,
            "grid_auto_rows": null,
            "grid_gap": null,
            "max_width": null,
            "order": null,
            "_view_module_version": "1.2.0",
            "grid_template_areas": null,
            "object_position": null,
            "object_fit": null,
            "grid_auto_columns": null,
            "margin": null,
            "display": null,
            "left": null
          }
        },
        "0fa3aef5384d49f2ab453149a0bd29c1": {
          "model_module": "@jupyter-widgets/controls",
          "model_name": "HBoxModel",
          "state": {
            "_view_name": "HBoxView",
            "_dom_classes": [],
            "_model_name": "HBoxModel",
            "_view_module": "@jupyter-widgets/controls",
            "_model_module_version": "1.5.0",
            "_view_count": null,
            "_view_module_version": "1.5.0",
            "box_style": "",
            "layout": "IPY_MODEL_5368458992b9467ebb2dbf390ca0c28d",
            "_model_module": "@jupyter-widgets/controls",
            "children": [
              "IPY_MODEL_ec44bd7103ea410e9697bb063d26e57a",
              "IPY_MODEL_0164c05fad1e4bff8024bd4bd19f3a16"
            ]
          }
        },
        "5368458992b9467ebb2dbf390ca0c28d": {
          "model_module": "@jupyter-widgets/base",
          "model_name": "LayoutModel",
          "state": {
            "_view_name": "LayoutView",
            "grid_template_rows": null,
            "right": null,
            "justify_content": null,
            "_view_module": "@jupyter-widgets/base",
            "overflow": null,
            "_model_module_version": "1.2.0",
            "_view_count": null,
            "flex_flow": null,
            "width": null,
            "min_width": null,
            "border": null,
            "align_items": null,
            "bottom": null,
            "_model_module": "@jupyter-widgets/base",
            "top": null,
            "grid_column": null,
            "overflow_y": null,
            "overflow_x": null,
            "grid_auto_flow": null,
            "grid_area": null,
            "grid_template_columns": null,
            "flex": null,
            "_model_name": "LayoutModel",
            "justify_items": null,
            "grid_row": null,
            "max_height": null,
            "align_content": null,
            "visibility": null,
            "align_self": null,
            "height": null,
            "min_height": null,
            "padding": null,
            "grid_auto_rows": null,
            "grid_gap": null,
            "max_width": null,
            "order": null,
            "_view_module_version": "1.2.0",
            "grid_template_areas": null,
            "object_position": null,
            "object_fit": null,
            "grid_auto_columns": null,
            "margin": null,
            "display": null,
            "left": null
          }
        },
        "ec44bd7103ea410e9697bb063d26e57a": {
          "model_module": "@jupyter-widgets/controls",
          "model_name": "FloatProgressModel",
          "state": {
            "_view_name": "ProgressView",
            "style": "IPY_MODEL_94390c9220894c23a3f1d5569c2502ec",
            "_dom_classes": [],
            "description": "",
            "_model_name": "FloatProgressModel",
            "bar_style": "info",
            "max": 1,
            "_view_module": "@jupyter-widgets/controls",
            "_model_module_version": "1.5.0",
            "value": 1,
            "_view_count": null,
            "_view_module_version": "1.5.0",
            "orientation": "horizontal",
            "min": 0,
            "description_tooltip": null,
            "_model_module": "@jupyter-widgets/controls",
            "layout": "IPY_MODEL_361217e942e140ccb1a3e653f36d6db6"
          }
        },
        "0164c05fad1e4bff8024bd4bd19f3a16": {
          "model_module": "@jupyter-widgets/controls",
          "model_name": "HTMLModel",
          "state": {
            "_view_name": "HTMLView",
            "style": "IPY_MODEL_da319c3458b64536a1d54d603c3ef02a",
            "_dom_classes": [],
            "description": "",
            "_model_name": "HTMLModel",
            "placeholder": "​",
            "_view_module": "@jupyter-widgets/controls",
            "_model_module_version": "1.5.0",
            "value": " 43410/0 [00:06&lt;00:00, 28.25 examples/s]",
            "_view_count": null,
            "_view_module_version": "1.5.0",
            "description_tooltip": null,
            "_model_module": "@jupyter-widgets/controls",
            "layout": "IPY_MODEL_b58044449952440998379b64cb95ae76"
          }
        },
        "94390c9220894c23a3f1d5569c2502ec": {
          "model_module": "@jupyter-widgets/controls",
          "model_name": "ProgressStyleModel",
          "state": {
            "_view_name": "StyleView",
            "_model_name": "ProgressStyleModel",
            "description_width": "initial",
            "_view_module": "@jupyter-widgets/base",
            "_model_module_version": "1.5.0",
            "_view_count": null,
            "_view_module_version": "1.2.0",
            "bar_color": null,
            "_model_module": "@jupyter-widgets/controls"
          }
        },
        "361217e942e140ccb1a3e653f36d6db6": {
          "model_module": "@jupyter-widgets/base",
          "model_name": "LayoutModel",
          "state": {
            "_view_name": "LayoutView",
            "grid_template_rows": null,
            "right": null,
            "justify_content": null,
            "_view_module": "@jupyter-widgets/base",
            "overflow": null,
            "_model_module_version": "1.2.0",
            "_view_count": null,
            "flex_flow": null,
            "width": null,
            "min_width": null,
            "border": null,
            "align_items": null,
            "bottom": null,
            "_model_module": "@jupyter-widgets/base",
            "top": null,
            "grid_column": null,
            "overflow_y": null,
            "overflow_x": null,
            "grid_auto_flow": null,
            "grid_area": null,
            "grid_template_columns": null,
            "flex": null,
            "_model_name": "LayoutModel",
            "justify_items": null,
            "grid_row": null,
            "max_height": null,
            "align_content": null,
            "visibility": null,
            "align_self": null,
            "height": null,
            "min_height": null,
            "padding": null,
            "grid_auto_rows": null,
            "grid_gap": null,
            "max_width": null,
            "order": null,
            "_view_module_version": "1.2.0",
            "grid_template_areas": null,
            "object_position": null,
            "object_fit": null,
            "grid_auto_columns": null,
            "margin": null,
            "display": null,
            "left": null
          }
        },
        "da319c3458b64536a1d54d603c3ef02a": {
          "model_module": "@jupyter-widgets/controls",
          "model_name": "DescriptionStyleModel",
          "state": {
            "_view_name": "StyleView",
            "_model_name": "DescriptionStyleModel",
            "description_width": "",
            "_view_module": "@jupyter-widgets/base",
            "_model_module_version": "1.5.0",
            "_view_count": null,
            "_view_module_version": "1.2.0",
            "_model_module": "@jupyter-widgets/controls"
          }
        },
        "b58044449952440998379b64cb95ae76": {
          "model_module": "@jupyter-widgets/base",
          "model_name": "LayoutModel",
          "state": {
            "_view_name": "LayoutView",
            "grid_template_rows": null,
            "right": null,
            "justify_content": null,
            "_view_module": "@jupyter-widgets/base",
            "overflow": null,
            "_model_module_version": "1.2.0",
            "_view_count": null,
            "flex_flow": null,
            "width": null,
            "min_width": null,
            "border": null,
            "align_items": null,
            "bottom": null,
            "_model_module": "@jupyter-widgets/base",
            "top": null,
            "grid_column": null,
            "overflow_y": null,
            "overflow_x": null,
            "grid_auto_flow": null,
            "grid_area": null,
            "grid_template_columns": null,
            "flex": null,
            "_model_name": "LayoutModel",
            "justify_items": null,
            "grid_row": null,
            "max_height": null,
            "align_content": null,
            "visibility": null,
            "align_self": null,
            "height": null,
            "min_height": null,
            "padding": null,
            "grid_auto_rows": null,
            "grid_gap": null,
            "max_width": null,
            "order": null,
            "_view_module_version": "1.2.0",
            "grid_template_areas": null,
            "object_position": null,
            "object_fit": null,
            "grid_auto_columns": null,
            "margin": null,
            "display": null,
            "left": null
          }
        },
        "e011b03a32cb41f182ae106f15e1cc68": {
          "model_module": "@jupyter-widgets/controls",
          "model_name": "HBoxModel",
          "state": {
            "_view_name": "HBoxView",
            "_dom_classes": [],
            "_model_name": "HBoxModel",
            "_view_module": "@jupyter-widgets/controls",
            "_model_module_version": "1.5.0",
            "_view_count": null,
            "_view_module_version": "1.5.0",
            "box_style": "",
            "layout": "IPY_MODEL_3b0e2634912d485c9ff73eac38b1e991",
            "_model_module": "@jupyter-widgets/controls",
            "children": [
              "IPY_MODEL_09a1db7f39884dcdb31173384691ce9f",
              "IPY_MODEL_e116563dbb6a4f4a8fae31d1ca5cda50"
            ]
          }
        },
        "3b0e2634912d485c9ff73eac38b1e991": {
          "model_module": "@jupyter-widgets/base",
          "model_name": "LayoutModel",
          "state": {
            "_view_name": "LayoutView",
            "grid_template_rows": null,
            "right": null,
            "justify_content": null,
            "_view_module": "@jupyter-widgets/base",
            "overflow": null,
            "_model_module_version": "1.2.0",
            "_view_count": null,
            "flex_flow": null,
            "width": null,
            "min_width": null,
            "border": null,
            "align_items": null,
            "bottom": null,
            "_model_module": "@jupyter-widgets/base",
            "top": null,
            "grid_column": null,
            "overflow_y": null,
            "overflow_x": null,
            "grid_auto_flow": null,
            "grid_area": null,
            "grid_template_columns": null,
            "flex": null,
            "_model_name": "LayoutModel",
            "justify_items": null,
            "grid_row": null,
            "max_height": null,
            "align_content": null,
            "visibility": null,
            "align_self": null,
            "height": null,
            "min_height": null,
            "padding": null,
            "grid_auto_rows": null,
            "grid_gap": null,
            "max_width": null,
            "order": null,
            "_view_module_version": "1.2.0",
            "grid_template_areas": null,
            "object_position": null,
            "object_fit": null,
            "grid_auto_columns": null,
            "margin": null,
            "display": null,
            "left": null
          }
        },
        "09a1db7f39884dcdb31173384691ce9f": {
          "model_module": "@jupyter-widgets/controls",
          "model_name": "FloatProgressModel",
          "state": {
            "_view_name": "ProgressView",
            "style": "IPY_MODEL_8453f7e91d4240b89349c194d3ad01a6",
            "_dom_classes": [],
            "description": "",
            "_model_name": "FloatProgressModel",
            "bar_style": "info",
            "max": 1,
            "_view_module": "@jupyter-widgets/controls",
            "_model_module_version": "1.5.0",
            "value": 1,
            "_view_count": null,
            "_view_module_version": "1.5.0",
            "orientation": "horizontal",
            "min": 0,
            "description_tooltip": null,
            "_model_module": "@jupyter-widgets/controls",
            "layout": "IPY_MODEL_a7ed5360a3cf4156a57762e28cfade6a"
          }
        },
        "e116563dbb6a4f4a8fae31d1ca5cda50": {
          "model_module": "@jupyter-widgets/controls",
          "model_name": "HTMLModel",
          "state": {
            "_view_name": "HTMLView",
            "style": "IPY_MODEL_fd3e0bd38937404e822dde2ae56baeae",
            "_dom_classes": [],
            "description": "",
            "_model_name": "HTMLModel",
            "placeholder": "​",
            "_view_module": "@jupyter-widgets/controls",
            "_model_module_version": "1.5.0",
            "value": " 5426/0 [00:00&lt;00:00, 11902.30 examples/s]",
            "_view_count": null,
            "_view_module_version": "1.5.0",
            "description_tooltip": null,
            "_model_module": "@jupyter-widgets/controls",
            "layout": "IPY_MODEL_baa1c8f61b3242e18e5985dd277ef85b"
          }
        },
        "8453f7e91d4240b89349c194d3ad01a6": {
          "model_module": "@jupyter-widgets/controls",
          "model_name": "ProgressStyleModel",
          "state": {
            "_view_name": "StyleView",
            "_model_name": "ProgressStyleModel",
            "description_width": "initial",
            "_view_module": "@jupyter-widgets/base",
            "_model_module_version": "1.5.0",
            "_view_count": null,
            "_view_module_version": "1.2.0",
            "bar_color": null,
            "_model_module": "@jupyter-widgets/controls"
          }
        },
        "a7ed5360a3cf4156a57762e28cfade6a": {
          "model_module": "@jupyter-widgets/base",
          "model_name": "LayoutModel",
          "state": {
            "_view_name": "LayoutView",
            "grid_template_rows": null,
            "right": null,
            "justify_content": null,
            "_view_module": "@jupyter-widgets/base",
            "overflow": null,
            "_model_module_version": "1.2.0",
            "_view_count": null,
            "flex_flow": null,
            "width": null,
            "min_width": null,
            "border": null,
            "align_items": null,
            "bottom": null,
            "_model_module": "@jupyter-widgets/base",
            "top": null,
            "grid_column": null,
            "overflow_y": null,
            "overflow_x": null,
            "grid_auto_flow": null,
            "grid_area": null,
            "grid_template_columns": null,
            "flex": null,
            "_model_name": "LayoutModel",
            "justify_items": null,
            "grid_row": null,
            "max_height": null,
            "align_content": null,
            "visibility": null,
            "align_self": null,
            "height": null,
            "min_height": null,
            "padding": null,
            "grid_auto_rows": null,
            "grid_gap": null,
            "max_width": null,
            "order": null,
            "_view_module_version": "1.2.0",
            "grid_template_areas": null,
            "object_position": null,
            "object_fit": null,
            "grid_auto_columns": null,
            "margin": null,
            "display": null,
            "left": null
          }
        },
        "fd3e0bd38937404e822dde2ae56baeae": {
          "model_module": "@jupyter-widgets/controls",
          "model_name": "DescriptionStyleModel",
          "state": {
            "_view_name": "StyleView",
            "_model_name": "DescriptionStyleModel",
            "description_width": "",
            "_view_module": "@jupyter-widgets/base",
            "_model_module_version": "1.5.0",
            "_view_count": null,
            "_view_module_version": "1.2.0",
            "_model_module": "@jupyter-widgets/controls"
          }
        },
        "baa1c8f61b3242e18e5985dd277ef85b": {
          "model_module": "@jupyter-widgets/base",
          "model_name": "LayoutModel",
          "state": {
            "_view_name": "LayoutView",
            "grid_template_rows": null,
            "right": null,
            "justify_content": null,
            "_view_module": "@jupyter-widgets/base",
            "overflow": null,
            "_model_module_version": "1.2.0",
            "_view_count": null,
            "flex_flow": null,
            "width": null,
            "min_width": null,
            "border": null,
            "align_items": null,
            "bottom": null,
            "_model_module": "@jupyter-widgets/base",
            "top": null,
            "grid_column": null,
            "overflow_y": null,
            "overflow_x": null,
            "grid_auto_flow": null,
            "grid_area": null,
            "grid_template_columns": null,
            "flex": null,
            "_model_name": "LayoutModel",
            "justify_items": null,
            "grid_row": null,
            "max_height": null,
            "align_content": null,
            "visibility": null,
            "align_self": null,
            "height": null,
            "min_height": null,
            "padding": null,
            "grid_auto_rows": null,
            "grid_gap": null,
            "max_width": null,
            "order": null,
            "_view_module_version": "1.2.0",
            "grid_template_areas": null,
            "object_position": null,
            "object_fit": null,
            "grid_auto_columns": null,
            "margin": null,
            "display": null,
            "left": null
          }
        },
        "d0a2b66015694997a5a4f5f9285a4ee8": {
          "model_module": "@jupyter-widgets/controls",
          "model_name": "HBoxModel",
          "state": {
            "_view_name": "HBoxView",
            "_dom_classes": [],
            "_model_name": "HBoxModel",
            "_view_module": "@jupyter-widgets/controls",
            "_model_module_version": "1.5.0",
            "_view_count": null,
            "_view_module_version": "1.5.0",
            "box_style": "",
            "layout": "IPY_MODEL_a976086f6a7d427886bed3e55be87e8b",
            "_model_module": "@jupyter-widgets/controls",
            "children": [
              "IPY_MODEL_5b725885487e4f3497ec33fe1fd08335",
              "IPY_MODEL_cde7800a8fc0444fa62bc4fa27e99f54"
            ]
          }
        },
        "a976086f6a7d427886bed3e55be87e8b": {
          "model_module": "@jupyter-widgets/base",
          "model_name": "LayoutModel",
          "state": {
            "_view_name": "LayoutView",
            "grid_template_rows": null,
            "right": null,
            "justify_content": null,
            "_view_module": "@jupyter-widgets/base",
            "overflow": null,
            "_model_module_version": "1.2.0",
            "_view_count": null,
            "flex_flow": null,
            "width": null,
            "min_width": null,
            "border": null,
            "align_items": null,
            "bottom": null,
            "_model_module": "@jupyter-widgets/base",
            "top": null,
            "grid_column": null,
            "overflow_y": null,
            "overflow_x": null,
            "grid_auto_flow": null,
            "grid_area": null,
            "grid_template_columns": null,
            "flex": null,
            "_model_name": "LayoutModel",
            "justify_items": null,
            "grid_row": null,
            "max_height": null,
            "align_content": null,
            "visibility": null,
            "align_self": null,
            "height": null,
            "min_height": null,
            "padding": null,
            "grid_auto_rows": null,
            "grid_gap": null,
            "max_width": null,
            "order": null,
            "_view_module_version": "1.2.0",
            "grid_template_areas": null,
            "object_position": null,
            "object_fit": null,
            "grid_auto_columns": null,
            "margin": null,
            "display": null,
            "left": null
          }
        },
        "5b725885487e4f3497ec33fe1fd08335": {
          "model_module": "@jupyter-widgets/controls",
          "model_name": "FloatProgressModel",
          "state": {
            "_view_name": "ProgressView",
            "style": "IPY_MODEL_3577fc41b1c44662a4b83b6d8deb3852",
            "_dom_classes": [],
            "description": "",
            "_model_name": "FloatProgressModel",
            "bar_style": "info",
            "max": 1,
            "_view_module": "@jupyter-widgets/controls",
            "_model_module_version": "1.5.0",
            "value": 1,
            "_view_count": null,
            "_view_module_version": "1.5.0",
            "orientation": "horizontal",
            "min": 0,
            "description_tooltip": null,
            "_model_module": "@jupyter-widgets/controls",
            "layout": "IPY_MODEL_0a5a655345894e2cab376cc142d089c9"
          }
        },
        "cde7800a8fc0444fa62bc4fa27e99f54": {
          "model_module": "@jupyter-widgets/controls",
          "model_name": "HTMLModel",
          "state": {
            "_view_name": "HTMLView",
            "style": "IPY_MODEL_2a8b579cf432453eaa9a51643bd3b265",
            "_dom_classes": [],
            "description": "",
            "_model_name": "HTMLModel",
            "placeholder": "​",
            "_view_module": "@jupyter-widgets/controls",
            "_model_module_version": "1.5.0",
            "value": " 5427/0 [00:00&lt;00:00, 13702.06 examples/s]",
            "_view_count": null,
            "_view_module_version": "1.5.0",
            "description_tooltip": null,
            "_model_module": "@jupyter-widgets/controls",
            "layout": "IPY_MODEL_574e755eac154abb9e73c4781ccc042b"
          }
        },
        "3577fc41b1c44662a4b83b6d8deb3852": {
          "model_module": "@jupyter-widgets/controls",
          "model_name": "ProgressStyleModel",
          "state": {
            "_view_name": "StyleView",
            "_model_name": "ProgressStyleModel",
            "description_width": "initial",
            "_view_module": "@jupyter-widgets/base",
            "_model_module_version": "1.5.0",
            "_view_count": null,
            "_view_module_version": "1.2.0",
            "bar_color": null,
            "_model_module": "@jupyter-widgets/controls"
          }
        },
        "0a5a655345894e2cab376cc142d089c9": {
          "model_module": "@jupyter-widgets/base",
          "model_name": "LayoutModel",
          "state": {
            "_view_name": "LayoutView",
            "grid_template_rows": null,
            "right": null,
            "justify_content": null,
            "_view_module": "@jupyter-widgets/base",
            "overflow": null,
            "_model_module_version": "1.2.0",
            "_view_count": null,
            "flex_flow": null,
            "width": null,
            "min_width": null,
            "border": null,
            "align_items": null,
            "bottom": null,
            "_model_module": "@jupyter-widgets/base",
            "top": null,
            "grid_column": null,
            "overflow_y": null,
            "overflow_x": null,
            "grid_auto_flow": null,
            "grid_area": null,
            "grid_template_columns": null,
            "flex": null,
            "_model_name": "LayoutModel",
            "justify_items": null,
            "grid_row": null,
            "max_height": null,
            "align_content": null,
            "visibility": null,
            "align_self": null,
            "height": null,
            "min_height": null,
            "padding": null,
            "grid_auto_rows": null,
            "grid_gap": null,
            "max_width": null,
            "order": null,
            "_view_module_version": "1.2.0",
            "grid_template_areas": null,
            "object_position": null,
            "object_fit": null,
            "grid_auto_columns": null,
            "margin": null,
            "display": null,
            "left": null
          }
        },
        "2a8b579cf432453eaa9a51643bd3b265": {
          "model_module": "@jupyter-widgets/controls",
          "model_name": "DescriptionStyleModel",
          "state": {
            "_view_name": "StyleView",
            "_model_name": "DescriptionStyleModel",
            "description_width": "",
            "_view_module": "@jupyter-widgets/base",
            "_model_module_version": "1.5.0",
            "_view_count": null,
            "_view_module_version": "1.2.0",
            "_model_module": "@jupyter-widgets/controls"
          }
        },
        "574e755eac154abb9e73c4781ccc042b": {
          "model_module": "@jupyter-widgets/base",
          "model_name": "LayoutModel",
          "state": {
            "_view_name": "LayoutView",
            "grid_template_rows": null,
            "right": null,
            "justify_content": null,
            "_view_module": "@jupyter-widgets/base",
            "overflow": null,
            "_model_module_version": "1.2.0",
            "_view_count": null,
            "flex_flow": null,
            "width": null,
            "min_width": null,
            "border": null,
            "align_items": null,
            "bottom": null,
            "_model_module": "@jupyter-widgets/base",
            "top": null,
            "grid_column": null,
            "overflow_y": null,
            "overflow_x": null,
            "grid_auto_flow": null,
            "grid_area": null,
            "grid_template_columns": null,
            "flex": null,
            "_model_name": "LayoutModel",
            "justify_items": null,
            "grid_row": null,
            "max_height": null,
            "align_content": null,
            "visibility": null,
            "align_self": null,
            "height": null,
            "min_height": null,
            "padding": null,
            "grid_auto_rows": null,
            "grid_gap": null,
            "max_width": null,
            "order": null,
            "_view_module_version": "1.2.0",
            "grid_template_areas": null,
            "object_position": null,
            "object_fit": null,
            "grid_auto_columns": null,
            "margin": null,
            "display": null,
            "left": null
          }
        },
        "b740dd8f1c8645f2bb344ace48e1d7c3": {
          "model_module": "@jupyter-widgets/controls",
          "model_name": "HBoxModel",
          "state": {
            "_view_name": "HBoxView",
            "_dom_classes": [],
            "_model_name": "HBoxModel",
            "_view_module": "@jupyter-widgets/controls",
            "_model_module_version": "1.5.0",
            "_view_count": null,
            "_view_module_version": "1.5.0",
            "box_style": "",
            "layout": "IPY_MODEL_dc8c410330144f6bbc10bedf5b4cb326",
            "_model_module": "@jupyter-widgets/controls",
            "children": [
              "IPY_MODEL_59e36d12853b4ace9745f485fafc5432",
              "IPY_MODEL_d84644829c58428db2d0a9dea589f211"
            ]
          }
        },
        "dc8c410330144f6bbc10bedf5b4cb326": {
          "model_module": "@jupyter-widgets/base",
          "model_name": "LayoutModel",
          "state": {
            "_view_name": "LayoutView",
            "grid_template_rows": null,
            "right": null,
            "justify_content": null,
            "_view_module": "@jupyter-widgets/base",
            "overflow": null,
            "_model_module_version": "1.2.0",
            "_view_count": null,
            "flex_flow": null,
            "width": null,
            "min_width": null,
            "border": null,
            "align_items": null,
            "bottom": null,
            "_model_module": "@jupyter-widgets/base",
            "top": null,
            "grid_column": null,
            "overflow_y": null,
            "overflow_x": null,
            "grid_auto_flow": null,
            "grid_area": null,
            "grid_template_columns": null,
            "flex": null,
            "_model_name": "LayoutModel",
            "justify_items": null,
            "grid_row": null,
            "max_height": null,
            "align_content": null,
            "visibility": null,
            "align_self": null,
            "height": null,
            "min_height": null,
            "padding": null,
            "grid_auto_rows": null,
            "grid_gap": null,
            "max_width": null,
            "order": null,
            "_view_module_version": "1.2.0",
            "grid_template_areas": null,
            "object_position": null,
            "object_fit": null,
            "grid_auto_columns": null,
            "margin": null,
            "display": null,
            "left": null
          }
        },
        "59e36d12853b4ace9745f485fafc5432": {
          "model_module": "@jupyter-widgets/controls",
          "model_name": "FloatProgressModel",
          "state": {
            "_view_name": "ProgressView",
            "style": "IPY_MODEL_266584b326944012b356f6daa352c0e1",
            "_dom_classes": [],
            "description": "100%",
            "_model_name": "FloatProgressModel",
            "bar_style": "success",
            "max": 44,
            "_view_module": "@jupyter-widgets/controls",
            "_model_module_version": "1.5.0",
            "value": 44,
            "_view_count": null,
            "_view_module_version": "1.5.0",
            "orientation": "horizontal",
            "min": 0,
            "description_tooltip": null,
            "_model_module": "@jupyter-widgets/controls",
            "layout": "IPY_MODEL_62a5bce88c434acfba7f0560ffd9efa2"
          }
        },
        "d84644829c58428db2d0a9dea589f211": {
          "model_module": "@jupyter-widgets/controls",
          "model_name": "HTMLModel",
          "state": {
            "_view_name": "HTMLView",
            "style": "IPY_MODEL_13fb7a16e11a42b4bdc80d1fab26eaae",
            "_dom_classes": [],
            "description": "",
            "_model_name": "HTMLModel",
            "placeholder": "​",
            "_view_module": "@jupyter-widgets/controls",
            "_model_module_version": "1.5.0",
            "value": " 44/44 [00:02&lt;00:00, 20.15ba/s]",
            "_view_count": null,
            "_view_module_version": "1.5.0",
            "description_tooltip": null,
            "_model_module": "@jupyter-widgets/controls",
            "layout": "IPY_MODEL_80868aadcd184825affbf9faeee002f4"
          }
        },
        "266584b326944012b356f6daa352c0e1": {
          "model_module": "@jupyter-widgets/controls",
          "model_name": "ProgressStyleModel",
          "state": {
            "_view_name": "StyleView",
            "_model_name": "ProgressStyleModel",
            "description_width": "initial",
            "_view_module": "@jupyter-widgets/base",
            "_model_module_version": "1.5.0",
            "_view_count": null,
            "_view_module_version": "1.2.0",
            "bar_color": null,
            "_model_module": "@jupyter-widgets/controls"
          }
        },
        "62a5bce88c434acfba7f0560ffd9efa2": {
          "model_module": "@jupyter-widgets/base",
          "model_name": "LayoutModel",
          "state": {
            "_view_name": "LayoutView",
            "grid_template_rows": null,
            "right": null,
            "justify_content": null,
            "_view_module": "@jupyter-widgets/base",
            "overflow": null,
            "_model_module_version": "1.2.0",
            "_view_count": null,
            "flex_flow": null,
            "width": null,
            "min_width": null,
            "border": null,
            "align_items": null,
            "bottom": null,
            "_model_module": "@jupyter-widgets/base",
            "top": null,
            "grid_column": null,
            "overflow_y": null,
            "overflow_x": null,
            "grid_auto_flow": null,
            "grid_area": null,
            "grid_template_columns": null,
            "flex": null,
            "_model_name": "LayoutModel",
            "justify_items": null,
            "grid_row": null,
            "max_height": null,
            "align_content": null,
            "visibility": null,
            "align_self": null,
            "height": null,
            "min_height": null,
            "padding": null,
            "grid_auto_rows": null,
            "grid_gap": null,
            "max_width": null,
            "order": null,
            "_view_module_version": "1.2.0",
            "grid_template_areas": null,
            "object_position": null,
            "object_fit": null,
            "grid_auto_columns": null,
            "margin": null,
            "display": null,
            "left": null
          }
        },
        "13fb7a16e11a42b4bdc80d1fab26eaae": {
          "model_module": "@jupyter-widgets/controls",
          "model_name": "DescriptionStyleModel",
          "state": {
            "_view_name": "StyleView",
            "_model_name": "DescriptionStyleModel",
            "description_width": "",
            "_view_module": "@jupyter-widgets/base",
            "_model_module_version": "1.5.0",
            "_view_count": null,
            "_view_module_version": "1.2.0",
            "_model_module": "@jupyter-widgets/controls"
          }
        },
        "80868aadcd184825affbf9faeee002f4": {
          "model_module": "@jupyter-widgets/base",
          "model_name": "LayoutModel",
          "state": {
            "_view_name": "LayoutView",
            "grid_template_rows": null,
            "right": null,
            "justify_content": null,
            "_view_module": "@jupyter-widgets/base",
            "overflow": null,
            "_model_module_version": "1.2.0",
            "_view_count": null,
            "flex_flow": null,
            "width": null,
            "min_width": null,
            "border": null,
            "align_items": null,
            "bottom": null,
            "_model_module": "@jupyter-widgets/base",
            "top": null,
            "grid_column": null,
            "overflow_y": null,
            "overflow_x": null,
            "grid_auto_flow": null,
            "grid_area": null,
            "grid_template_columns": null,
            "flex": null,
            "_model_name": "LayoutModel",
            "justify_items": null,
            "grid_row": null,
            "max_height": null,
            "align_content": null,
            "visibility": null,
            "align_self": null,
            "height": null,
            "min_height": null,
            "padding": null,
            "grid_auto_rows": null,
            "grid_gap": null,
            "max_width": null,
            "order": null,
            "_view_module_version": "1.2.0",
            "grid_template_areas": null,
            "object_position": null,
            "object_fit": null,
            "grid_auto_columns": null,
            "margin": null,
            "display": null,
            "left": null
          }
        },
        "1bb9bf8fdc254e758bbd7f5759a1a850": {
          "model_module": "@jupyter-widgets/controls",
          "model_name": "HBoxModel",
          "state": {
            "_view_name": "HBoxView",
            "_dom_classes": [],
            "_model_name": "HBoxModel",
            "_view_module": "@jupyter-widgets/controls",
            "_model_module_version": "1.5.0",
            "_view_count": null,
            "_view_module_version": "1.5.0",
            "box_style": "",
            "layout": "IPY_MODEL_f679a492c5604084a8ad77fdef2b4b98",
            "_model_module": "@jupyter-widgets/controls",
            "children": [
              "IPY_MODEL_c0fa8eaee0b848b0bd97c6beb235fb71",
              "IPY_MODEL_995baaa119ec472e8d9e0066e4fcc6e8"
            ]
          }
        },
        "f679a492c5604084a8ad77fdef2b4b98": {
          "model_module": "@jupyter-widgets/base",
          "model_name": "LayoutModel",
          "state": {
            "_view_name": "LayoutView",
            "grid_template_rows": null,
            "right": null,
            "justify_content": null,
            "_view_module": "@jupyter-widgets/base",
            "overflow": null,
            "_model_module_version": "1.2.0",
            "_view_count": null,
            "flex_flow": null,
            "width": null,
            "min_width": null,
            "border": null,
            "align_items": null,
            "bottom": null,
            "_model_module": "@jupyter-widgets/base",
            "top": null,
            "grid_column": null,
            "overflow_y": null,
            "overflow_x": null,
            "grid_auto_flow": null,
            "grid_area": null,
            "grid_template_columns": null,
            "flex": null,
            "_model_name": "LayoutModel",
            "justify_items": null,
            "grid_row": null,
            "max_height": null,
            "align_content": null,
            "visibility": null,
            "align_self": null,
            "height": null,
            "min_height": null,
            "padding": null,
            "grid_auto_rows": null,
            "grid_gap": null,
            "max_width": null,
            "order": null,
            "_view_module_version": "1.2.0",
            "grid_template_areas": null,
            "object_position": null,
            "object_fit": null,
            "grid_auto_columns": null,
            "margin": null,
            "display": null,
            "left": null
          }
        },
        "c0fa8eaee0b848b0bd97c6beb235fb71": {
          "model_module": "@jupyter-widgets/controls",
          "model_name": "FloatProgressModel",
          "state": {
            "_view_name": "ProgressView",
            "style": "IPY_MODEL_afa9959dabfe4fab86ebea738926a242",
            "_dom_classes": [],
            "description": "100%",
            "_model_name": "FloatProgressModel",
            "bar_style": "success",
            "max": 6,
            "_view_module": "@jupyter-widgets/controls",
            "_model_module_version": "1.5.0",
            "value": 6,
            "_view_count": null,
            "_view_module_version": "1.5.0",
            "orientation": "horizontal",
            "min": 0,
            "description_tooltip": null,
            "_model_module": "@jupyter-widgets/controls",
            "layout": "IPY_MODEL_7e48291efe454ef79acf3c368da7044b"
          }
        },
        "995baaa119ec472e8d9e0066e4fcc6e8": {
          "model_module": "@jupyter-widgets/controls",
          "model_name": "HTMLModel",
          "state": {
            "_view_name": "HTMLView",
            "style": "IPY_MODEL_5a6779df9f4843e9bad183b42edbbea4",
            "_dom_classes": [],
            "description": "",
            "_model_name": "HTMLModel",
            "placeholder": "​",
            "_view_module": "@jupyter-widgets/controls",
            "_model_module_version": "1.5.0",
            "value": " 6/6 [00:00&lt;00:00, 16.75ba/s]",
            "_view_count": null,
            "_view_module_version": "1.5.0",
            "description_tooltip": null,
            "_model_module": "@jupyter-widgets/controls",
            "layout": "IPY_MODEL_d91b1888ab014599ae233f0ddf1cc858"
          }
        },
        "afa9959dabfe4fab86ebea738926a242": {
          "model_module": "@jupyter-widgets/controls",
          "model_name": "ProgressStyleModel",
          "state": {
            "_view_name": "StyleView",
            "_model_name": "ProgressStyleModel",
            "description_width": "initial",
            "_view_module": "@jupyter-widgets/base",
            "_model_module_version": "1.5.0",
            "_view_count": null,
            "_view_module_version": "1.2.0",
            "bar_color": null,
            "_model_module": "@jupyter-widgets/controls"
          }
        },
        "7e48291efe454ef79acf3c368da7044b": {
          "model_module": "@jupyter-widgets/base",
          "model_name": "LayoutModel",
          "state": {
            "_view_name": "LayoutView",
            "grid_template_rows": null,
            "right": null,
            "justify_content": null,
            "_view_module": "@jupyter-widgets/base",
            "overflow": null,
            "_model_module_version": "1.2.0",
            "_view_count": null,
            "flex_flow": null,
            "width": null,
            "min_width": null,
            "border": null,
            "align_items": null,
            "bottom": null,
            "_model_module": "@jupyter-widgets/base",
            "top": null,
            "grid_column": null,
            "overflow_y": null,
            "overflow_x": null,
            "grid_auto_flow": null,
            "grid_area": null,
            "grid_template_columns": null,
            "flex": null,
            "_model_name": "LayoutModel",
            "justify_items": null,
            "grid_row": null,
            "max_height": null,
            "align_content": null,
            "visibility": null,
            "align_self": null,
            "height": null,
            "min_height": null,
            "padding": null,
            "grid_auto_rows": null,
            "grid_gap": null,
            "max_width": null,
            "order": null,
            "_view_module_version": "1.2.0",
            "grid_template_areas": null,
            "object_position": null,
            "object_fit": null,
            "grid_auto_columns": null,
            "margin": null,
            "display": null,
            "left": null
          }
        },
        "5a6779df9f4843e9bad183b42edbbea4": {
          "model_module": "@jupyter-widgets/controls",
          "model_name": "DescriptionStyleModel",
          "state": {
            "_view_name": "StyleView",
            "_model_name": "DescriptionStyleModel",
            "description_width": "",
            "_view_module": "@jupyter-widgets/base",
            "_model_module_version": "1.5.0",
            "_view_count": null,
            "_view_module_version": "1.2.0",
            "_model_module": "@jupyter-widgets/controls"
          }
        },
        "d91b1888ab014599ae233f0ddf1cc858": {
          "model_module": "@jupyter-widgets/base",
          "model_name": "LayoutModel",
          "state": {
            "_view_name": "LayoutView",
            "grid_template_rows": null,
            "right": null,
            "justify_content": null,
            "_view_module": "@jupyter-widgets/base",
            "overflow": null,
            "_model_module_version": "1.2.0",
            "_view_count": null,
            "flex_flow": null,
            "width": null,
            "min_width": null,
            "border": null,
            "align_items": null,
            "bottom": null,
            "_model_module": "@jupyter-widgets/base",
            "top": null,
            "grid_column": null,
            "overflow_y": null,
            "overflow_x": null,
            "grid_auto_flow": null,
            "grid_area": null,
            "grid_template_columns": null,
            "flex": null,
            "_model_name": "LayoutModel",
            "justify_items": null,
            "grid_row": null,
            "max_height": null,
            "align_content": null,
            "visibility": null,
            "align_self": null,
            "height": null,
            "min_height": null,
            "padding": null,
            "grid_auto_rows": null,
            "grid_gap": null,
            "max_width": null,
            "order": null,
            "_view_module_version": "1.2.0",
            "grid_template_areas": null,
            "object_position": null,
            "object_fit": null,
            "grid_auto_columns": null,
            "margin": null,
            "display": null,
            "left": null
          }
        },
        "34697e49d17d42c49f16058a71628f79": {
          "model_module": "@jupyter-widgets/controls",
          "model_name": "HBoxModel",
          "state": {
            "_view_name": "HBoxView",
            "_dom_classes": [],
            "_model_name": "HBoxModel",
            "_view_module": "@jupyter-widgets/controls",
            "_model_module_version": "1.5.0",
            "_view_count": null,
            "_view_module_version": "1.5.0",
            "box_style": "",
            "layout": "IPY_MODEL_0f26014f098944e1bba460967dff2f41",
            "_model_module": "@jupyter-widgets/controls",
            "children": [
              "IPY_MODEL_d7d091abb0224cc2927d7e956f64acfa",
              "IPY_MODEL_4f72423fe8554350a035fb25697910c1"
            ]
          }
        },
        "0f26014f098944e1bba460967dff2f41": {
          "model_module": "@jupyter-widgets/base",
          "model_name": "LayoutModel",
          "state": {
            "_view_name": "LayoutView",
            "grid_template_rows": null,
            "right": null,
            "justify_content": null,
            "_view_module": "@jupyter-widgets/base",
            "overflow": null,
            "_model_module_version": "1.2.0",
            "_view_count": null,
            "flex_flow": null,
            "width": null,
            "min_width": null,
            "border": null,
            "align_items": null,
            "bottom": null,
            "_model_module": "@jupyter-widgets/base",
            "top": null,
            "grid_column": null,
            "overflow_y": null,
            "overflow_x": null,
            "grid_auto_flow": null,
            "grid_area": null,
            "grid_template_columns": null,
            "flex": null,
            "_model_name": "LayoutModel",
            "justify_items": null,
            "grid_row": null,
            "max_height": null,
            "align_content": null,
            "visibility": null,
            "align_self": null,
            "height": null,
            "min_height": null,
            "padding": null,
            "grid_auto_rows": null,
            "grid_gap": null,
            "max_width": null,
            "order": null,
            "_view_module_version": "1.2.0",
            "grid_template_areas": null,
            "object_position": null,
            "object_fit": null,
            "grid_auto_columns": null,
            "margin": null,
            "display": null,
            "left": null
          }
        },
        "d7d091abb0224cc2927d7e956f64acfa": {
          "model_module": "@jupyter-widgets/controls",
          "model_name": "FloatProgressModel",
          "state": {
            "_view_name": "ProgressView",
            "style": "IPY_MODEL_7de8159a49a048589efe05cba4903d43",
            "_dom_classes": [],
            "description": "100%",
            "_model_name": "FloatProgressModel",
            "bar_style": "success",
            "max": 6,
            "_view_module": "@jupyter-widgets/controls",
            "_model_module_version": "1.5.0",
            "value": 6,
            "_view_count": null,
            "_view_module_version": "1.5.0",
            "orientation": "horizontal",
            "min": 0,
            "description_tooltip": null,
            "_model_module": "@jupyter-widgets/controls",
            "layout": "IPY_MODEL_f28800ed52fa43708baa570fc7bef3e3"
          }
        },
        "4f72423fe8554350a035fb25697910c1": {
          "model_module": "@jupyter-widgets/controls",
          "model_name": "HTMLModel",
          "state": {
            "_view_name": "HTMLView",
            "style": "IPY_MODEL_f296a8dbb06f44a385e73635237705af",
            "_dom_classes": [],
            "description": "",
            "_model_name": "HTMLModel",
            "placeholder": "​",
            "_view_module": "@jupyter-widgets/controls",
            "_model_module_version": "1.5.0",
            "value": " 6/6 [00:00&lt;00:00, 12.24ba/s]",
            "_view_count": null,
            "_view_module_version": "1.5.0",
            "description_tooltip": null,
            "_model_module": "@jupyter-widgets/controls",
            "layout": "IPY_MODEL_3038d394aa1f4a4aa3ba6f66299e0b47"
          }
        },
        "7de8159a49a048589efe05cba4903d43": {
          "model_module": "@jupyter-widgets/controls",
          "model_name": "ProgressStyleModel",
          "state": {
            "_view_name": "StyleView",
            "_model_name": "ProgressStyleModel",
            "description_width": "initial",
            "_view_module": "@jupyter-widgets/base",
            "_model_module_version": "1.5.0",
            "_view_count": null,
            "_view_module_version": "1.2.0",
            "bar_color": null,
            "_model_module": "@jupyter-widgets/controls"
          }
        },
        "f28800ed52fa43708baa570fc7bef3e3": {
          "model_module": "@jupyter-widgets/base",
          "model_name": "LayoutModel",
          "state": {
            "_view_name": "LayoutView",
            "grid_template_rows": null,
            "right": null,
            "justify_content": null,
            "_view_module": "@jupyter-widgets/base",
            "overflow": null,
            "_model_module_version": "1.2.0",
            "_view_count": null,
            "flex_flow": null,
            "width": null,
            "min_width": null,
            "border": null,
            "align_items": null,
            "bottom": null,
            "_model_module": "@jupyter-widgets/base",
            "top": null,
            "grid_column": null,
            "overflow_y": null,
            "overflow_x": null,
            "grid_auto_flow": null,
            "grid_area": null,
            "grid_template_columns": null,
            "flex": null,
            "_model_name": "LayoutModel",
            "justify_items": null,
            "grid_row": null,
            "max_height": null,
            "align_content": null,
            "visibility": null,
            "align_self": null,
            "height": null,
            "min_height": null,
            "padding": null,
            "grid_auto_rows": null,
            "grid_gap": null,
            "max_width": null,
            "order": null,
            "_view_module_version": "1.2.0",
            "grid_template_areas": null,
            "object_position": null,
            "object_fit": null,
            "grid_auto_columns": null,
            "margin": null,
            "display": null,
            "left": null
          }
        },
        "f296a8dbb06f44a385e73635237705af": {
          "model_module": "@jupyter-widgets/controls",
          "model_name": "DescriptionStyleModel",
          "state": {
            "_view_name": "StyleView",
            "_model_name": "DescriptionStyleModel",
            "description_width": "",
            "_view_module": "@jupyter-widgets/base",
            "_model_module_version": "1.5.0",
            "_view_count": null,
            "_view_module_version": "1.2.0",
            "_model_module": "@jupyter-widgets/controls"
          }
        },
        "3038d394aa1f4a4aa3ba6f66299e0b47": {
          "model_module": "@jupyter-widgets/base",
          "model_name": "LayoutModel",
          "state": {
            "_view_name": "LayoutView",
            "grid_template_rows": null,
            "right": null,
            "justify_content": null,
            "_view_module": "@jupyter-widgets/base",
            "overflow": null,
            "_model_module_version": "1.2.0",
            "_view_count": null,
            "flex_flow": null,
            "width": null,
            "min_width": null,
            "border": null,
            "align_items": null,
            "bottom": null,
            "_model_module": "@jupyter-widgets/base",
            "top": null,
            "grid_column": null,
            "overflow_y": null,
            "overflow_x": null,
            "grid_auto_flow": null,
            "grid_area": null,
            "grid_template_columns": null,
            "flex": null,
            "_model_name": "LayoutModel",
            "justify_items": null,
            "grid_row": null,
            "max_height": null,
            "align_content": null,
            "visibility": null,
            "align_self": null,
            "height": null,
            "min_height": null,
            "padding": null,
            "grid_auto_rows": null,
            "grid_gap": null,
            "max_width": null,
            "order": null,
            "_view_module_version": "1.2.0",
            "grid_template_areas": null,
            "object_position": null,
            "object_fit": null,
            "grid_auto_columns": null,
            "margin": null,
            "display": null,
            "left": null
          }
        },
        "38e34687b890429894bba59ca48c07dd": {
          "model_module": "@jupyter-widgets/controls",
          "model_name": "HBoxModel",
          "state": {
            "_view_name": "HBoxView",
            "_dom_classes": [],
            "_model_name": "HBoxModel",
            "_view_module": "@jupyter-widgets/controls",
            "_model_module_version": "1.5.0",
            "_view_count": null,
            "_view_module_version": "1.5.0",
            "box_style": "",
            "layout": "IPY_MODEL_109c9a5a48bc4a08969c45185abe4dc1",
            "_model_module": "@jupyter-widgets/controls",
            "children": [
              "IPY_MODEL_9d01a4a0ef2742d1ada5cbf38135871f",
              "IPY_MODEL_5451adf19b9646cea5dce03ac5f79057"
            ]
          }
        },
        "109c9a5a48bc4a08969c45185abe4dc1": {
          "model_module": "@jupyter-widgets/base",
          "model_name": "LayoutModel",
          "state": {
            "_view_name": "LayoutView",
            "grid_template_rows": null,
            "right": null,
            "justify_content": null,
            "_view_module": "@jupyter-widgets/base",
            "overflow": null,
            "_model_module_version": "1.2.0",
            "_view_count": null,
            "flex_flow": null,
            "width": null,
            "min_width": null,
            "border": null,
            "align_items": null,
            "bottom": null,
            "_model_module": "@jupyter-widgets/base",
            "top": null,
            "grid_column": null,
            "overflow_y": null,
            "overflow_x": null,
            "grid_auto_flow": null,
            "grid_area": null,
            "grid_template_columns": null,
            "flex": null,
            "_model_name": "LayoutModel",
            "justify_items": null,
            "grid_row": null,
            "max_height": null,
            "align_content": null,
            "visibility": null,
            "align_self": null,
            "height": null,
            "min_height": null,
            "padding": null,
            "grid_auto_rows": null,
            "grid_gap": null,
            "max_width": null,
            "order": null,
            "_view_module_version": "1.2.0",
            "grid_template_areas": null,
            "object_position": null,
            "object_fit": null,
            "grid_auto_columns": null,
            "margin": null,
            "display": null,
            "left": null
          }
        },
        "9d01a4a0ef2742d1ada5cbf38135871f": {
          "model_module": "@jupyter-widgets/controls",
          "model_name": "FloatProgressModel",
          "state": {
            "_view_name": "ProgressView",
            "style": "IPY_MODEL_1d30080c512146f482f784b852dd4216",
            "_dom_classes": [],
            "description": "Downloading: 100%",
            "_model_name": "FloatProgressModel",
            "bar_style": "success",
            "max": 442,
            "_view_module": "@jupyter-widgets/controls",
            "_model_module_version": "1.5.0",
            "value": 442,
            "_view_count": null,
            "_view_module_version": "1.5.0",
            "orientation": "horizontal",
            "min": 0,
            "description_tooltip": null,
            "_model_module": "@jupyter-widgets/controls",
            "layout": "IPY_MODEL_1fa0061ae7404974a680894f380882b2"
          }
        },
        "5451adf19b9646cea5dce03ac5f79057": {
          "model_module": "@jupyter-widgets/controls",
          "model_name": "HTMLModel",
          "state": {
            "_view_name": "HTMLView",
            "style": "IPY_MODEL_c8c7c2abb2564bfc91117d4a7e9a15f6",
            "_dom_classes": [],
            "description": "",
            "_model_name": "HTMLModel",
            "placeholder": "​",
            "_view_module": "@jupyter-widgets/controls",
            "_model_module_version": "1.5.0",
            "value": " 442/442 [00:06&lt;00:00, 66.7B/s]",
            "_view_count": null,
            "_view_module_version": "1.5.0",
            "description_tooltip": null,
            "_model_module": "@jupyter-widgets/controls",
            "layout": "IPY_MODEL_34ebd0eb5c9b42bea8020a7e6cdee799"
          }
        },
        "1d30080c512146f482f784b852dd4216": {
          "model_module": "@jupyter-widgets/controls",
          "model_name": "ProgressStyleModel",
          "state": {
            "_view_name": "StyleView",
            "_model_name": "ProgressStyleModel",
            "description_width": "initial",
            "_view_module": "@jupyter-widgets/base",
            "_model_module_version": "1.5.0",
            "_view_count": null,
            "_view_module_version": "1.2.0",
            "bar_color": null,
            "_model_module": "@jupyter-widgets/controls"
          }
        },
        "1fa0061ae7404974a680894f380882b2": {
          "model_module": "@jupyter-widgets/base",
          "model_name": "LayoutModel",
          "state": {
            "_view_name": "LayoutView",
            "grid_template_rows": null,
            "right": null,
            "justify_content": null,
            "_view_module": "@jupyter-widgets/base",
            "overflow": null,
            "_model_module_version": "1.2.0",
            "_view_count": null,
            "flex_flow": null,
            "width": null,
            "min_width": null,
            "border": null,
            "align_items": null,
            "bottom": null,
            "_model_module": "@jupyter-widgets/base",
            "top": null,
            "grid_column": null,
            "overflow_y": null,
            "overflow_x": null,
            "grid_auto_flow": null,
            "grid_area": null,
            "grid_template_columns": null,
            "flex": null,
            "_model_name": "LayoutModel",
            "justify_items": null,
            "grid_row": null,
            "max_height": null,
            "align_content": null,
            "visibility": null,
            "align_self": null,
            "height": null,
            "min_height": null,
            "padding": null,
            "grid_auto_rows": null,
            "grid_gap": null,
            "max_width": null,
            "order": null,
            "_view_module_version": "1.2.0",
            "grid_template_areas": null,
            "object_position": null,
            "object_fit": null,
            "grid_auto_columns": null,
            "margin": null,
            "display": null,
            "left": null
          }
        },
        "c8c7c2abb2564bfc91117d4a7e9a15f6": {
          "model_module": "@jupyter-widgets/controls",
          "model_name": "DescriptionStyleModel",
          "state": {
            "_view_name": "StyleView",
            "_model_name": "DescriptionStyleModel",
            "description_width": "",
            "_view_module": "@jupyter-widgets/base",
            "_model_module_version": "1.5.0",
            "_view_count": null,
            "_view_module_version": "1.2.0",
            "_model_module": "@jupyter-widgets/controls"
          }
        },
        "34ebd0eb5c9b42bea8020a7e6cdee799": {
          "model_module": "@jupyter-widgets/base",
          "model_name": "LayoutModel",
          "state": {
            "_view_name": "LayoutView",
            "grid_template_rows": null,
            "right": null,
            "justify_content": null,
            "_view_module": "@jupyter-widgets/base",
            "overflow": null,
            "_model_module_version": "1.2.0",
            "_view_count": null,
            "flex_flow": null,
            "width": null,
            "min_width": null,
            "border": null,
            "align_items": null,
            "bottom": null,
            "_model_module": "@jupyter-widgets/base",
            "top": null,
            "grid_column": null,
            "overflow_y": null,
            "overflow_x": null,
            "grid_auto_flow": null,
            "grid_area": null,
            "grid_template_columns": null,
            "flex": null,
            "_model_name": "LayoutModel",
            "justify_items": null,
            "grid_row": null,
            "max_height": null,
            "align_content": null,
            "visibility": null,
            "align_self": null,
            "height": null,
            "min_height": null,
            "padding": null,
            "grid_auto_rows": null,
            "grid_gap": null,
            "max_width": null,
            "order": null,
            "_view_module_version": "1.2.0",
            "grid_template_areas": null,
            "object_position": null,
            "object_fit": null,
            "grid_auto_columns": null,
            "margin": null,
            "display": null,
            "left": null
          }
        },
        "4d9693db347444faacefe99e56734b9f": {
          "model_module": "@jupyter-widgets/controls",
          "model_name": "HBoxModel",
          "state": {
            "_view_name": "HBoxView",
            "_dom_classes": [],
            "_model_name": "HBoxModel",
            "_view_module": "@jupyter-widgets/controls",
            "_model_module_version": "1.5.0",
            "_view_count": null,
            "_view_module_version": "1.5.0",
            "box_style": "",
            "layout": "IPY_MODEL_bd78d57c65ff4dd8bee354e3ce58b791",
            "_model_module": "@jupyter-widgets/controls",
            "children": [
              "IPY_MODEL_34e58a7406f64eb3a501915bfbd76645",
              "IPY_MODEL_1f9a7289a7ce46b18a20629de22df3ed"
            ]
          }
        },
        "bd78d57c65ff4dd8bee354e3ce58b791": {
          "model_module": "@jupyter-widgets/base",
          "model_name": "LayoutModel",
          "state": {
            "_view_name": "LayoutView",
            "grid_template_rows": null,
            "right": null,
            "justify_content": null,
            "_view_module": "@jupyter-widgets/base",
            "overflow": null,
            "_model_module_version": "1.2.0",
            "_view_count": null,
            "flex_flow": null,
            "width": null,
            "min_width": null,
            "border": null,
            "align_items": null,
            "bottom": null,
            "_model_module": "@jupyter-widgets/base",
            "top": null,
            "grid_column": null,
            "overflow_y": null,
            "overflow_x": null,
            "grid_auto_flow": null,
            "grid_area": null,
            "grid_template_columns": null,
            "flex": null,
            "_model_name": "LayoutModel",
            "justify_items": null,
            "grid_row": null,
            "max_height": null,
            "align_content": null,
            "visibility": null,
            "align_self": null,
            "height": null,
            "min_height": null,
            "padding": null,
            "grid_auto_rows": null,
            "grid_gap": null,
            "max_width": null,
            "order": null,
            "_view_module_version": "1.2.0",
            "grid_template_areas": null,
            "object_position": null,
            "object_fit": null,
            "grid_auto_columns": null,
            "margin": null,
            "display": null,
            "left": null
          }
        },
        "34e58a7406f64eb3a501915bfbd76645": {
          "model_module": "@jupyter-widgets/controls",
          "model_name": "FloatProgressModel",
          "state": {
            "_view_name": "ProgressView",
            "style": "IPY_MODEL_6b7e16713a054c7fb43048ea09d3431d",
            "_dom_classes": [],
            "description": "Downloading: 100%",
            "_model_name": "FloatProgressModel",
            "bar_style": "success",
            "max": 231508,
            "_view_module": "@jupyter-widgets/controls",
            "_model_module_version": "1.5.0",
            "value": 231508,
            "_view_count": null,
            "_view_module_version": "1.5.0",
            "orientation": "horizontal",
            "min": 0,
            "description_tooltip": null,
            "_model_module": "@jupyter-widgets/controls",
            "layout": "IPY_MODEL_ea33fd8a15f445339e8318308beb05fd"
          }
        },
        "1f9a7289a7ce46b18a20629de22df3ed": {
          "model_module": "@jupyter-widgets/controls",
          "model_name": "HTMLModel",
          "state": {
            "_view_name": "HTMLView",
            "style": "IPY_MODEL_9906a9548dee4e16967cd3067851fc39",
            "_dom_classes": [],
            "description": "",
            "_model_name": "HTMLModel",
            "placeholder": "​",
            "_view_module": "@jupyter-widgets/controls",
            "_model_module_version": "1.5.0",
            "value": " 232k/232k [00:01&lt;00:00, 126kB/s]",
            "_view_count": null,
            "_view_module_version": "1.5.0",
            "description_tooltip": null,
            "_model_module": "@jupyter-widgets/controls",
            "layout": "IPY_MODEL_41a34f9e0f0249ae801f371930204217"
          }
        },
        "6b7e16713a054c7fb43048ea09d3431d": {
          "model_module": "@jupyter-widgets/controls",
          "model_name": "ProgressStyleModel",
          "state": {
            "_view_name": "StyleView",
            "_model_name": "ProgressStyleModel",
            "description_width": "initial",
            "_view_module": "@jupyter-widgets/base",
            "_model_module_version": "1.5.0",
            "_view_count": null,
            "_view_module_version": "1.2.0",
            "bar_color": null,
            "_model_module": "@jupyter-widgets/controls"
          }
        },
        "ea33fd8a15f445339e8318308beb05fd": {
          "model_module": "@jupyter-widgets/base",
          "model_name": "LayoutModel",
          "state": {
            "_view_name": "LayoutView",
            "grid_template_rows": null,
            "right": null,
            "justify_content": null,
            "_view_module": "@jupyter-widgets/base",
            "overflow": null,
            "_model_module_version": "1.2.0",
            "_view_count": null,
            "flex_flow": null,
            "width": null,
            "min_width": null,
            "border": null,
            "align_items": null,
            "bottom": null,
            "_model_module": "@jupyter-widgets/base",
            "top": null,
            "grid_column": null,
            "overflow_y": null,
            "overflow_x": null,
            "grid_auto_flow": null,
            "grid_area": null,
            "grid_template_columns": null,
            "flex": null,
            "_model_name": "LayoutModel",
            "justify_items": null,
            "grid_row": null,
            "max_height": null,
            "align_content": null,
            "visibility": null,
            "align_self": null,
            "height": null,
            "min_height": null,
            "padding": null,
            "grid_auto_rows": null,
            "grid_gap": null,
            "max_width": null,
            "order": null,
            "_view_module_version": "1.2.0",
            "grid_template_areas": null,
            "object_position": null,
            "object_fit": null,
            "grid_auto_columns": null,
            "margin": null,
            "display": null,
            "left": null
          }
        },
        "9906a9548dee4e16967cd3067851fc39": {
          "model_module": "@jupyter-widgets/controls",
          "model_name": "DescriptionStyleModel",
          "state": {
            "_view_name": "StyleView",
            "_model_name": "DescriptionStyleModel",
            "description_width": "",
            "_view_module": "@jupyter-widgets/base",
            "_model_module_version": "1.5.0",
            "_view_count": null,
            "_view_module_version": "1.2.0",
            "_model_module": "@jupyter-widgets/controls"
          }
        },
        "41a34f9e0f0249ae801f371930204217": {
          "model_module": "@jupyter-widgets/base",
          "model_name": "LayoutModel",
          "state": {
            "_view_name": "LayoutView",
            "grid_template_rows": null,
            "right": null,
            "justify_content": null,
            "_view_module": "@jupyter-widgets/base",
            "overflow": null,
            "_model_module_version": "1.2.0",
            "_view_count": null,
            "flex_flow": null,
            "width": null,
            "min_width": null,
            "border": null,
            "align_items": null,
            "bottom": null,
            "_model_module": "@jupyter-widgets/base",
            "top": null,
            "grid_column": null,
            "overflow_y": null,
            "overflow_x": null,
            "grid_auto_flow": null,
            "grid_area": null,
            "grid_template_columns": null,
            "flex": null,
            "_model_name": "LayoutModel",
            "justify_items": null,
            "grid_row": null,
            "max_height": null,
            "align_content": null,
            "visibility": null,
            "align_self": null,
            "height": null,
            "min_height": null,
            "padding": null,
            "grid_auto_rows": null,
            "grid_gap": null,
            "max_width": null,
            "order": null,
            "_view_module_version": "1.2.0",
            "grid_template_areas": null,
            "object_position": null,
            "object_fit": null,
            "grid_auto_columns": null,
            "margin": null,
            "display": null,
            "left": null
          }
        },
        "190e234d3e984b54b203ad3f815de2b2": {
          "model_module": "@jupyter-widgets/controls",
          "model_name": "HBoxModel",
          "state": {
            "_view_name": "HBoxView",
            "_dom_classes": [],
            "_model_name": "HBoxModel",
            "_view_module": "@jupyter-widgets/controls",
            "_model_module_version": "1.5.0",
            "_view_count": null,
            "_view_module_version": "1.5.0",
            "box_style": "",
            "layout": "IPY_MODEL_3c4a97c23efa4ddba2b19380a2768cc3",
            "_model_module": "@jupyter-widgets/controls",
            "children": [
              "IPY_MODEL_c4a5d46c1ecf4d62b35be14888ea955f",
              "IPY_MODEL_09d62d15c83a4f2bafbf39546305790f"
            ]
          }
        },
        "3c4a97c23efa4ddba2b19380a2768cc3": {
          "model_module": "@jupyter-widgets/base",
          "model_name": "LayoutModel",
          "state": {
            "_view_name": "LayoutView",
            "grid_template_rows": null,
            "right": null,
            "justify_content": null,
            "_view_module": "@jupyter-widgets/base",
            "overflow": null,
            "_model_module_version": "1.2.0",
            "_view_count": null,
            "flex_flow": null,
            "width": null,
            "min_width": null,
            "border": null,
            "align_items": null,
            "bottom": null,
            "_model_module": "@jupyter-widgets/base",
            "top": null,
            "grid_column": null,
            "overflow_y": null,
            "overflow_x": null,
            "grid_auto_flow": null,
            "grid_area": null,
            "grid_template_columns": null,
            "flex": null,
            "_model_name": "LayoutModel",
            "justify_items": null,
            "grid_row": null,
            "max_height": null,
            "align_content": null,
            "visibility": null,
            "align_self": null,
            "height": null,
            "min_height": null,
            "padding": null,
            "grid_auto_rows": null,
            "grid_gap": null,
            "max_width": null,
            "order": null,
            "_view_module_version": "1.2.0",
            "grid_template_areas": null,
            "object_position": null,
            "object_fit": null,
            "grid_auto_columns": null,
            "margin": null,
            "display": null,
            "left": null
          }
        },
        "c4a5d46c1ecf4d62b35be14888ea955f": {
          "model_module": "@jupyter-widgets/controls",
          "model_name": "FloatProgressModel",
          "state": {
            "_view_name": "ProgressView",
            "style": "IPY_MODEL_4f25d82383374aef9489362e70f6c53e",
            "_dom_classes": [],
            "description": "Downloading: 100%",
            "_model_name": "FloatProgressModel",
            "bar_style": "success",
            "max": 466062,
            "_view_module": "@jupyter-widgets/controls",
            "_model_module_version": "1.5.0",
            "value": 466062,
            "_view_count": null,
            "_view_module_version": "1.5.0",
            "orientation": "horizontal",
            "min": 0,
            "description_tooltip": null,
            "_model_module": "@jupyter-widgets/controls",
            "layout": "IPY_MODEL_41f663a63b024713a8d16bb459eed554"
          }
        },
        "09d62d15c83a4f2bafbf39546305790f": {
          "model_module": "@jupyter-widgets/controls",
          "model_name": "HTMLModel",
          "state": {
            "_view_name": "HTMLView",
            "style": "IPY_MODEL_f3db5b12cafe40bb910e637e4228b5c8",
            "_dom_classes": [],
            "description": "",
            "_model_name": "HTMLModel",
            "placeholder": "​",
            "_view_module": "@jupyter-widgets/controls",
            "_model_module_version": "1.5.0",
            "value": " 466k/466k [00:01&lt;00:00, 458kB/s]",
            "_view_count": null,
            "_view_module_version": "1.5.0",
            "description_tooltip": null,
            "_model_module": "@jupyter-widgets/controls",
            "layout": "IPY_MODEL_2970ac605a574be38a1f25ae60edb814"
          }
        },
        "4f25d82383374aef9489362e70f6c53e": {
          "model_module": "@jupyter-widgets/controls",
          "model_name": "ProgressStyleModel",
          "state": {
            "_view_name": "StyleView",
            "_model_name": "ProgressStyleModel",
            "description_width": "initial",
            "_view_module": "@jupyter-widgets/base",
            "_model_module_version": "1.5.0",
            "_view_count": null,
            "_view_module_version": "1.2.0",
            "bar_color": null,
            "_model_module": "@jupyter-widgets/controls"
          }
        },
        "41f663a63b024713a8d16bb459eed554": {
          "model_module": "@jupyter-widgets/base",
          "model_name": "LayoutModel",
          "state": {
            "_view_name": "LayoutView",
            "grid_template_rows": null,
            "right": null,
            "justify_content": null,
            "_view_module": "@jupyter-widgets/base",
            "overflow": null,
            "_model_module_version": "1.2.0",
            "_view_count": null,
            "flex_flow": null,
            "width": null,
            "min_width": null,
            "border": null,
            "align_items": null,
            "bottom": null,
            "_model_module": "@jupyter-widgets/base",
            "top": null,
            "grid_column": null,
            "overflow_y": null,
            "overflow_x": null,
            "grid_auto_flow": null,
            "grid_area": null,
            "grid_template_columns": null,
            "flex": null,
            "_model_name": "LayoutModel",
            "justify_items": null,
            "grid_row": null,
            "max_height": null,
            "align_content": null,
            "visibility": null,
            "align_self": null,
            "height": null,
            "min_height": null,
            "padding": null,
            "grid_auto_rows": null,
            "grid_gap": null,
            "max_width": null,
            "order": null,
            "_view_module_version": "1.2.0",
            "grid_template_areas": null,
            "object_position": null,
            "object_fit": null,
            "grid_auto_columns": null,
            "margin": null,
            "display": null,
            "left": null
          }
        },
        "f3db5b12cafe40bb910e637e4228b5c8": {
          "model_module": "@jupyter-widgets/controls",
          "model_name": "DescriptionStyleModel",
          "state": {
            "_view_name": "StyleView",
            "_model_name": "DescriptionStyleModel",
            "description_width": "",
            "_view_module": "@jupyter-widgets/base",
            "_model_module_version": "1.5.0",
            "_view_count": null,
            "_view_module_version": "1.2.0",
            "_model_module": "@jupyter-widgets/controls"
          }
        },
        "2970ac605a574be38a1f25ae60edb814": {
          "model_module": "@jupyter-widgets/base",
          "model_name": "LayoutModel",
          "state": {
            "_view_name": "LayoutView",
            "grid_template_rows": null,
            "right": null,
            "justify_content": null,
            "_view_module": "@jupyter-widgets/base",
            "overflow": null,
            "_model_module_version": "1.2.0",
            "_view_count": null,
            "flex_flow": null,
            "width": null,
            "min_width": null,
            "border": null,
            "align_items": null,
            "bottom": null,
            "_model_module": "@jupyter-widgets/base",
            "top": null,
            "grid_column": null,
            "overflow_y": null,
            "overflow_x": null,
            "grid_auto_flow": null,
            "grid_area": null,
            "grid_template_columns": null,
            "flex": null,
            "_model_name": "LayoutModel",
            "justify_items": null,
            "grid_row": null,
            "max_height": null,
            "align_content": null,
            "visibility": null,
            "align_self": null,
            "height": null,
            "min_height": null,
            "padding": null,
            "grid_auto_rows": null,
            "grid_gap": null,
            "max_width": null,
            "order": null,
            "_view_module_version": "1.2.0",
            "grid_template_areas": null,
            "object_position": null,
            "object_fit": null,
            "grid_auto_columns": null,
            "margin": null,
            "display": null,
            "left": null
          }
        },
        "d8ca352015664bc1ae1b6c84fc7acea3": {
          "model_module": "@jupyter-widgets/controls",
          "model_name": "HBoxModel",
          "state": {
            "_view_name": "HBoxView",
            "_dom_classes": [],
            "_model_name": "HBoxModel",
            "_view_module": "@jupyter-widgets/controls",
            "_model_module_version": "1.5.0",
            "_view_count": null,
            "_view_module_version": "1.5.0",
            "box_style": "",
            "layout": "IPY_MODEL_50cf1b331fe84d8ea3dec10806053e53",
            "_model_module": "@jupyter-widgets/controls",
            "children": [
              "IPY_MODEL_d8140ae6440b410b8435a97ac05fccae",
              "IPY_MODEL_14d27b2368a54611baabf6cfb20b486c"
            ]
          }
        },
        "50cf1b331fe84d8ea3dec10806053e53": {
          "model_module": "@jupyter-widgets/base",
          "model_name": "LayoutModel",
          "state": {
            "_view_name": "LayoutView",
            "grid_template_rows": null,
            "right": null,
            "justify_content": null,
            "_view_module": "@jupyter-widgets/base",
            "overflow": null,
            "_model_module_version": "1.2.0",
            "_view_count": null,
            "flex_flow": null,
            "width": null,
            "min_width": null,
            "border": null,
            "align_items": null,
            "bottom": null,
            "_model_module": "@jupyter-widgets/base",
            "top": null,
            "grid_column": null,
            "overflow_y": null,
            "overflow_x": null,
            "grid_auto_flow": null,
            "grid_area": null,
            "grid_template_columns": null,
            "flex": null,
            "_model_name": "LayoutModel",
            "justify_items": null,
            "grid_row": null,
            "max_height": null,
            "align_content": null,
            "visibility": null,
            "align_self": null,
            "height": null,
            "min_height": null,
            "padding": null,
            "grid_auto_rows": null,
            "grid_gap": null,
            "max_width": null,
            "order": null,
            "_view_module_version": "1.2.0",
            "grid_template_areas": null,
            "object_position": null,
            "object_fit": null,
            "grid_auto_columns": null,
            "margin": null,
            "display": null,
            "left": null
          }
        },
        "d8140ae6440b410b8435a97ac05fccae": {
          "model_module": "@jupyter-widgets/controls",
          "model_name": "FloatProgressModel",
          "state": {
            "_view_name": "ProgressView",
            "style": "IPY_MODEL_055aac748459474b87ca7b216eb6e004",
            "_dom_classes": [],
            "description": "100%",
            "_model_name": "FloatProgressModel",
            "bar_style": "success",
            "max": 24,
            "_view_module": "@jupyter-widgets/controls",
            "_model_module_version": "1.5.0",
            "value": 24,
            "_view_count": null,
            "_view_module_version": "1.5.0",
            "orientation": "horizontal",
            "min": 0,
            "description_tooltip": null,
            "_model_module": "@jupyter-widgets/controls",
            "layout": "IPY_MODEL_594582f649d242d480da6a7824dc9e18"
          }
        },
        "14d27b2368a54611baabf6cfb20b486c": {
          "model_module": "@jupyter-widgets/controls",
          "model_name": "HTMLModel",
          "state": {
            "_view_name": "HTMLView",
            "style": "IPY_MODEL_a92a997fb3e04078b1f83355cd2011bf",
            "_dom_classes": [],
            "description": "",
            "_model_name": "HTMLModel",
            "placeholder": "​",
            "_view_module": "@jupyter-widgets/controls",
            "_model_module_version": "1.5.0",
            "value": " 24/24 [00:06&lt;00:00,  3.67ba/s]",
            "_view_count": null,
            "_view_module_version": "1.5.0",
            "description_tooltip": null,
            "_model_module": "@jupyter-widgets/controls",
            "layout": "IPY_MODEL_4427f48dd843475e8145cb3568768fcf"
          }
        },
        "055aac748459474b87ca7b216eb6e004": {
          "model_module": "@jupyter-widgets/controls",
          "model_name": "ProgressStyleModel",
          "state": {
            "_view_name": "StyleView",
            "_model_name": "ProgressStyleModel",
            "description_width": "initial",
            "_view_module": "@jupyter-widgets/base",
            "_model_module_version": "1.5.0",
            "_view_count": null,
            "_view_module_version": "1.2.0",
            "bar_color": null,
            "_model_module": "@jupyter-widgets/controls"
          }
        },
        "594582f649d242d480da6a7824dc9e18": {
          "model_module": "@jupyter-widgets/base",
          "model_name": "LayoutModel",
          "state": {
            "_view_name": "LayoutView",
            "grid_template_rows": null,
            "right": null,
            "justify_content": null,
            "_view_module": "@jupyter-widgets/base",
            "overflow": null,
            "_model_module_version": "1.2.0",
            "_view_count": null,
            "flex_flow": null,
            "width": null,
            "min_width": null,
            "border": null,
            "align_items": null,
            "bottom": null,
            "_model_module": "@jupyter-widgets/base",
            "top": null,
            "grid_column": null,
            "overflow_y": null,
            "overflow_x": null,
            "grid_auto_flow": null,
            "grid_area": null,
            "grid_template_columns": null,
            "flex": null,
            "_model_name": "LayoutModel",
            "justify_items": null,
            "grid_row": null,
            "max_height": null,
            "align_content": null,
            "visibility": null,
            "align_self": null,
            "height": null,
            "min_height": null,
            "padding": null,
            "grid_auto_rows": null,
            "grid_gap": null,
            "max_width": null,
            "order": null,
            "_view_module_version": "1.2.0",
            "grid_template_areas": null,
            "object_position": null,
            "object_fit": null,
            "grid_auto_columns": null,
            "margin": null,
            "display": null,
            "left": null
          }
        },
        "a92a997fb3e04078b1f83355cd2011bf": {
          "model_module": "@jupyter-widgets/controls",
          "model_name": "DescriptionStyleModel",
          "state": {
            "_view_name": "StyleView",
            "_model_name": "DescriptionStyleModel",
            "description_width": "",
            "_view_module": "@jupyter-widgets/base",
            "_model_module_version": "1.5.0",
            "_view_count": null,
            "_view_module_version": "1.2.0",
            "_model_module": "@jupyter-widgets/controls"
          }
        },
        "4427f48dd843475e8145cb3568768fcf": {
          "model_module": "@jupyter-widgets/base",
          "model_name": "LayoutModel",
          "state": {
            "_view_name": "LayoutView",
            "grid_template_rows": null,
            "right": null,
            "justify_content": null,
            "_view_module": "@jupyter-widgets/base",
            "overflow": null,
            "_model_module_version": "1.2.0",
            "_view_count": null,
            "flex_flow": null,
            "width": null,
            "min_width": null,
            "border": null,
            "align_items": null,
            "bottom": null,
            "_model_module": "@jupyter-widgets/base",
            "top": null,
            "grid_column": null,
            "overflow_y": null,
            "overflow_x": null,
            "grid_auto_flow": null,
            "grid_area": null,
            "grid_template_columns": null,
            "flex": null,
            "_model_name": "LayoutModel",
            "justify_items": null,
            "grid_row": null,
            "max_height": null,
            "align_content": null,
            "visibility": null,
            "align_self": null,
            "height": null,
            "min_height": null,
            "padding": null,
            "grid_auto_rows": null,
            "grid_gap": null,
            "max_width": null,
            "order": null,
            "_view_module_version": "1.2.0",
            "grid_template_areas": null,
            "object_position": null,
            "object_fit": null,
            "grid_auto_columns": null,
            "margin": null,
            "display": null,
            "left": null
          }
        },
        "ad882c278b234dc6a3567a276b71b79c": {
          "model_module": "@jupyter-widgets/controls",
          "model_name": "HBoxModel",
          "state": {
            "_view_name": "HBoxView",
            "_dom_classes": [],
            "_model_name": "HBoxModel",
            "_view_module": "@jupyter-widgets/controls",
            "_model_module_version": "1.5.0",
            "_view_count": null,
            "_view_module_version": "1.5.0",
            "box_style": "",
            "layout": "IPY_MODEL_e80a59dca2fe4dd5adcbe89a81113549",
            "_model_module": "@jupyter-widgets/controls",
            "children": [
              "IPY_MODEL_df31f13dda094a8c9d9d1973db1f1f9d",
              "IPY_MODEL_4dc120a4d4ca4e84bf67bc96cb694dd2"
            ]
          }
        },
        "e80a59dca2fe4dd5adcbe89a81113549": {
          "model_module": "@jupyter-widgets/base",
          "model_name": "LayoutModel",
          "state": {
            "_view_name": "LayoutView",
            "grid_template_rows": null,
            "right": null,
            "justify_content": null,
            "_view_module": "@jupyter-widgets/base",
            "overflow": null,
            "_model_module_version": "1.2.0",
            "_view_count": null,
            "flex_flow": null,
            "width": null,
            "min_width": null,
            "border": null,
            "align_items": null,
            "bottom": null,
            "_model_module": "@jupyter-widgets/base",
            "top": null,
            "grid_column": null,
            "overflow_y": null,
            "overflow_x": null,
            "grid_auto_flow": null,
            "grid_area": null,
            "grid_template_columns": null,
            "flex": null,
            "_model_name": "LayoutModel",
            "justify_items": null,
            "grid_row": null,
            "max_height": null,
            "align_content": null,
            "visibility": null,
            "align_self": null,
            "height": null,
            "min_height": null,
            "padding": null,
            "grid_auto_rows": null,
            "grid_gap": null,
            "max_width": null,
            "order": null,
            "_view_module_version": "1.2.0",
            "grid_template_areas": null,
            "object_position": null,
            "object_fit": null,
            "grid_auto_columns": null,
            "margin": null,
            "display": null,
            "left": null
          }
        },
        "df31f13dda094a8c9d9d1973db1f1f9d": {
          "model_module": "@jupyter-widgets/controls",
          "model_name": "FloatProgressModel",
          "state": {
            "_view_name": "ProgressView",
            "style": "IPY_MODEL_2d45bb36de1a4cbb8bfbb5c6b1f85622",
            "_dom_classes": [],
            "description": "100%",
            "_model_name": "FloatProgressModel",
            "bar_style": "success",
            "max": 3,
            "_view_module": "@jupyter-widgets/controls",
            "_model_module_version": "1.5.0",
            "value": 3,
            "_view_count": null,
            "_view_module_version": "1.5.0",
            "orientation": "horizontal",
            "min": 0,
            "description_tooltip": null,
            "_model_module": "@jupyter-widgets/controls",
            "layout": "IPY_MODEL_356a01e8ca6d4bb5bffe4c5d3c81aa2b"
          }
        },
        "4dc120a4d4ca4e84bf67bc96cb694dd2": {
          "model_module": "@jupyter-widgets/controls",
          "model_name": "HTMLModel",
          "state": {
            "_view_name": "HTMLView",
            "style": "IPY_MODEL_f933047144be434db7afd4934293af68",
            "_dom_classes": [],
            "description": "",
            "_model_name": "HTMLModel",
            "placeholder": "​",
            "_view_module": "@jupyter-widgets/controls",
            "_model_module_version": "1.5.0",
            "value": " 3/3 [00:04&lt;00:00,  1.64s/ba]",
            "_view_count": null,
            "_view_module_version": "1.5.0",
            "description_tooltip": null,
            "_model_module": "@jupyter-widgets/controls",
            "layout": "IPY_MODEL_139eadbb421c434bbc5097a4c65958d9"
          }
        },
        "2d45bb36de1a4cbb8bfbb5c6b1f85622": {
          "model_module": "@jupyter-widgets/controls",
          "model_name": "ProgressStyleModel",
          "state": {
            "_view_name": "StyleView",
            "_model_name": "ProgressStyleModel",
            "description_width": "initial",
            "_view_module": "@jupyter-widgets/base",
            "_model_module_version": "1.5.0",
            "_view_count": null,
            "_view_module_version": "1.2.0",
            "bar_color": null,
            "_model_module": "@jupyter-widgets/controls"
          }
        },
        "356a01e8ca6d4bb5bffe4c5d3c81aa2b": {
          "model_module": "@jupyter-widgets/base",
          "model_name": "LayoutModel",
          "state": {
            "_view_name": "LayoutView",
            "grid_template_rows": null,
            "right": null,
            "justify_content": null,
            "_view_module": "@jupyter-widgets/base",
            "overflow": null,
            "_model_module_version": "1.2.0",
            "_view_count": null,
            "flex_flow": null,
            "width": null,
            "min_width": null,
            "border": null,
            "align_items": null,
            "bottom": null,
            "_model_module": "@jupyter-widgets/base",
            "top": null,
            "grid_column": null,
            "overflow_y": null,
            "overflow_x": null,
            "grid_auto_flow": null,
            "grid_area": null,
            "grid_template_columns": null,
            "flex": null,
            "_model_name": "LayoutModel",
            "justify_items": null,
            "grid_row": null,
            "max_height": null,
            "align_content": null,
            "visibility": null,
            "align_self": null,
            "height": null,
            "min_height": null,
            "padding": null,
            "grid_auto_rows": null,
            "grid_gap": null,
            "max_width": null,
            "order": null,
            "_view_module_version": "1.2.0",
            "grid_template_areas": null,
            "object_position": null,
            "object_fit": null,
            "grid_auto_columns": null,
            "margin": null,
            "display": null,
            "left": null
          }
        },
        "f933047144be434db7afd4934293af68": {
          "model_module": "@jupyter-widgets/controls",
          "model_name": "DescriptionStyleModel",
          "state": {
            "_view_name": "StyleView",
            "_model_name": "DescriptionStyleModel",
            "description_width": "",
            "_view_module": "@jupyter-widgets/base",
            "_model_module_version": "1.5.0",
            "_view_count": null,
            "_view_module_version": "1.2.0",
            "_model_module": "@jupyter-widgets/controls"
          }
        },
        "139eadbb421c434bbc5097a4c65958d9": {
          "model_module": "@jupyter-widgets/base",
          "model_name": "LayoutModel",
          "state": {
            "_view_name": "LayoutView",
            "grid_template_rows": null,
            "right": null,
            "justify_content": null,
            "_view_module": "@jupyter-widgets/base",
            "overflow": null,
            "_model_module_version": "1.2.0",
            "_view_count": null,
            "flex_flow": null,
            "width": null,
            "min_width": null,
            "border": null,
            "align_items": null,
            "bottom": null,
            "_model_module": "@jupyter-widgets/base",
            "top": null,
            "grid_column": null,
            "overflow_y": null,
            "overflow_x": null,
            "grid_auto_flow": null,
            "grid_area": null,
            "grid_template_columns": null,
            "flex": null,
            "_model_name": "LayoutModel",
            "justify_items": null,
            "grid_row": null,
            "max_height": null,
            "align_content": null,
            "visibility": null,
            "align_self": null,
            "height": null,
            "min_height": null,
            "padding": null,
            "grid_auto_rows": null,
            "grid_gap": null,
            "max_width": null,
            "order": null,
            "_view_module_version": "1.2.0",
            "grid_template_areas": null,
            "object_position": null,
            "object_fit": null,
            "grid_auto_columns": null,
            "margin": null,
            "display": null,
            "left": null
          }
        },
        "ca1efcff317940a59fb3638e4d4e7383": {
          "model_module": "@jupyter-widgets/controls",
          "model_name": "HBoxModel",
          "state": {
            "_view_name": "HBoxView",
            "_dom_classes": [],
            "_model_name": "HBoxModel",
            "_view_module": "@jupyter-widgets/controls",
            "_model_module_version": "1.5.0",
            "_view_count": null,
            "_view_module_version": "1.5.0",
            "box_style": "",
            "layout": "IPY_MODEL_3f28ea0dce914654be8604df5cfcff44",
            "_model_module": "@jupyter-widgets/controls",
            "children": [
              "IPY_MODEL_6aaaf05db0434262ba95a9117f1276c6",
              "IPY_MODEL_c808334a8e73479593c80137727d161c"
            ]
          }
        },
        "3f28ea0dce914654be8604df5cfcff44": {
          "model_module": "@jupyter-widgets/base",
          "model_name": "LayoutModel",
          "state": {
            "_view_name": "LayoutView",
            "grid_template_rows": null,
            "right": null,
            "justify_content": null,
            "_view_module": "@jupyter-widgets/base",
            "overflow": null,
            "_model_module_version": "1.2.0",
            "_view_count": null,
            "flex_flow": null,
            "width": null,
            "min_width": null,
            "border": null,
            "align_items": null,
            "bottom": null,
            "_model_module": "@jupyter-widgets/base",
            "top": null,
            "grid_column": null,
            "overflow_y": null,
            "overflow_x": null,
            "grid_auto_flow": null,
            "grid_area": null,
            "grid_template_columns": null,
            "flex": null,
            "_model_name": "LayoutModel",
            "justify_items": null,
            "grid_row": null,
            "max_height": null,
            "align_content": null,
            "visibility": null,
            "align_self": null,
            "height": null,
            "min_height": null,
            "padding": null,
            "grid_auto_rows": null,
            "grid_gap": null,
            "max_width": null,
            "order": null,
            "_view_module_version": "1.2.0",
            "grid_template_areas": null,
            "object_position": null,
            "object_fit": null,
            "grid_auto_columns": null,
            "margin": null,
            "display": null,
            "left": null
          }
        },
        "6aaaf05db0434262ba95a9117f1276c6": {
          "model_module": "@jupyter-widgets/controls",
          "model_name": "FloatProgressModel",
          "state": {
            "_view_name": "ProgressView",
            "style": "IPY_MODEL_4d9e123425f64004a2cbf9e53658d8b9",
            "_dom_classes": [],
            "description": "100%",
            "_model_name": "FloatProgressModel",
            "bar_style": "success",
            "max": 3,
            "_view_module": "@jupyter-widgets/controls",
            "_model_module_version": "1.5.0",
            "value": 3,
            "_view_count": null,
            "_view_module_version": "1.5.0",
            "orientation": "horizontal",
            "min": 0,
            "description_tooltip": null,
            "_model_module": "@jupyter-widgets/controls",
            "layout": "IPY_MODEL_d74db5ba515a40278bd7df406c9b8a81"
          }
        },
        "c808334a8e73479593c80137727d161c": {
          "model_module": "@jupyter-widgets/controls",
          "model_name": "HTMLModel",
          "state": {
            "_view_name": "HTMLView",
            "style": "IPY_MODEL_81a551b96f0e4a508e2ca33d63aef195",
            "_dom_classes": [],
            "description": "",
            "_model_name": "HTMLModel",
            "placeholder": "​",
            "_view_module": "@jupyter-widgets/controls",
            "_model_module_version": "1.5.0",
            "value": " 3/3 [00:04&lt;00:00,  1.56s/ba]",
            "_view_count": null,
            "_view_module_version": "1.5.0",
            "description_tooltip": null,
            "_model_module": "@jupyter-widgets/controls",
            "layout": "IPY_MODEL_c0bee841f5d9460e8226eb18399b3bf1"
          }
        },
        "4d9e123425f64004a2cbf9e53658d8b9": {
          "model_module": "@jupyter-widgets/controls",
          "model_name": "ProgressStyleModel",
          "state": {
            "_view_name": "StyleView",
            "_model_name": "ProgressStyleModel",
            "description_width": "initial",
            "_view_module": "@jupyter-widgets/base",
            "_model_module_version": "1.5.0",
            "_view_count": null,
            "_view_module_version": "1.2.0",
            "bar_color": null,
            "_model_module": "@jupyter-widgets/controls"
          }
        },
        "d74db5ba515a40278bd7df406c9b8a81": {
          "model_module": "@jupyter-widgets/base",
          "model_name": "LayoutModel",
          "state": {
            "_view_name": "LayoutView",
            "grid_template_rows": null,
            "right": null,
            "justify_content": null,
            "_view_module": "@jupyter-widgets/base",
            "overflow": null,
            "_model_module_version": "1.2.0",
            "_view_count": null,
            "flex_flow": null,
            "width": null,
            "min_width": null,
            "border": null,
            "align_items": null,
            "bottom": null,
            "_model_module": "@jupyter-widgets/base",
            "top": null,
            "grid_column": null,
            "overflow_y": null,
            "overflow_x": null,
            "grid_auto_flow": null,
            "grid_area": null,
            "grid_template_columns": null,
            "flex": null,
            "_model_name": "LayoutModel",
            "justify_items": null,
            "grid_row": null,
            "max_height": null,
            "align_content": null,
            "visibility": null,
            "align_self": null,
            "height": null,
            "min_height": null,
            "padding": null,
            "grid_auto_rows": null,
            "grid_gap": null,
            "max_width": null,
            "order": null,
            "_view_module_version": "1.2.0",
            "grid_template_areas": null,
            "object_position": null,
            "object_fit": null,
            "grid_auto_columns": null,
            "margin": null,
            "display": null,
            "left": null
          }
        },
        "81a551b96f0e4a508e2ca33d63aef195": {
          "model_module": "@jupyter-widgets/controls",
          "model_name": "DescriptionStyleModel",
          "state": {
            "_view_name": "StyleView",
            "_model_name": "DescriptionStyleModel",
            "description_width": "",
            "_view_module": "@jupyter-widgets/base",
            "_model_module_version": "1.5.0",
            "_view_count": null,
            "_view_module_version": "1.2.0",
            "_model_module": "@jupyter-widgets/controls"
          }
        },
        "c0bee841f5d9460e8226eb18399b3bf1": {
          "model_module": "@jupyter-widgets/base",
          "model_name": "LayoutModel",
          "state": {
            "_view_name": "LayoutView",
            "grid_template_rows": null,
            "right": null,
            "justify_content": null,
            "_view_module": "@jupyter-widgets/base",
            "overflow": null,
            "_model_module_version": "1.2.0",
            "_view_count": null,
            "flex_flow": null,
            "width": null,
            "min_width": null,
            "border": null,
            "align_items": null,
            "bottom": null,
            "_model_module": "@jupyter-widgets/base",
            "top": null,
            "grid_column": null,
            "overflow_y": null,
            "overflow_x": null,
            "grid_auto_flow": null,
            "grid_area": null,
            "grid_template_columns": null,
            "flex": null,
            "_model_name": "LayoutModel",
            "justify_items": null,
            "grid_row": null,
            "max_height": null,
            "align_content": null,
            "visibility": null,
            "align_self": null,
            "height": null,
            "min_height": null,
            "padding": null,
            "grid_auto_rows": null,
            "grid_gap": null,
            "max_width": null,
            "order": null,
            "_view_module_version": "1.2.0",
            "grid_template_areas": null,
            "object_position": null,
            "object_fit": null,
            "grid_auto_columns": null,
            "margin": null,
            "display": null,
            "left": null
          }
        },
        "758de2313d5c4165970dc47c626c3b91": {
          "model_module": "@jupyter-widgets/controls",
          "model_name": "HBoxModel",
          "state": {
            "_view_name": "HBoxView",
            "_dom_classes": [],
            "_model_name": "HBoxModel",
            "_view_module": "@jupyter-widgets/controls",
            "_model_module_version": "1.5.0",
            "_view_count": null,
            "_view_module_version": "1.5.0",
            "box_style": "",
            "layout": "IPY_MODEL_0ea6fba8e1a54f0c9d652b1e965c100f",
            "_model_module": "@jupyter-widgets/controls",
            "children": [
              "IPY_MODEL_65c414f916cc4acd9675544bc165c8c6",
              "IPY_MODEL_1287b930467b4f24a06c259c40d35d6a"
            ]
          }
        },
        "0ea6fba8e1a54f0c9d652b1e965c100f": {
          "model_module": "@jupyter-widgets/base",
          "model_name": "LayoutModel",
          "state": {
            "_view_name": "LayoutView",
            "grid_template_rows": null,
            "right": null,
            "justify_content": null,
            "_view_module": "@jupyter-widgets/base",
            "overflow": null,
            "_model_module_version": "1.2.0",
            "_view_count": null,
            "flex_flow": null,
            "width": null,
            "min_width": null,
            "border": null,
            "align_items": null,
            "bottom": null,
            "_model_module": "@jupyter-widgets/base",
            "top": null,
            "grid_column": null,
            "overflow_y": null,
            "overflow_x": null,
            "grid_auto_flow": null,
            "grid_area": null,
            "grid_template_columns": null,
            "flex": null,
            "_model_name": "LayoutModel",
            "justify_items": null,
            "grid_row": null,
            "max_height": null,
            "align_content": null,
            "visibility": null,
            "align_self": null,
            "height": null,
            "min_height": null,
            "padding": null,
            "grid_auto_rows": null,
            "grid_gap": null,
            "max_width": null,
            "order": null,
            "_view_module_version": "1.2.0",
            "grid_template_areas": null,
            "object_position": null,
            "object_fit": null,
            "grid_auto_columns": null,
            "margin": null,
            "display": null,
            "left": null
          }
        },
        "65c414f916cc4acd9675544bc165c8c6": {
          "model_module": "@jupyter-widgets/controls",
          "model_name": "FloatProgressModel",
          "state": {
            "_view_name": "ProgressView",
            "style": "IPY_MODEL_34538be17c1247c895daa820f1ef271e",
            "_dom_classes": [],
            "description": "100%",
            "_model_name": "FloatProgressModel",
            "bar_style": "success",
            "max": 23485,
            "_view_module": "@jupyter-widgets/controls",
            "_model_module_version": "1.5.0",
            "value": 23485,
            "_view_count": null,
            "_view_module_version": "1.5.0",
            "orientation": "horizontal",
            "min": 0,
            "description_tooltip": null,
            "_model_module": "@jupyter-widgets/controls",
            "layout": "IPY_MODEL_5664a4714f2f49ff9324b8fed84e3d20"
          }
        },
        "1287b930467b4f24a06c259c40d35d6a": {
          "model_module": "@jupyter-widgets/controls",
          "model_name": "HTMLModel",
          "state": {
            "_view_name": "HTMLView",
            "style": "IPY_MODEL_85be932ab1794aafb25d581143dade02",
            "_dom_classes": [],
            "description": "",
            "_model_name": "HTMLModel",
            "placeholder": "​",
            "_view_module": "@jupyter-widgets/controls",
            "_model_module_version": "1.5.0",
            "value": " 23485/23485 [00:04&lt;00:00, 5320.41ex/s]",
            "_view_count": null,
            "_view_module_version": "1.5.0",
            "description_tooltip": null,
            "_model_module": "@jupyter-widgets/controls",
            "layout": "IPY_MODEL_70d0c143729e48328c71fb94b14a16d5"
          }
        },
        "34538be17c1247c895daa820f1ef271e": {
          "model_module": "@jupyter-widgets/controls",
          "model_name": "ProgressStyleModel",
          "state": {
            "_view_name": "StyleView",
            "_model_name": "ProgressStyleModel",
            "description_width": "initial",
            "_view_module": "@jupyter-widgets/base",
            "_model_module_version": "1.5.0",
            "_view_count": null,
            "_view_module_version": "1.2.0",
            "bar_color": null,
            "_model_module": "@jupyter-widgets/controls"
          }
        },
        "5664a4714f2f49ff9324b8fed84e3d20": {
          "model_module": "@jupyter-widgets/base",
          "model_name": "LayoutModel",
          "state": {
            "_view_name": "LayoutView",
            "grid_template_rows": null,
            "right": null,
            "justify_content": null,
            "_view_module": "@jupyter-widgets/base",
            "overflow": null,
            "_model_module_version": "1.2.0",
            "_view_count": null,
            "flex_flow": null,
            "width": null,
            "min_width": null,
            "border": null,
            "align_items": null,
            "bottom": null,
            "_model_module": "@jupyter-widgets/base",
            "top": null,
            "grid_column": null,
            "overflow_y": null,
            "overflow_x": null,
            "grid_auto_flow": null,
            "grid_area": null,
            "grid_template_columns": null,
            "flex": null,
            "_model_name": "LayoutModel",
            "justify_items": null,
            "grid_row": null,
            "max_height": null,
            "align_content": null,
            "visibility": null,
            "align_self": null,
            "height": null,
            "min_height": null,
            "padding": null,
            "grid_auto_rows": null,
            "grid_gap": null,
            "max_width": null,
            "order": null,
            "_view_module_version": "1.2.0",
            "grid_template_areas": null,
            "object_position": null,
            "object_fit": null,
            "grid_auto_columns": null,
            "margin": null,
            "display": null,
            "left": null
          }
        },
        "85be932ab1794aafb25d581143dade02": {
          "model_module": "@jupyter-widgets/controls",
          "model_name": "DescriptionStyleModel",
          "state": {
            "_view_name": "StyleView",
            "_model_name": "DescriptionStyleModel",
            "description_width": "",
            "_view_module": "@jupyter-widgets/base",
            "_model_module_version": "1.5.0",
            "_view_count": null,
            "_view_module_version": "1.2.0",
            "_model_module": "@jupyter-widgets/controls"
          }
        },
        "70d0c143729e48328c71fb94b14a16d5": {
          "model_module": "@jupyter-widgets/base",
          "model_name": "LayoutModel",
          "state": {
            "_view_name": "LayoutView",
            "grid_template_rows": null,
            "right": null,
            "justify_content": null,
            "_view_module": "@jupyter-widgets/base",
            "overflow": null,
            "_model_module_version": "1.2.0",
            "_view_count": null,
            "flex_flow": null,
            "width": null,
            "min_width": null,
            "border": null,
            "align_items": null,
            "bottom": null,
            "_model_module": "@jupyter-widgets/base",
            "top": null,
            "grid_column": null,
            "overflow_y": null,
            "overflow_x": null,
            "grid_auto_flow": null,
            "grid_area": null,
            "grid_template_columns": null,
            "flex": null,
            "_model_name": "LayoutModel",
            "justify_items": null,
            "grid_row": null,
            "max_height": null,
            "align_content": null,
            "visibility": null,
            "align_self": null,
            "height": null,
            "min_height": null,
            "padding": null,
            "grid_auto_rows": null,
            "grid_gap": null,
            "max_width": null,
            "order": null,
            "_view_module_version": "1.2.0",
            "grid_template_areas": null,
            "object_position": null,
            "object_fit": null,
            "grid_auto_columns": null,
            "margin": null,
            "display": null,
            "left": null
          }
        },
        "80c6ec5addad43cc9386295d7261e4c7": {
          "model_module": "@jupyter-widgets/controls",
          "model_name": "HBoxModel",
          "state": {
            "_view_name": "HBoxView",
            "_dom_classes": [],
            "_model_name": "HBoxModel",
            "_view_module": "@jupyter-widgets/controls",
            "_model_module_version": "1.5.0",
            "_view_count": null,
            "_view_module_version": "1.5.0",
            "box_style": "",
            "layout": "IPY_MODEL_a683b2bd86524d818597a9dc697fb6ee",
            "_model_module": "@jupyter-widgets/controls",
            "children": [
              "IPY_MODEL_d5881224c0a748b38eff3ce821feb072",
              "IPY_MODEL_36d00c8bb00243e8ba847a4ce5e372f3"
            ]
          }
        },
        "a683b2bd86524d818597a9dc697fb6ee": {
          "model_module": "@jupyter-widgets/base",
          "model_name": "LayoutModel",
          "state": {
            "_view_name": "LayoutView",
            "grid_template_rows": null,
            "right": null,
            "justify_content": null,
            "_view_module": "@jupyter-widgets/base",
            "overflow": null,
            "_model_module_version": "1.2.0",
            "_view_count": null,
            "flex_flow": null,
            "width": null,
            "min_width": null,
            "border": null,
            "align_items": null,
            "bottom": null,
            "_model_module": "@jupyter-widgets/base",
            "top": null,
            "grid_column": null,
            "overflow_y": null,
            "overflow_x": null,
            "grid_auto_flow": null,
            "grid_area": null,
            "grid_template_columns": null,
            "flex": null,
            "_model_name": "LayoutModel",
            "justify_items": null,
            "grid_row": null,
            "max_height": null,
            "align_content": null,
            "visibility": null,
            "align_self": null,
            "height": null,
            "min_height": null,
            "padding": null,
            "grid_auto_rows": null,
            "grid_gap": null,
            "max_width": null,
            "order": null,
            "_view_module_version": "1.2.0",
            "grid_template_areas": null,
            "object_position": null,
            "object_fit": null,
            "grid_auto_columns": null,
            "margin": null,
            "display": null,
            "left": null
          }
        },
        "d5881224c0a748b38eff3ce821feb072": {
          "model_module": "@jupyter-widgets/controls",
          "model_name": "FloatProgressModel",
          "state": {
            "_view_name": "ProgressView",
            "style": "IPY_MODEL_a30b013ee3164ae695f64ab71b8cc85d",
            "_dom_classes": [],
            "description": "100%",
            "_model_name": "FloatProgressModel",
            "bar_style": "success",
            "max": 2956,
            "_view_module": "@jupyter-widgets/controls",
            "_model_module_version": "1.5.0",
            "value": 2956,
            "_view_count": null,
            "_view_module_version": "1.5.0",
            "orientation": "horizontal",
            "min": 0,
            "description_tooltip": null,
            "_model_module": "@jupyter-widgets/controls",
            "layout": "IPY_MODEL_34b755a3886b410884a7ea05a59cf8fa"
          }
        },
        "36d00c8bb00243e8ba847a4ce5e372f3": {
          "model_module": "@jupyter-widgets/controls",
          "model_name": "HTMLModel",
          "state": {
            "_view_name": "HTMLView",
            "style": "IPY_MODEL_a26d3d8590964ef090a41e444167538d",
            "_dom_classes": [],
            "description": "",
            "_model_name": "HTMLModel",
            "placeholder": "​",
            "_view_module": "@jupyter-widgets/controls",
            "_model_module_version": "1.5.0",
            "value": " 2956/2956 [00:01&lt;00:00, 2037.01ex/s]",
            "_view_count": null,
            "_view_module_version": "1.5.0",
            "description_tooltip": null,
            "_model_module": "@jupyter-widgets/controls",
            "layout": "IPY_MODEL_7927180524024e109f8ff805643cc45e"
          }
        },
        "a30b013ee3164ae695f64ab71b8cc85d": {
          "model_module": "@jupyter-widgets/controls",
          "model_name": "ProgressStyleModel",
          "state": {
            "_view_name": "StyleView",
            "_model_name": "ProgressStyleModel",
            "description_width": "initial",
            "_view_module": "@jupyter-widgets/base",
            "_model_module_version": "1.5.0",
            "_view_count": null,
            "_view_module_version": "1.2.0",
            "bar_color": null,
            "_model_module": "@jupyter-widgets/controls"
          }
        },
        "34b755a3886b410884a7ea05a59cf8fa": {
          "model_module": "@jupyter-widgets/base",
          "model_name": "LayoutModel",
          "state": {
            "_view_name": "LayoutView",
            "grid_template_rows": null,
            "right": null,
            "justify_content": null,
            "_view_module": "@jupyter-widgets/base",
            "overflow": null,
            "_model_module_version": "1.2.0",
            "_view_count": null,
            "flex_flow": null,
            "width": null,
            "min_width": null,
            "border": null,
            "align_items": null,
            "bottom": null,
            "_model_module": "@jupyter-widgets/base",
            "top": null,
            "grid_column": null,
            "overflow_y": null,
            "overflow_x": null,
            "grid_auto_flow": null,
            "grid_area": null,
            "grid_template_columns": null,
            "flex": null,
            "_model_name": "LayoutModel",
            "justify_items": null,
            "grid_row": null,
            "max_height": null,
            "align_content": null,
            "visibility": null,
            "align_self": null,
            "height": null,
            "min_height": null,
            "padding": null,
            "grid_auto_rows": null,
            "grid_gap": null,
            "max_width": null,
            "order": null,
            "_view_module_version": "1.2.0",
            "grid_template_areas": null,
            "object_position": null,
            "object_fit": null,
            "grid_auto_columns": null,
            "margin": null,
            "display": null,
            "left": null
          }
        },
        "a26d3d8590964ef090a41e444167538d": {
          "model_module": "@jupyter-widgets/controls",
          "model_name": "DescriptionStyleModel",
          "state": {
            "_view_name": "StyleView",
            "_model_name": "DescriptionStyleModel",
            "description_width": "",
            "_view_module": "@jupyter-widgets/base",
            "_model_module_version": "1.5.0",
            "_view_count": null,
            "_view_module_version": "1.2.0",
            "_model_module": "@jupyter-widgets/controls"
          }
        },
        "7927180524024e109f8ff805643cc45e": {
          "model_module": "@jupyter-widgets/base",
          "model_name": "LayoutModel",
          "state": {
            "_view_name": "LayoutView",
            "grid_template_rows": null,
            "right": null,
            "justify_content": null,
            "_view_module": "@jupyter-widgets/base",
            "overflow": null,
            "_model_module_version": "1.2.0",
            "_view_count": null,
            "flex_flow": null,
            "width": null,
            "min_width": null,
            "border": null,
            "align_items": null,
            "bottom": null,
            "_model_module": "@jupyter-widgets/base",
            "top": null,
            "grid_column": null,
            "overflow_y": null,
            "overflow_x": null,
            "grid_auto_flow": null,
            "grid_area": null,
            "grid_template_columns": null,
            "flex": null,
            "_model_name": "LayoutModel",
            "justify_items": null,
            "grid_row": null,
            "max_height": null,
            "align_content": null,
            "visibility": null,
            "align_self": null,
            "height": null,
            "min_height": null,
            "padding": null,
            "grid_auto_rows": null,
            "grid_gap": null,
            "max_width": null,
            "order": null,
            "_view_module_version": "1.2.0",
            "grid_template_areas": null,
            "object_position": null,
            "object_fit": null,
            "grid_auto_columns": null,
            "margin": null,
            "display": null,
            "left": null
          }
        },
        "53b38c16a29a4ee1abdb446318fde85a": {
          "model_module": "@jupyter-widgets/controls",
          "model_name": "HBoxModel",
          "state": {
            "_view_name": "HBoxView",
            "_dom_classes": [],
            "_model_name": "HBoxModel",
            "_view_module": "@jupyter-widgets/controls",
            "_model_module_version": "1.5.0",
            "_view_count": null,
            "_view_module_version": "1.5.0",
            "box_style": "",
            "layout": "IPY_MODEL_c136b92762c14b7cbb9c33d529d0f8cb",
            "_model_module": "@jupyter-widgets/controls",
            "children": [
              "IPY_MODEL_13f25189db94479eaedeb77e6ad906cb",
              "IPY_MODEL_601cf151816546089b20293b09551cfd"
            ]
          }
        },
        "c136b92762c14b7cbb9c33d529d0f8cb": {
          "model_module": "@jupyter-widgets/base",
          "model_name": "LayoutModel",
          "state": {
            "_view_name": "LayoutView",
            "grid_template_rows": null,
            "right": null,
            "justify_content": null,
            "_view_module": "@jupyter-widgets/base",
            "overflow": null,
            "_model_module_version": "1.2.0",
            "_view_count": null,
            "flex_flow": null,
            "width": null,
            "min_width": null,
            "border": null,
            "align_items": null,
            "bottom": null,
            "_model_module": "@jupyter-widgets/base",
            "top": null,
            "grid_column": null,
            "overflow_y": null,
            "overflow_x": null,
            "grid_auto_flow": null,
            "grid_area": null,
            "grid_template_columns": null,
            "flex": null,
            "_model_name": "LayoutModel",
            "justify_items": null,
            "grid_row": null,
            "max_height": null,
            "align_content": null,
            "visibility": null,
            "align_self": null,
            "height": null,
            "min_height": null,
            "padding": null,
            "grid_auto_rows": null,
            "grid_gap": null,
            "max_width": null,
            "order": null,
            "_view_module_version": "1.2.0",
            "grid_template_areas": null,
            "object_position": null,
            "object_fit": null,
            "grid_auto_columns": null,
            "margin": null,
            "display": null,
            "left": null
          }
        },
        "13f25189db94479eaedeb77e6ad906cb": {
          "model_module": "@jupyter-widgets/controls",
          "model_name": "FloatProgressModel",
          "state": {
            "_view_name": "ProgressView",
            "style": "IPY_MODEL_70a4c172f18040edb02427f011fc3784",
            "_dom_classes": [],
            "description": "100%",
            "_model_name": "FloatProgressModel",
            "bar_style": "success",
            "max": 2984,
            "_view_module": "@jupyter-widgets/controls",
            "_model_module_version": "1.5.0",
            "value": 2984,
            "_view_count": null,
            "_view_module_version": "1.5.0",
            "orientation": "horizontal",
            "min": 0,
            "description_tooltip": null,
            "_model_module": "@jupyter-widgets/controls",
            "layout": "IPY_MODEL_1128cb626e6e45319e555d1068757e16"
          }
        },
        "601cf151816546089b20293b09551cfd": {
          "model_module": "@jupyter-widgets/controls",
          "model_name": "HTMLModel",
          "state": {
            "_view_name": "HTMLView",
            "style": "IPY_MODEL_37b33b45b97745099a721af3a1f7ca54",
            "_dom_classes": [],
            "description": "",
            "_model_name": "HTMLModel",
            "placeholder": "​",
            "_view_module": "@jupyter-widgets/controls",
            "_model_module_version": "1.5.0",
            "value": " 2984/2984 [00:00&lt;00:00, 3020.85ex/s]",
            "_view_count": null,
            "_view_module_version": "1.5.0",
            "description_tooltip": null,
            "_model_module": "@jupyter-widgets/controls",
            "layout": "IPY_MODEL_8615a87c8b6b413793824561bb085ee2"
          }
        },
        "70a4c172f18040edb02427f011fc3784": {
          "model_module": "@jupyter-widgets/controls",
          "model_name": "ProgressStyleModel",
          "state": {
            "_view_name": "StyleView",
            "_model_name": "ProgressStyleModel",
            "description_width": "initial",
            "_view_module": "@jupyter-widgets/base",
            "_model_module_version": "1.5.0",
            "_view_count": null,
            "_view_module_version": "1.2.0",
            "bar_color": null,
            "_model_module": "@jupyter-widgets/controls"
          }
        },
        "1128cb626e6e45319e555d1068757e16": {
          "model_module": "@jupyter-widgets/base",
          "model_name": "LayoutModel",
          "state": {
            "_view_name": "LayoutView",
            "grid_template_rows": null,
            "right": null,
            "justify_content": null,
            "_view_module": "@jupyter-widgets/base",
            "overflow": null,
            "_model_module_version": "1.2.0",
            "_view_count": null,
            "flex_flow": null,
            "width": null,
            "min_width": null,
            "border": null,
            "align_items": null,
            "bottom": null,
            "_model_module": "@jupyter-widgets/base",
            "top": null,
            "grid_column": null,
            "overflow_y": null,
            "overflow_x": null,
            "grid_auto_flow": null,
            "grid_area": null,
            "grid_template_columns": null,
            "flex": null,
            "_model_name": "LayoutModel",
            "justify_items": null,
            "grid_row": null,
            "max_height": null,
            "align_content": null,
            "visibility": null,
            "align_self": null,
            "height": null,
            "min_height": null,
            "padding": null,
            "grid_auto_rows": null,
            "grid_gap": null,
            "max_width": null,
            "order": null,
            "_view_module_version": "1.2.0",
            "grid_template_areas": null,
            "object_position": null,
            "object_fit": null,
            "grid_auto_columns": null,
            "margin": null,
            "display": null,
            "left": null
          }
        },
        "37b33b45b97745099a721af3a1f7ca54": {
          "model_module": "@jupyter-widgets/controls",
          "model_name": "DescriptionStyleModel",
          "state": {
            "_view_name": "StyleView",
            "_model_name": "DescriptionStyleModel",
            "description_width": "",
            "_view_module": "@jupyter-widgets/base",
            "_model_module_version": "1.5.0",
            "_view_count": null,
            "_view_module_version": "1.2.0",
            "_model_module": "@jupyter-widgets/controls"
          }
        },
        "8615a87c8b6b413793824561bb085ee2": {
          "model_module": "@jupyter-widgets/base",
          "model_name": "LayoutModel",
          "state": {
            "_view_name": "LayoutView",
            "grid_template_rows": null,
            "right": null,
            "justify_content": null,
            "_view_module": "@jupyter-widgets/base",
            "overflow": null,
            "_model_module_version": "1.2.0",
            "_view_count": null,
            "flex_flow": null,
            "width": null,
            "min_width": null,
            "border": null,
            "align_items": null,
            "bottom": null,
            "_model_module": "@jupyter-widgets/base",
            "top": null,
            "grid_column": null,
            "overflow_y": null,
            "overflow_x": null,
            "grid_auto_flow": null,
            "grid_area": null,
            "grid_template_columns": null,
            "flex": null,
            "_model_name": "LayoutModel",
            "justify_items": null,
            "grid_row": null,
            "max_height": null,
            "align_content": null,
            "visibility": null,
            "align_self": null,
            "height": null,
            "min_height": null,
            "padding": null,
            "grid_auto_rows": null,
            "grid_gap": null,
            "max_width": null,
            "order": null,
            "_view_module_version": "1.2.0",
            "grid_template_areas": null,
            "object_position": null,
            "object_fit": null,
            "grid_auto_columns": null,
            "margin": null,
            "display": null,
            "left": null
          }
        },
        "f3e97a1c56a24e14bfd142086aade2b2": {
          "model_module": "@jupyter-widgets/controls",
          "model_name": "HBoxModel",
          "state": {
            "_view_name": "HBoxView",
            "_dom_classes": [],
            "_model_name": "HBoxModel",
            "_view_module": "@jupyter-widgets/controls",
            "_model_module_version": "1.5.0",
            "_view_count": null,
            "_view_module_version": "1.5.0",
            "box_style": "",
            "layout": "IPY_MODEL_0c1c0ed951684f38b5f56a9b91fdcf5f",
            "_model_module": "@jupyter-widgets/controls",
            "children": [
              "IPY_MODEL_a6129d03b7e54ab49bf605d891879228",
              "IPY_MODEL_c2b7c5cb6dcd482a8315140ba5019091"
            ]
          }
        },
        "0c1c0ed951684f38b5f56a9b91fdcf5f": {
          "model_module": "@jupyter-widgets/base",
          "model_name": "LayoutModel",
          "state": {
            "_view_name": "LayoutView",
            "grid_template_rows": null,
            "right": null,
            "justify_content": null,
            "_view_module": "@jupyter-widgets/base",
            "overflow": null,
            "_model_module_version": "1.2.0",
            "_view_count": null,
            "flex_flow": null,
            "width": null,
            "min_width": null,
            "border": null,
            "align_items": null,
            "bottom": null,
            "_model_module": "@jupyter-widgets/base",
            "top": null,
            "grid_column": null,
            "overflow_y": null,
            "overflow_x": null,
            "grid_auto_flow": null,
            "grid_area": null,
            "grid_template_columns": null,
            "flex": null,
            "_model_name": "LayoutModel",
            "justify_items": null,
            "grid_row": null,
            "max_height": null,
            "align_content": null,
            "visibility": null,
            "align_self": null,
            "height": null,
            "min_height": null,
            "padding": null,
            "grid_auto_rows": null,
            "grid_gap": null,
            "max_width": null,
            "order": null,
            "_view_module_version": "1.2.0",
            "grid_template_areas": null,
            "object_position": null,
            "object_fit": null,
            "grid_auto_columns": null,
            "margin": null,
            "display": null,
            "left": null
          }
        },
        "a6129d03b7e54ab49bf605d891879228": {
          "model_module": "@jupyter-widgets/controls",
          "model_name": "FloatProgressModel",
          "state": {
            "_view_name": "ProgressView",
            "style": "IPY_MODEL_a5fcc8500a004daa86572d62b44ec863",
            "_dom_classes": [],
            "description": "Downloading: ",
            "_model_name": "FloatProgressModel",
            "bar_style": "success",
            "max": 1362,
            "_view_module": "@jupyter-widgets/controls",
            "_model_module_version": "1.5.0",
            "value": 1362,
            "_view_count": null,
            "_view_module_version": "1.5.0",
            "orientation": "horizontal",
            "min": 0,
            "description_tooltip": null,
            "_model_module": "@jupyter-widgets/controls",
            "layout": "IPY_MODEL_bd481803fed940dea9943a16b3d3e539"
          }
        },
        "c2b7c5cb6dcd482a8315140ba5019091": {
          "model_module": "@jupyter-widgets/controls",
          "model_name": "HTMLModel",
          "state": {
            "_view_name": "HTMLView",
            "style": "IPY_MODEL_49c220264c8c4434b0ba684dcf321117",
            "_dom_classes": [],
            "description": "",
            "_model_name": "HTMLModel",
            "placeholder": "​",
            "_view_module": "@jupyter-widgets/controls",
            "_model_module_version": "1.5.0",
            "value": " 2.92k/? [00:00&lt;00:00, 7.98kB/s]",
            "_view_count": null,
            "_view_module_version": "1.5.0",
            "description_tooltip": null,
            "_model_module": "@jupyter-widgets/controls",
            "layout": "IPY_MODEL_db764f16304d4fc3896bab575b9c0bda"
          }
        },
        "a5fcc8500a004daa86572d62b44ec863": {
          "model_module": "@jupyter-widgets/controls",
          "model_name": "ProgressStyleModel",
          "state": {
            "_view_name": "StyleView",
            "_model_name": "ProgressStyleModel",
            "description_width": "initial",
            "_view_module": "@jupyter-widgets/base",
            "_model_module_version": "1.5.0",
            "_view_count": null,
            "_view_module_version": "1.2.0",
            "bar_color": null,
            "_model_module": "@jupyter-widgets/controls"
          }
        },
        "bd481803fed940dea9943a16b3d3e539": {
          "model_module": "@jupyter-widgets/base",
          "model_name": "LayoutModel",
          "state": {
            "_view_name": "LayoutView",
            "grid_template_rows": null,
            "right": null,
            "justify_content": null,
            "_view_module": "@jupyter-widgets/base",
            "overflow": null,
            "_model_module_version": "1.2.0",
            "_view_count": null,
            "flex_flow": null,
            "width": null,
            "min_width": null,
            "border": null,
            "align_items": null,
            "bottom": null,
            "_model_module": "@jupyter-widgets/base",
            "top": null,
            "grid_column": null,
            "overflow_y": null,
            "overflow_x": null,
            "grid_auto_flow": null,
            "grid_area": null,
            "grid_template_columns": null,
            "flex": null,
            "_model_name": "LayoutModel",
            "justify_items": null,
            "grid_row": null,
            "max_height": null,
            "align_content": null,
            "visibility": null,
            "align_self": null,
            "height": null,
            "min_height": null,
            "padding": null,
            "grid_auto_rows": null,
            "grid_gap": null,
            "max_width": null,
            "order": null,
            "_view_module_version": "1.2.0",
            "grid_template_areas": null,
            "object_position": null,
            "object_fit": null,
            "grid_auto_columns": null,
            "margin": null,
            "display": null,
            "left": null
          }
        },
        "49c220264c8c4434b0ba684dcf321117": {
          "model_module": "@jupyter-widgets/controls",
          "model_name": "DescriptionStyleModel",
          "state": {
            "_view_name": "StyleView",
            "_model_name": "DescriptionStyleModel",
            "description_width": "",
            "_view_module": "@jupyter-widgets/base",
            "_model_module_version": "1.5.0",
            "_view_count": null,
            "_view_module_version": "1.2.0",
            "_model_module": "@jupyter-widgets/controls"
          }
        },
        "db764f16304d4fc3896bab575b9c0bda": {
          "model_module": "@jupyter-widgets/base",
          "model_name": "LayoutModel",
          "state": {
            "_view_name": "LayoutView",
            "grid_template_rows": null,
            "right": null,
            "justify_content": null,
            "_view_module": "@jupyter-widgets/base",
            "overflow": null,
            "_model_module_version": "1.2.0",
            "_view_count": null,
            "flex_flow": null,
            "width": null,
            "min_width": null,
            "border": null,
            "align_items": null,
            "bottom": null,
            "_model_module": "@jupyter-widgets/base",
            "top": null,
            "grid_column": null,
            "overflow_y": null,
            "overflow_x": null,
            "grid_auto_flow": null,
            "grid_area": null,
            "grid_template_columns": null,
            "flex": null,
            "_model_name": "LayoutModel",
            "justify_items": null,
            "grid_row": null,
            "max_height": null,
            "align_content": null,
            "visibility": null,
            "align_self": null,
            "height": null,
            "min_height": null,
            "padding": null,
            "grid_auto_rows": null,
            "grid_gap": null,
            "max_width": null,
            "order": null,
            "_view_module_version": "1.2.0",
            "grid_template_areas": null,
            "object_position": null,
            "object_fit": null,
            "grid_auto_columns": null,
            "margin": null,
            "display": null,
            "left": null
          }
        }
      }
    }
  },
  "cells": [
    {
      "cell_type": "markdown",
      "metadata": {
        "id": "kURC-RTZdb2k"
      },
      "source": [
        "This homework is based off a notebook. \n",
        "1. You will alter this as need for your results / questions. \n",
        "2. When you've successfully run them on a colab, download as an .ipynb and submit on the LMS."
      ]
    },
    {
      "cell_type": "markdown",
      "metadata": {
        "id": "pkZH14NyOLir"
      },
      "source": [
        "Make certain you are on a GPU Runtime first, by going to Runtime and selecting \"Change Runtime Type\", and then choosing Hardware Accelerator as GPU."
      ]
    },
    {
      "cell_type": "markdown",
      "metadata": {
        "id": "Y679JqaaBxuT"
      },
      "source": [
        "In this homework, you will build an emotion classifier based on a Huggingface emotions dataset."
      ]
    },
    {
      "cell_type": "markdown",
      "metadata": {
        "id": "X4cRE8IbIrIV"
      },
      "source": [
        "You will need to install 🤗 Transformers, numpy and 🤗 Datasets. Run the following three cells."
      ]
    },
    {
      "cell_type": "code",
      "metadata": {
        "id": "MOsHUjgdIrIW",
        "colab": {
          "base_uri": "https://localhost:8080/"
        },
        "outputId": "72aaa7ef-7de1-4568-f95d-4620ffc5f936"
      },
      "source": [
        "pip install datasets==1.3.0"
      ],
      "execution_count": null,
      "outputs": [
        {
          "output_type": "stream",
          "text": [
            "Collecting datasets==1.3.0\n",
            "\u001b[?25l  Downloading https://files.pythonhosted.org/packages/a2/12/5fd53adc5ba8a8d562b19f2c1c859547659e96b87a767cd52556538d205e/datasets-1.3.0-py3-none-any.whl (181kB)\n",
            "\u001b[K     |████████████████████████████████| 184kB 6.0MB/s \n",
            "\u001b[?25hRequirement already satisfied: pyarrow>=0.17.1 in /usr/local/lib/python3.7/dist-packages (from datasets==1.3.0) (3.0.0)\n",
            "Requirement already satisfied: tqdm<4.50.0,>=4.27 in /usr/local/lib/python3.7/dist-packages (from datasets==1.3.0) (4.41.1)\n",
            "Requirement already satisfied: dill in /usr/local/lib/python3.7/dist-packages (from datasets==1.3.0) (0.3.3)\n",
            "Requirement already satisfied: pandas in /usr/local/lib/python3.7/dist-packages (from datasets==1.3.0) (1.1.5)\n",
            "Collecting fsspec\n",
            "\u001b[?25l  Downloading https://files.pythonhosted.org/packages/91/0d/a6bfee0ddf47b254286b9bd574e6f50978c69897647ae15b14230711806e/fsspec-0.8.7-py3-none-any.whl (103kB)\n",
            "\u001b[K     |████████████████████████████████| 112kB 30.5MB/s \n",
            "\u001b[?25hRequirement already satisfied: importlib-metadata; python_version < \"3.8\" in /usr/local/lib/python3.7/dist-packages (from datasets==1.3.0) (3.7.2)\n",
            "Collecting xxhash\n",
            "\u001b[?25l  Downloading https://files.pythonhosted.org/packages/e7/27/1c0b37c53a7852f1c190ba5039404d27b3ae96a55f48203a74259f8213c9/xxhash-2.0.0-cp37-cp37m-manylinux2010_x86_64.whl (243kB)\n",
            "\u001b[K     |████████████████████████████████| 245kB 40.3MB/s \n",
            "\u001b[?25hRequirement already satisfied: multiprocess in /usr/local/lib/python3.7/dist-packages (from datasets==1.3.0) (0.70.11.1)\n",
            "Collecting huggingface-hub==0.0.2\n",
            "  Downloading https://files.pythonhosted.org/packages/b5/93/7cb0755c62c36cdadc70c79a95681df685b52cbaf76c724facb6ecac3272/huggingface_hub-0.0.2-py3-none-any.whl\n",
            "Requirement already satisfied: requests>=2.19.0 in /usr/local/lib/python3.7/dist-packages (from datasets==1.3.0) (2.23.0)\n",
            "Requirement already satisfied: numpy>=1.17 in /usr/local/lib/python3.7/dist-packages (from datasets==1.3.0) (1.19.5)\n",
            "Requirement already satisfied: python-dateutil>=2.7.3 in /usr/local/lib/python3.7/dist-packages (from pandas->datasets==1.3.0) (2.8.1)\n",
            "Requirement already satisfied: pytz>=2017.2 in /usr/local/lib/python3.7/dist-packages (from pandas->datasets==1.3.0) (2018.9)\n",
            "Requirement already satisfied: typing-extensions>=3.6.4; python_version < \"3.8\" in /usr/local/lib/python3.7/dist-packages (from importlib-metadata; python_version < \"3.8\"->datasets==1.3.0) (3.7.4.3)\n",
            "Requirement already satisfied: zipp>=0.5 in /usr/local/lib/python3.7/dist-packages (from importlib-metadata; python_version < \"3.8\"->datasets==1.3.0) (3.4.1)\n",
            "Requirement already satisfied: filelock in /usr/local/lib/python3.7/dist-packages (from huggingface-hub==0.0.2->datasets==1.3.0) (3.0.12)\n",
            "Requirement already satisfied: certifi>=2017.4.17 in /usr/local/lib/python3.7/dist-packages (from requests>=2.19.0->datasets==1.3.0) (2020.12.5)\n",
            "Requirement already satisfied: idna<3,>=2.5 in /usr/local/lib/python3.7/dist-packages (from requests>=2.19.0->datasets==1.3.0) (2.10)\n",
            "Requirement already satisfied: urllib3!=1.25.0,!=1.25.1,<1.26,>=1.21.1 in /usr/local/lib/python3.7/dist-packages (from requests>=2.19.0->datasets==1.3.0) (1.24.3)\n",
            "Requirement already satisfied: chardet<4,>=3.0.2 in /usr/local/lib/python3.7/dist-packages (from requests>=2.19.0->datasets==1.3.0) (3.0.4)\n",
            "Requirement already satisfied: six>=1.5 in /usr/local/lib/python3.7/dist-packages (from python-dateutil>=2.7.3->pandas->datasets==1.3.0) (1.15.0)\n",
            "Installing collected packages: fsspec, xxhash, huggingface-hub, datasets\n",
            "Successfully installed datasets-1.3.0 fsspec-0.8.7 huggingface-hub-0.0.2 xxhash-2.0.0\n"
          ],
          "name": "stdout"
        }
      ]
    },
    {
      "cell_type": "code",
      "metadata": {
        "id": "B9lgfCA1OC0M",
        "colab": {
          "base_uri": "https://localhost:8080/"
        },
        "outputId": "0a3e4ac4-d5ab-4a0a-d4e8-0e1af4aa6894"
      },
      "source": [
        "pip install transformers==4.3.2"
      ],
      "execution_count": null,
      "outputs": [
        {
          "output_type": "stream",
          "text": [
            "Collecting transformers==4.3.2\n",
            "\u001b[?25l  Downloading https://files.pythonhosted.org/packages/98/87/ef312eef26f5cecd8b17ae9654cdd8d1fae1eb6dbd87257d6d73c128a4d0/transformers-4.3.2-py3-none-any.whl (1.8MB)\n",
            "\u001b[K     |████████████████████████████████| 1.8MB 5.8MB/s \n",
            "\u001b[?25hRequirement already satisfied: importlib-metadata; python_version < \"3.8\" in /usr/local/lib/python3.7/dist-packages (from transformers==4.3.2) (3.7.2)\n",
            "Requirement already satisfied: numpy>=1.17 in /usr/local/lib/python3.7/dist-packages (from transformers==4.3.2) (1.19.5)\n",
            "Requirement already satisfied: filelock in /usr/local/lib/python3.7/dist-packages (from transformers==4.3.2) (3.0.12)\n",
            "Requirement already satisfied: requests in /usr/local/lib/python3.7/dist-packages (from transformers==4.3.2) (2.23.0)\n",
            "Collecting sacremoses\n",
            "\u001b[?25l  Downloading https://files.pythonhosted.org/packages/7d/34/09d19aff26edcc8eb2a01bed8e98f13a1537005d31e95233fd48216eed10/sacremoses-0.0.43.tar.gz (883kB)\n",
            "\u001b[K     |████████████████████████████████| 890kB 28.8MB/s \n",
            "\u001b[?25hCollecting tokenizers<0.11,>=0.10.1\n",
            "\u001b[?25l  Downloading https://files.pythonhosted.org/packages/71/23/2ddc317b2121117bf34dd00f5b0de194158f2a44ee2bf5e47c7166878a97/tokenizers-0.10.1-cp37-cp37m-manylinux2010_x86_64.whl (3.2MB)\n",
            "\u001b[K     |████████████████████████████████| 3.2MB 23.3MB/s \n",
            "\u001b[?25hRequirement already satisfied: packaging in /usr/local/lib/python3.7/dist-packages (from transformers==4.3.2) (20.9)\n",
            "Requirement already satisfied: tqdm>=4.27 in /usr/local/lib/python3.7/dist-packages (from transformers==4.3.2) (4.41.1)\n",
            "Requirement already satisfied: regex!=2019.12.17 in /usr/local/lib/python3.7/dist-packages (from transformers==4.3.2) (2019.12.20)\n",
            "Requirement already satisfied: zipp>=0.5 in /usr/local/lib/python3.7/dist-packages (from importlib-metadata; python_version < \"3.8\"->transformers==4.3.2) (3.4.1)\n",
            "Requirement already satisfied: typing-extensions>=3.6.4; python_version < \"3.8\" in /usr/local/lib/python3.7/dist-packages (from importlib-metadata; python_version < \"3.8\"->transformers==4.3.2) (3.7.4.3)\n",
            "Requirement already satisfied: urllib3!=1.25.0,!=1.25.1,<1.26,>=1.21.1 in /usr/local/lib/python3.7/dist-packages (from requests->transformers==4.3.2) (1.24.3)\n",
            "Requirement already satisfied: idna<3,>=2.5 in /usr/local/lib/python3.7/dist-packages (from requests->transformers==4.3.2) (2.10)\n",
            "Requirement already satisfied: chardet<4,>=3.0.2 in /usr/local/lib/python3.7/dist-packages (from requests->transformers==4.3.2) (3.0.4)\n",
            "Requirement already satisfied: certifi>=2017.4.17 in /usr/local/lib/python3.7/dist-packages (from requests->transformers==4.3.2) (2020.12.5)\n",
            "Requirement already satisfied: six in /usr/local/lib/python3.7/dist-packages (from sacremoses->transformers==4.3.2) (1.15.0)\n",
            "Requirement already satisfied: click in /usr/local/lib/python3.7/dist-packages (from sacremoses->transformers==4.3.2) (7.1.2)\n",
            "Requirement already satisfied: joblib in /usr/local/lib/python3.7/dist-packages (from sacremoses->transformers==4.3.2) (1.0.1)\n",
            "Requirement already satisfied: pyparsing>=2.0.2 in /usr/local/lib/python3.7/dist-packages (from packaging->transformers==4.3.2) (2.4.7)\n",
            "Building wheels for collected packages: sacremoses\n",
            "  Building wheel for sacremoses (setup.py) ... \u001b[?25l\u001b[?25hdone\n",
            "  Created wheel for sacremoses: filename=sacremoses-0.0.43-cp37-none-any.whl size=893262 sha256=387d4f9360139695e0ea06c8e13b894828334e41cdfecaef3252b515de26de4e\n",
            "  Stored in directory: /root/.cache/pip/wheels/29/3c/fd/7ce5c3f0666dab31a50123635e6fb5e19ceb42ce38d4e58f45\n",
            "Successfully built sacremoses\n",
            "Installing collected packages: sacremoses, tokenizers, transformers\n",
            "Successfully installed sacremoses-0.0.43 tokenizers-0.10.1 transformers-4.3.2\n"
          ],
          "name": "stdout"
        }
      ]
    },
    {
      "cell_type": "code",
      "metadata": {
        "id": "63YCXee080As",
        "colab": {
          "base_uri": "https://localhost:8080/",
          "height": 290
        },
        "outputId": "74aad09a-8490-4d1c-d6d7-6c0d09052855"
      },
      "source": [
        "pip install numpy==1.20.1"
      ],
      "execution_count": null,
      "outputs": [
        {
          "output_type": "stream",
          "text": [
            "Collecting numpy==1.20.1\n",
            "\u001b[?25l  Downloading https://files.pythonhosted.org/packages/70/8a/064b4077e3d793f877e3b77aa64f56fa49a4d37236a53f78ee28be009a16/numpy-1.20.1-cp37-cp37m-manylinux2010_x86_64.whl (15.3MB)\n",
            "\u001b[K     |████████████████████████████████| 15.3MB 179kB/s \n",
            "\u001b[31mERROR: tensorflow 2.4.1 has requirement numpy~=1.19.2, but you'll have numpy 1.20.1 which is incompatible.\u001b[0m\n",
            "\u001b[31mERROR: datascience 0.10.6 has requirement folium==0.2.1, but you'll have folium 0.8.3 which is incompatible.\u001b[0m\n",
            "\u001b[31mERROR: albumentations 0.1.12 has requirement imgaug<0.2.7,>=0.2.5, but you'll have imgaug 0.2.9 which is incompatible.\u001b[0m\n",
            "\u001b[?25hInstalling collected packages: numpy\n",
            "  Found existing installation: numpy 1.19.5\n",
            "    Uninstalling numpy-1.19.5:\n",
            "      Successfully uninstalled numpy-1.19.5\n",
            "Successfully installed numpy-1.20.1\n"
          ],
          "name": "stdout"
        },
        {
          "output_type": "display_data",
          "data": {
            "application/vnd.colab-display-data+json": {
              "pip_warning": {
                "packages": [
                  "numpy"
                ]
              }
            }
          },
          "metadata": {
            "tags": []
          }
        }
      ]
    },
    {
      "cell_type": "code",
      "metadata": {
        "id": "YZbiBDuGIrId",
        "colab": {
          "base_uri": "https://localhost:8080/",
          "height": 316,
          "referenced_widgets": [
            "3a4f485870ce45018a360c5c63eed900",
            "f1648879da794bbabe32a2d02a9ded4d",
            "9a691ed42c154a19923a4bd1c1a7e7ec",
            "beacc9777d5844c2b83fdf5a974e1eea",
            "6df0fbcea0524b07b8f540c6f4f9722c",
            "8e489c51c5054b1d84c50a9e1a36f003",
            "b1906c2b481a48c98787ee95a0aac19e",
            "f56cd3ebd9fd414aad80617558ef8a73",
            "4665b61c6e85437280c06702ab48488f",
            "1443ef6fe1f2401b9c18deea86091084",
            "4aae7ba346a844f9b9bccbdaa8b78c10",
            "46bb1814c61e4880bebfb4895d7a2ba5",
            "606db8eb9d6b4f6696f2a766aab35266",
            "d34825b8640b42108039385594be6815",
            "4be9f2801b0b4c31b4e9493943dcc009",
            "0f412a03fc6944769fcb5c93976b1eef",
            "8220d8c88b584c57976331e642a91a0d",
            "89acb9b83fcb44469ea15d1a2a21a77f",
            "e4b8a460417343f6a89ee3203e7f1531",
            "42215894d2fd4fabbaee64666b8d70f6",
            "a60fffe4199a46ca86005c72b595bf23",
            "d18e59aa9ae84d5e9dd9c4e14bf9895f",
            "fb4d8f3348bb415386761f6b245764e5",
            "bf5094b9e03947d09b6d3af1dbd89306",
            "6b78a1d95f714a88ba66a952eb763a00",
            "f37d9f474cb948f09a0124ebd0bb7bea",
            "fcbf3e31cf284cfd97433ce8c30b6890",
            "5aca59b2cc264366a7e3172e7e1326be",
            "1ce11ebc66ed4a17b32043949605e2d6",
            "78a73ada8463430487822888992ea837",
            "8200d2c1cee6465eb336fda3a2870d7d",
            "82f2b458f92c4066810c60bec0bfc6ab",
            "d84b5d1587a643659f241cc856a1a8b8",
            "bc9f397b2c8643358d0bf5adbcd067ed",
            "7685884902334fdba9633ea305e13b1b",
            "1b2f865f29cf4ccaa8c556e012354459",
            "a003fc137e7742d5820ba20fb62f6752",
            "56e8f00682ba43dbb03877ebf817f0a0",
            "8e266691ea994e44bbe26deba6a1ea47",
            "7ffeb769d1a4460898604fe4396e89bc",
            "0fa3aef5384d49f2ab453149a0bd29c1",
            "5368458992b9467ebb2dbf390ca0c28d",
            "ec44bd7103ea410e9697bb063d26e57a",
            "0164c05fad1e4bff8024bd4bd19f3a16",
            "94390c9220894c23a3f1d5569c2502ec",
            "361217e942e140ccb1a3e653f36d6db6",
            "da319c3458b64536a1d54d603c3ef02a",
            "b58044449952440998379b64cb95ae76",
            "e011b03a32cb41f182ae106f15e1cc68",
            "3b0e2634912d485c9ff73eac38b1e991",
            "09a1db7f39884dcdb31173384691ce9f",
            "e116563dbb6a4f4a8fae31d1ca5cda50",
            "8453f7e91d4240b89349c194d3ad01a6",
            "a7ed5360a3cf4156a57762e28cfade6a",
            "fd3e0bd38937404e822dde2ae56baeae",
            "baa1c8f61b3242e18e5985dd277ef85b",
            "d0a2b66015694997a5a4f5f9285a4ee8",
            "a976086f6a7d427886bed3e55be87e8b",
            "5b725885487e4f3497ec33fe1fd08335",
            "cde7800a8fc0444fa62bc4fa27e99f54",
            "3577fc41b1c44662a4b83b6d8deb3852",
            "0a5a655345894e2cab376cc142d089c9",
            "2a8b579cf432453eaa9a51643bd3b265",
            "574e755eac154abb9e73c4781ccc042b"
          ]
        },
        "outputId": "ff64156a-da8d-4b82-9dd6-56f45cc98b5a"
      },
      "source": [
        "from datasets import load_dataset\n",
        "from datasets import ClassLabel, Value\n",
        "emotions_dataset = load_dataset('go_emotions', 'simplified')\n",
        "\n",
        "accuracies = []\n"
      ],
      "execution_count": null,
      "outputs": [
        {
          "output_type": "display_data",
          "data": {
            "application/vnd.jupyter.widget-view+json": {
              "model_id": "3a4f485870ce45018a360c5c63eed900",
              "version_minor": 0,
              "version_major": 2
            },
            "text/plain": [
              "HBox(children=(FloatProgress(value=0.0, description='Downloading', max=2042.0, style=ProgressStyle(description…"
            ]
          },
          "metadata": {
            "tags": []
          }
        },
        {
          "output_type": "stream",
          "text": [
            "\n"
          ],
          "name": "stdout"
        },
        {
          "output_type": "display_data",
          "data": {
            "application/vnd.jupyter.widget-view+json": {
              "model_id": "4665b61c6e85437280c06702ab48488f",
              "version_minor": 0,
              "version_major": 2
            },
            "text/plain": [
              "HBox(children=(FloatProgress(value=0.0, description='Downloading', max=1672.0, style=ProgressStyle(description…"
            ]
          },
          "metadata": {
            "tags": []
          }
        },
        {
          "output_type": "stream",
          "text": [
            "\n",
            "Downloading and preparing dataset go_emotions/simplified (download: 4.19 MiB, generated: 5.03 MiB, post-processed: Unknown size, total: 9.22 MiB) to /root/.cache/huggingface/datasets/go_emotions/simplified/0.0.0/ef1c18ea192c771555f1e0d638889dd5f1896255782c57c6a0b934d5f94f779e...\n"
          ],
          "name": "stdout"
        },
        {
          "output_type": "display_data",
          "data": {
            "application/vnd.jupyter.widget-view+json": {
              "model_id": "8220d8c88b584c57976331e642a91a0d",
              "version_minor": 0,
              "version_major": 2
            },
            "text/plain": [
              "HBox(children=(FloatProgress(value=0.0, description='Downloading', max=1611423.0, style=ProgressStyle(descript…"
            ]
          },
          "metadata": {
            "tags": []
          }
        },
        {
          "output_type": "stream",
          "text": [
            "\n"
          ],
          "name": "stdout"
        },
        {
          "output_type": "display_data",
          "data": {
            "application/vnd.jupyter.widget-view+json": {
              "model_id": "6b78a1d95f714a88ba66a952eb763a00",
              "version_minor": 0,
              "version_major": 2
            },
            "text/plain": [
              "HBox(children=(FloatProgress(value=0.0, description='Downloading', max=202559.0, style=ProgressStyle(descripti…"
            ]
          },
          "metadata": {
            "tags": []
          }
        },
        {
          "output_type": "stream",
          "text": [
            "\n"
          ],
          "name": "stdout"
        },
        {
          "output_type": "display_data",
          "data": {
            "application/vnd.jupyter.widget-view+json": {
              "model_id": "d84b5d1587a643659f241cc856a1a8b8",
              "version_minor": 0,
              "version_major": 2
            },
            "text/plain": [
              "HBox(children=(FloatProgress(value=0.0, description='Downloading', max=201089.0, style=ProgressStyle(descripti…"
            ]
          },
          "metadata": {
            "tags": []
          }
        },
        {
          "output_type": "stream",
          "text": [
            "\n"
          ],
          "name": "stdout"
        },
        {
          "output_type": "display_data",
          "data": {
            "application/vnd.jupyter.widget-view+json": {
              "model_id": "0fa3aef5384d49f2ab453149a0bd29c1",
              "version_minor": 0,
              "version_major": 2
            },
            "text/plain": [
              "HBox(children=(FloatProgress(value=1.0, bar_style='info', max=1.0), HTML(value='')))"
            ]
          },
          "metadata": {
            "tags": []
          }
        },
        {
          "output_type": "stream",
          "text": [
            "\r"
          ],
          "name": "stdout"
        },
        {
          "output_type": "display_data",
          "data": {
            "application/vnd.jupyter.widget-view+json": {
              "model_id": "e011b03a32cb41f182ae106f15e1cc68",
              "version_minor": 0,
              "version_major": 2
            },
            "text/plain": [
              "HBox(children=(FloatProgress(value=1.0, bar_style='info', max=1.0), HTML(value='')))"
            ]
          },
          "metadata": {
            "tags": []
          }
        },
        {
          "output_type": "stream",
          "text": [
            "\r"
          ],
          "name": "stdout"
        },
        {
          "output_type": "display_data",
          "data": {
            "application/vnd.jupyter.widget-view+json": {
              "model_id": "d0a2b66015694997a5a4f5f9285a4ee8",
              "version_minor": 0,
              "version_major": 2
            },
            "text/plain": [
              "HBox(children=(FloatProgress(value=1.0, bar_style='info', max=1.0), HTML(value='')))"
            ]
          },
          "metadata": {
            "tags": []
          }
        },
        {
          "output_type": "stream",
          "text": [
            "\rDataset go_emotions downloaded and prepared to /root/.cache/huggingface/datasets/go_emotions/simplified/0.0.0/ef1c18ea192c771555f1e0d638889dd5f1896255782c57c6a0b934d5f94f779e. Subsequent calls will reuse this data.\n"
          ],
          "name": "stdout"
        }
      ]
    },
    {
      "cell_type": "markdown",
      "metadata": {
        "id": "WHUmphG3IrI3"
      },
      "source": [
        "To get a sense of what the data looks like, the following function will show some examples picked randomly in the dataset."
      ]
    },
    {
      "cell_type": "code",
      "metadata": {
        "id": "i3j8APAoIrI3"
      },
      "source": [
        "import datasets\n",
        "import random\n",
        "import pandas as pd\n",
        "from IPython.display import display, HTML\n",
        "import matplotlib.pyplot as plt\n",
        "\n",
        "\n",
        "\n",
        "def show_random_elements(dataset, num_examples=10):\n",
        "    assert num_examples <= len(dataset), \"Can't pick more elements than there are in the dataset.\"\n",
        "    picks = []\n",
        "    for _ in range(num_examples):\n",
        "        pick = random.randint(0, len(dataset)-1)\n",
        "        while pick in picks:\n",
        "            pick = random.randint(0, len(dataset)-1)\n",
        "        picks.append(pick)\n",
        "    \n",
        "    df = pd.DataFrame(dataset[picks])\n",
        "\n",
        "    for column, typ in dataset.features.items():\n",
        "        if isinstance(typ, datasets.ClassLabel):\n",
        "            df[column] = df[column].transform(lambda i: typ.names[i])\n",
        "   \n",
        "   \n",
        "    display(HTML(df.to_html()))"
      ],
      "execution_count": null,
      "outputs": []
    },
    {
      "cell_type": "code",
      "metadata": {
        "id": "SZy5tRB_IrI7",
        "colab": {
          "base_uri": "https://localhost:8080/",
          "height": 235,
          "referenced_widgets": [
            "b740dd8f1c8645f2bb344ace48e1d7c3",
            "dc8c410330144f6bbc10bedf5b4cb326",
            "59e36d12853b4ace9745f485fafc5432",
            "d84644829c58428db2d0a9dea589f211",
            "266584b326944012b356f6daa352c0e1",
            "62a5bce88c434acfba7f0560ffd9efa2",
            "13fb7a16e11a42b4bdc80d1fab26eaae",
            "80868aadcd184825affbf9faeee002f4",
            "1bb9bf8fdc254e758bbd7f5759a1a850",
            "f679a492c5604084a8ad77fdef2b4b98",
            "c0fa8eaee0b848b0bd97c6beb235fb71",
            "995baaa119ec472e8d9e0066e4fcc6e8",
            "afa9959dabfe4fab86ebea738926a242",
            "7e48291efe454ef79acf3c368da7044b",
            "5a6779df9f4843e9bad183b42edbbea4",
            "d91b1888ab014599ae233f0ddf1cc858",
            "34697e49d17d42c49f16058a71628f79",
            "0f26014f098944e1bba460967dff2f41",
            "d7d091abb0224cc2927d7e956f64acfa",
            "4f72423fe8554350a035fb25697910c1",
            "7de8159a49a048589efe05cba4903d43",
            "f28800ed52fa43708baa570fc7bef3e3",
            "f296a8dbb06f44a385e73635237705af",
            "3038d394aa1f4a4aa3ba6f66299e0b47"
          ]
        },
        "outputId": "7325bad3-e7a0-4484-d95c-4c149778d2de"
      },
      "source": [
        "# For simplicity, train model with single label for item.\n",
        "\n",
        "restricted_dataset = emotions_dataset.filter(lambda x: len(x[\"labels\"]) == 1 and 27 not in x['labels'])\n",
        "print(len(restricted_dataset['train']))\n",
        "#print(len(emotions_dataset['train']))\n",
        "\n",
        "df = pd.DataFrame(restricted_dataset['train'])\n",
        "df['labels'] =  '[0]'\n",
        "\n",
        "#restricted_dataset['train']['labels'] =  df['labels']\n",
        " \n",
        "# new_features = restricted_dataset.features.copy()\n",
        "# new_features[\"labels\"] = ClassLabel(names=['negative', 'positive'])\n",
        "# new_features[\"idx\"] = Value('int64')\n",
        "# dataset = dataset.cast(new_features)\n",
        "\n",
        "\n",
        "column = df[\"labels\"]\n",
        "max_index = column.max()\n",
        "\n",
        "restricted_dataset['train']['labels'][1] = [1]\n",
        "#print(restricted_dataset['train'])\n",
        "\n",
        "trainSet = restricted_dataset['train']\n",
        "print(trainSet['labels'])\n",
        "\n",
        "\n",
        "# for i in range(len(restricted_dataset['train']['labels'])-1):\n",
        "  # restricted_dataset['train']['labels'][i]\n",
        "\n",
        "# for label in restricted_dataset['train']['labels']:\n",
        "#   print(label)\n",
        "\n",
        "print(restricted_dataset['train'].features.items())\n",
        "\n",
        "#show_random_elements(restricted_dataset['train'])\n",
        "\n",
        "\n",
        "\n",
        "\n",
        "\n"
      ],
      "execution_count": null,
      "outputs": [
        {
          "output_type": "display_data",
          "data": {
            "application/vnd.jupyter.widget-view+json": {
              "model_id": "b740dd8f1c8645f2bb344ace48e1d7c3",
              "version_minor": 0,
              "version_major": 2
            },
            "text/plain": [
              "HBox(children=(FloatProgress(value=0.0, max=44.0), HTML(value='')))"
            ]
          },
          "metadata": {
            "tags": []
          }
        },
        {
          "output_type": "stream",
          "text": [
            "\n"
          ],
          "name": "stdout"
        },
        {
          "output_type": "display_data",
          "data": {
            "application/vnd.jupyter.widget-view+json": {
              "model_id": "1bb9bf8fdc254e758bbd7f5759a1a850",
              "version_minor": 0,
              "version_major": 2
            },
            "text/plain": [
              "HBox(children=(FloatProgress(value=0.0, max=6.0), HTML(value='')))"
            ]
          },
          "metadata": {
            "tags": []
          }
        },
        {
          "output_type": "stream",
          "text": [
            "\n"
          ],
          "name": "stdout"
        },
        {
          "output_type": "display_data",
          "data": {
            "application/vnd.jupyter.widget-view+json": {
              "model_id": "34697e49d17d42c49f16058a71628f79",
              "version_minor": 0,
              "version_major": 2
            },
            "text/plain": [
              "HBox(children=(FloatProgress(value=0.0, max=6.0), HTML(value='')))"
            ]
          },
          "metadata": {
            "tags": []
          }
        },
        {
          "output_type": "stream",
          "text": [
            "\n",
            "23485\n",
            "[[2], [14], [3], [26], [15], [0], [6], [5], [3], [15], [2], [12], [2], [15], [2], [6], [6], [17], [0], [25], [10], [20], [4], [10], [15], [12], [13], [1], [0], [3], [0], [1], [13], [4], [25], [4], [25], [9], [4], [24], [18], [4], [7], [7], [0], [3], [10], [5], [15], [0], [22], [17], [2], [2], [3], [26], [7], [2], [15], [11], [9], [22], [2], [13], [9], [15], [23], [1], [15], [0], [14], [18], [3], [5], [0], [14], [18], [20], [0], [0], [17], [26], [7], [15], [0], [10], [17], [7], [4], [2], [3], [4], [11], [18], [7], [7], [17], [15], [0], [4], [18], [6], [26], [25], [0], [25], [0], [20], [7], [17], [11], [4], [6], [10], [6], [7], [4], [4], [1], [0], [25], [10], [7], [1], [3], [25], [5], [9], [1], [18], [1], [15], [3], [15], [11], [9], [26], [9], [15], [15], [4], [7], [6], [4], [14], [10], [1], [17], [21], [0], [20], [3], [10], [1], [22], [25], [20], [1], [7], [26], [3], [1], [1], [10], [15], [1], [26], [3], [14], [3], [0], [1], [16], [7], [3], [20], [11], [26], [13], [15], [17], [18], [3], [14], [0], [6], [7], [3], [1], [26], [15], [3], [0], [9], [13], [5], [4], [12], [3], [5], [4], [1], [0], [14], [10], [25], [24], [20], [14], [15], [7], [6], [4], [10], [9], [18], [4], [4], [0], [1], [0], [3], [5], [3], [6], [4], [0], [0], [0], [7], [17], [7], [2], [11], [1], [18], [15], [9], [1], [8], [22], [6], [8], [0], [3], [18], [0], [15], [0], [22], [18], [26], [10], [20], [18], [3], [9], [20], [3], [15], [5], [26], [7], [1], [10], [18], [3], [19], [1], [9], [26], [17], [24], [0], [18], [18], [7], [19], [26], [8], [0], [10], [12], [11], [20], [17], [4], [2], [17], [9], [0], [3], [16], [7], [5], [1], [20], [9], [1], [1], [26], [4], [1], [0], [1], [0], [0], [10], [7], [6], [18], [26], [17], [20], [7], [2], [10], [3], [2], [10], [4], [17], [4], [26], [3], [2], [2], [18], [4], [2], [24], [0], [1], [4], [2], [24], [4], [26], [10], [22], [3], [15], [4], [1], [6], [6], [25], [3], [0], [10], [20], [0], [1], [25], [10], [7], [15], [0], [1], [15], [0], [4], [3], [2], [0], [1], [2], [1], [1], [18], [10], [0], [1], [3], [4], [20], [25], [15], [10], [1], [7], [9], [10], [18], [7], [9], [12], [2], [4], [8], [22], [9], [15], [3], [6], [26], [1], [2], [10], [0], [18], [10], [18], [7], [25], [1], [17], [0], [17], [0], [10], [1], [3], [25], [19], [10], [13], [0], [0], [18], [15], [0], [24], [6], [17], [3], [18], [0], [10], [7], [15], [15], [2], [11], [2], [6], [4], [25], [26], [4], [0], [10], [15], [5], [0], [3], [4], [25], [5], [0], [4], [10], [15], [17], [6], [7], [8], [20], [24], [1], [26], [10], [10], [7], [18], [2], [1], [8], [9], [1], [18], [15], [18], [17], [4], [2], [7], [20], [6], [4], [5], [6], [10], [18], [4], [18], [4], [0], [2], [4], [0], [9], [3], [22], [2], [20], [17], [25], [0], [26], [3], [3], [25], [9], [0], [10], [8], [2], [9], [4], [17], [0], [20], [11], [4], [6], [15], [6], [10], [9], [14], [7], [5], [0], [26], [0], [1], [5], [1], [18], [20], [4], [20], [10], [4], [9], [7], [22], [9], [11], [18], [1], [26], [1], [2], [20], [1], [17], [8], [10], [0], [0], [13], [6], [10], [0], [7], [0], [3], [17], [26], [26], [9], [22], [11], [25], [2], [1], [24], [14], [20], [6], [4], [15], [1], [11], [5], [10], [0], [18], [24], [7], [0], [0], [1], [25], [26], [9], [5], [6], [18], [4], [4], [1], [0], [0], [5], [26], [25], [1], [0], [4], [3], [20], [0], [0], [0], [4], [0], [3], [15], [18], [0], [3], [1], [6], [18], [17], [0], [15], [4], [7], [0], [3], [18], [26], [2], [17], [13], [4], [0], [3], [0], [9], [20], [4], [4], [4], [7], [14], [25], [0], [0], [3], [12], [18], [10], [23], [26], [22], [20], [0], [15], [20], [0], [26], [6], [2], [22], [2], [17], [0], [0], [17], [1], [20], [7], [4], [4], [10], [6], [10], [3], [15], [0], [4], [17], [9], [4], [16], [18], [2], [11], [2], [10], [4], [24], [0], [1], [22], [17], [18], [15], [22], [6], [7], [26], [15], [0], [24], [20], [4], [7], [0], [0], [18], [1], [0], [5], [3], [13], [9], [0], [20], [17], [1], [10], [18], [0], [1], [15], [1], [6], [5], [25], [6], [3], [18], [9], [17], [18], [4], [26], [6], [1], [4], [18], [0], [18], [7], [10], [2], [15], [13], [8], [4], [18], [17], [2], [10], [15], [6], [20], [15], [4], [19], [10], [2], [18], [4], [18], [9], [9], [10], [3], [0], [25], [7], [3], [20], [0], [0], [4], [15], [22], [1], [7], [7], [4], [18], [2], [4], [9], [15], [18], [15], [6], [3], [14], [10], [2], [0], [26], [25], [3], [15], [15], [6], [10], [4], [15], [10], [10], [7], [12], [23], [26], [26], [13], [2], [2], [5], [0], [0], [2], [26], [6], [10], [24], [17], [2], [13], [0], [20], [17], [26], [17], [0], [15], [15], [10], [10], [0], [9], [5], [17], [25], [10], [2], [8], [2], [0], [20], [25], [20], [17], [15], [22], [3], [3], [4], [3], [5], [14], [20], [5], [5], [1], [3], [6], [5], [1], [3], [4], [3], [4], [20], [19], [0], [0], [20], [22], [11], [1], [2], [4], [2], [9], [7], [3], [4], [18], [23], [2], [15], [1], [4], [0], [0], [10], [7], [10], [0], [0], [25], [1], [20], [17], [15], [0], [22], [11], [18], [1], [0], [7], [18], [17], [2], [5], [1], [0], [26], [15], [15], [15], [4], [11], [15], [15], [18], [25], [14], [0], [25], [4], [10], [15], [7], [14], [15], [4], [13], [18], [18], [1], [1], [11], [1], [23], [20], [1], [15], [10], [0], [15], [7], [2], [7], [3], [18], [9], [13], [8], [18], [1], [15], [17], [3], [0], [4], [20], [18], [7], [7], [20], [13], [4], [5], [17], [10], [3], [9], [15], [18], [0], [18], [3], [0], [1], [15], [17], [17], [10], [22], [4], [3], [4], [15], [7], [26], [15], [3], [18], [21], [25], [18], [4], [0], [0], [2], [6], [15], [18], [25], [7], [18], [18], [5], [18], [22], [4], [0], [10], [0], [1], [15], [9], [20], [26], [20], [4], [22], [25], [4], [24], [17], [7], [26], [15], [4], [0], [20], [15], [9], [10], [3], [15], [17], [13], [18], [4], [18], [1], [10], [18], [15], [0], [18], [4], [3], [4], [8], [22], [14], [2], [17], [10], [11], [13], [2], [9], [18], [25], [15], [1], [1], [0], [18], [4], [15], [24], [0], [18], [18], [15], [18], [8], [20], [18], [0], [0], [25], [25], [0], [15], [17], [6], [3], [8], [1], [20], [8], [7], [20], [15], [19], [26], [6], [2], [24], [1], [1], [17], [0], [8], [5], [15], [24], [26], [1], [15], [15], [18], [18], [17], [0], [10], [0], [17], [7], [25], [13], [13], [0], [18], [19], [6], [1], [17], [0], [22], [7], [17], [0], [0], [24], [6], [15], [18], [9], [8], [15], [9], [15], [1], [14], [0], [0], [0], [18], [5], [18], [17], [13], [24], [10], [10], [25], [13], [0], [1], [18], [12], [3], [6], [15], [1], [10], [25], [10], [22], [18], [15], [0], [25], [20], [1], [14], [18], [9], [0], [17], [2], [3], [6], [22], [3], [20], [3], [4], [10], [5], [0], [23], [10], [4], [1], [22], [0], [24], [15], [4], [10], [14], [3], [18], [4], [8], [0], [6], [11], [11], [8], [22], [7], [0], [9], [2], [0], [20], [3], [1], [3], [15], [2], [7], [20], [10], [6], [0], [18], [3], [0], [19], [17], [13], [0], [26], [6], [5], [1], [11], [4], [25], [0], [7], [18], [15], [0], [25], [7], [10], [24], [13], [4], [17], [1], [8], [26], [20], [1], [9], [1], [10], [18], [15], [0], [25], [0], [3], [3], [2], [0], [0], [15], [25], [18], [0], [0], [25], [0], [8], [14], [10], [2], [0], [17], [17], [6], [3], [6], [14], [14], [11], [13], [15], [2], [0], [3], [5], [20], [9], [0], [10], [0], [9], [0], [11], [4], [20], [0], [3], [6], [8], [1], [2], [6], [0], [4], [4], [15], [2], [4], [0], [12], [1], [17], [18], [25], [14], [2], [0], [7], [17], [20], [3], [2], [15], [7], [20], [13], [1], [13], [12], [17], [7], [3], [1], [17], [15], [20], [10], [17], [25], [9], [22], [10], [24], [4], [1], [20], [2], [0], [6], [3], [13], [0], [0], [1], [0], [15], [0], [0], [4], [1], [13], [15], [10], [5], [15], [0], [15], [11], [17], [15], [9], [22], [10], [3], [4], [1], [11], [7], [10], [14], [22], [18], [6], [18], [11], [5], [20], [15], [20], [18], [4], [0], [6], [18], [7], [8], [10], [18], [18], [20], [7], [18], [4], [3], [12], [26], [15], [2], [0], [18], [20], [22], [15], [1], [10], [18], [3], [10], [4], [0], [0], [1], [23], [15], [18], [3], [25], [20], [9], [26], [10], [11], [18], [9], [0], [11], [7], [6], [10], [10], [0], [15], [0], [18], [7], [3], [10], [26], [2], [15], [0], [1], [10], [7], [7], [18], [22], [2], [9], [15], [25], [9], [26], [18], [10], [15], [13], [0], [25], [12], [15], [25], [10], [8], [3], [4], [4], [0], [10], [0], [25], [17], [18], [13], [15], [2], [18], [14], [5], [3], [22], [1], [3], [5], [17], [17], [18], [24], [4], [20], [0], [17], [6], [3], [26], [0], [0], [11], [26], [1], [25], [0], [11], [22], [18], [20], [4], [0], [17], [8], [5], [3], [4], [11], [3], [18], [5], [15], [0], [22], [1], [1], [26], [10], [15], [9], [25], [4], [15], [18], [20], [17], [0], [22], [4], [15], [9], [4], [10], [15], [0], [0], [17], [6], [9], [4], [10], [20], [18], [20], [17], [14], [22], [0], [3], [2], [2], [15], [2], [24], [3], [6], [1], [14], [15], [4], [17], [15], [0], [4], [5], [20], [15], [1], [26], [22], [26], [18], [17], [1], [15], [10], [6], [0], [2], [0], [17], [0], [11], [7], [22], [3], [25], [7], [17], [10], [3], [9], [14], [15], [10], [9], [18], [17], [0], [1], [0], [17], [22], [25], [0], [20], [20], [18], [3], [9], [0], [10], [1], [17], [7], [22], [4], [2], [7], [7], [10], [3], [0], [14], [2], [0], [7], [5], [18], [2], [9], [15], [0], [0], [4], [5], [18], [3], [7], [8], [3], [20], [11], [0], [6], [9], [11], [15], [5], [25], [15], [1], [6], [25], [1], [17], [17], [11], [18], [1], [0], [20], [24], [15], [1], [18], [18], [24], [15], [15], [0], [10], [7], [25], [24], [20], [2], [1], [7], [3], [14], [1], [10], [1], [9], [0], [12], [4], [7], [1], [6], [18], [14], [25], [10], [12], [26], [3], [0], [15], [10], [1], [18], [8], [26], [3], [1], [24], [9], [13], [0], [22], [2], [0], [17], [15], [9], [26], [22], [18], [4], [4], [14], [5], [17], [18], [7], [25], [18], [3], [7], [15], [1], [2], [15], [15], [0], [22], [14], [7], [2], [18], [15], [4], [7], [7], [11], [18], [15], [0], [9], [4], [7], [18], [2], [15], [7], [15], [0], [4], [13], [2], [1], [15], [25], [1], [24], [15], [25], [6], [9], [10], [3], [7], [0], [4], [14], [6], [25], [4], [1], [24], [4], [7], [10], [1], [3], [3], [18], [18], [4], [5], [2], [10], [2], [0], [20], [25], [1], [24], [10], [13], [1], [15], [15], [0], [8], [1], [9], [9], [17], [6], [25], [26], [22], [2], [2], [24], [20], [4], [3], [3], [0], [15], [3], [15], [6], [15], [1], [26], [4], [25], [24], [4], [15], [11], [9], [0], [4], [4], [8], [26], [0], [13], [11], [25], [26], [9], [26], [22], [10], [4], [10], [4], [10], [11], [22], [2], [22], [0], [9], [25], [4], [22], [0], [17], [4], [0], [4], [7], [9], [15], [3], [0], [10], [3], [10], [4], [0], [7], [2], [22], [8], [4], [4], [7], [9], [26], [24], [6], [0], [14], [7], [0], [18], [26], [25], [9], [2], [10], [1], [7], [8], [1], [13], [20], [24], [2], [22], [0], [10], [18], [14], [18], [1], [10], [7], [15], [1], [10], [3], [2], [25], [10], [25], [11], [11], [4], [15], [25], [6], [17], [1], [13], [10], [3], [13], [24], [15], [11], [15], [18], [18], [26], [15], [9], [9], [18], [13], [15], [0], [5], [4], [26], [10], [0], [25], [3], [17], [1], [24], [2], [18], [0], [24], [0], [4], [18], [25], [18], [14], [1], [14], [0], [15], [24], [13], [15], [1], [25], [1], [2], [7], [0], [4], [4], [15], [1], [22], [0], [18], [8], [20], [4], [7], [10], [15], [3], [5], [5], [17], [15], [10], [17], [0], [15], [15], [22], [0], [6], [1], [20], [5], [10], [18], [18], [0], [0], [1], [1], [18], [11], [1], [13], [1], [25], [0], [17], [4], [4], [0], [4], [15], [4], [0], [15], [0], [8], [5], [8], [11], [17], [5], [0], [11], [20], [25], [10], [2], [2], [0], [22], [17], [18], [2], [0], [25], [0], [0], [13], [13], [20], [4], [4], [10], [3], [10], [1], [17], [25], [10], [18], [14], [20], [18], [24], [18], [15], [6], [4], [17], [22], [13], [3], [0], [3], [0], [10], [15], [0], [0], [18], [0], [25], [6], [4], [14], [18], [2], [5], [26], [11], [4], [15], [7], [4], [6], [7], [25], [7], [5], [10], [3], [15], [10], [1], [15], [0], [0], [0], [18], [9], [20], [8], [25], [15], [15], [9], [7], [4], [22], [22], [17], [0], [15], [7], [15], [10], [3], [3], [18], [4], [5], [10], [2], [15], [13], [15], [17], [10], [7], [2], [0], [13], [7], [18], [24], [7], [5], [10], [13], [10], [1], [25], [1], [8], [10], [20], [5], [7], [12], [4], [26], [3], [17], [1], [1], [23], [1], [3], [4], [4], [13], [2], [10], [10], [10], [0], [3], [20], [2], [0], [5], [17], [0], [0], [0], [13], [0], [15], [0], [20], [1], [14], [15], [1], [14], [5], [11], [0], [7], [0], [0], [8], [17], [2], [14], [18], [11], [0], [6], [10], [15], [3], [15], [17], [1], [15], [0], [11], [3], [5], [17], [24], [1], [4], [10], [10], [4], [2], [0], [7], [12], [2], [15], [26], [9], [15], [1], [15], [5], [3], [0], [1], [2], [9], [7], [3], [4], [25], [6], [3], [4], [4], [4], [0], [11], [9], [4], [4], [0], [0], [9], [2], [24], [13], [1], [18], [7], [1], [24], [3], [25], [6], [15], [4], [2], [10], [5], [0], [7], [8], [2], [0], [25], [18], [15], [5], [0], [6], [15], [0], [20], [7], [15], [5], [8], [15], [25], [13], [0], [3], [22], [15], [10], [18], [10], [25], [1], [0], [25], [15], [7], [22], [0], [0], [26], [18], [20], [4], [18], [4], [8], [7], [4], [9], [19], [3], [20], [6], [6], [10], [18], [22], [20], [4], [7], [6], [6], [0], [24], [3], [1], [5], [0], [1], [9], [1], [19], [11], [4], [15], [23], [22], [0], [1], [17], [18], [0], [7], [10], [7], [0], [13], [2], [16], [10], [15], [7], [5], [11], [1], [13], [13], [2], [24], [19], [22], [0], [2], [20], [18], [0], [26], [15], [15], [4], [10], [2], [15], [17], [0], [3], [25], [0], [5], [0], [7], [25], [0], [10], [10], [15], [1], [13], [15], [15], [18], [3], [10], [24], [4], [13], [26], [9], [9], [18], [11], [9], [2], [4], [6], [15], [18], [6], [25], [26], [7], [0], [26], [0], [5], [5], [6], [1], [26], [15], [26], [18], [10], [18], [7], [10], [13], [10], [10], [4], [9], [4], [20], [15], [7], [5], [6], [20], [17], [18], [0], [10], [26], [18], [4], [0], [0], [10], [0], [14], [11], [17], [15], [19], [17], [15], [17], [5], [3], [15], [6], [20], [18], [4], [9], [15], [18], [4], [25], [10], [2], [26], [26], [1], [5], [15], [1], [1], [1], [2], [0], [3], [1], [3], [18], [0], [6], [0], [2], [1], [3], [17], [25], [0], [18], [6], [14], [4], [9], [15], [7], [1], [15], [7], [18], [20], [0], [20], [10], [22], [7], [3], [9], [20], [13], [22], [26], [15], [0], [7], [1], [0], [6], [0], [20], [0], [24], [1], [22], [1], [11], [20], [17], [4], [26], [1], [1], [10], [4], [17], [25], [7], [15], [7], [8], [1], [15], [8], [7], [20], [20], [4], [26], [15], [10], [18], [14], [17], [7], [2], [4], [17], [10], [15], [10], [10], [1], [3], [7], [25], [18], [0], [18], [15], [7], [13], [3], [0], [10], [9], [5], [15], [2], [25], [7], [10], [26], [20], [6], [1], [11], [0], [0], [7], [4], [12], [0], [3], [15], [6], [0], [0], [5], [15], [25], [0], [10], [4], [0], [14], [15], [0], [1], [22], [4], [1], [7], [4], [9], [14], [1], [1], [22], [3], [10], [0], [15], [18], [15], [3], [20], [11], [9], [18], [10], [7], [0], [15], [5], [0], [15], [17], [0], [15], [15], [9], [11], [14], [4], [0], [5], [26], [4], [1], [10], [0], [8], [18], [14], [4], [0], [1], [20], [15], [5], [9], [1], [17], [2], [5], [14], [4], [1], [18], [25], [2], [15], [0], [5], [20], [12], [13], [4], [15], [6], [15], [10], [3], [1], [2], [0], [2], [20], [18], [7], [0], [7], [5], [18], [7], [6], [4], [0], [3], [2], [20], [7], [1], [5], [0], [15], [10], [18], [4], [18], [7], [20], [3], [4], [15], [3], [7], [2], [18], [18], [15], [15], [4], [17], [1], [4], [12], [3], [26], [7], [10], [4], [15], [18], [14], [20], [0], [0], [15], [0], [4], [24], [3], [17], [4], [4], [6], [0], [26], [25], [15], [15], [24], [24], [26], [7], [15], [15], [3], [4], [6], [15], [4], [2], [15], [22], [24], [0], [13], [5], [0], [0], [0], [1], [17], [24], [1], [3], [3], [25], [0], [5], [11], [18], [9], [24], [0], [26], [2], [18], [5], [18], [26], [26], [5], [17], [1], [4], [14], [0], [9], [22], [9], [10], [2], [22], [20], [1], [0], [5], [0], [10], [15], [9], [3], [7], [0], [2], [0], [7], [4], [6], [20], [10], [0], [14], [4], [0], [4], [1], [2], [1], [0], [0], [18], [0], [9], [17], [20], [13], [5], [4], [22], [8], [3], [17], [4], [10], [24], [13], [0], [11], [18], [26], [10], [0], [15], [1], [1], [2], [13], [9], [20], [3], [3], [1], [4], [0], [25], [9], [19], [7], [12], [17], [2], [4], [1], [10], [15], [15], [22], [7], [5], [18], [18], [3], [4], [6], [9], [7], [1], [0], [2], [20], [14], [9], [3], [10], [13], [15], [8], [20], [13], [4], [0], [20], [1], [10], [5], [14], [1], [11], [3], [13], [18], [2], [10], [26], [3], [1], [20], [11], [4], [15], [14], [25], [7], [0], [0], [0], [19], [10], [8], [17], [7], [3], [8], [1], [7], [2], [0], [18], [20], [9], [0], [10], [2], [25], [7], [18], [0], [1], [1], [3], [8], [18], [1], [18], [4], [0], [3], [3], [13], [4], [0], [9], [22], [26], [3], [6], [9], [26], [20], [14], [7], [20], [3], [17], [25], [7], [10], [0], [15], [18], [1], [4], [1], [20], [13], [17], [3], [10], [4], [1], [4], [0], [4], [11], [8], [3], [2], [15], [0], [0], [14], [24], [10], [0], [17], [4], [4], [12], [1], [7], [13], [25], [12], [18], [0], [22], [18], [1], [4], [15], [14], [18], [4], [15], [22], [22], [0], [10], [15], [2], [1], [9], [9], [10], [26], [18], [15], [0], [5], [7], [3], [1], [20], [5], [25], [4], [3], [0], [14], [0], [15], [0], [4], [17], [14], [20], [4], [5], [9], [1], [22], [4], [4], [17], [26], [0], [0], [22], [9], [5], [4], [20], [26], [13], [0], [0], [10], [2], [7], [3], [17], [13], [0], [0], [4], [3], [10], [15], [18], [10], [15], [17], [1], [15], [2], [6], [25], [15], [24], [0], [7], [4], [0], [18], [15], [1], [17], [0], [5], [18], [7], [7], [0], [8], [10], [1], [4], [12], [4], [17], [0], [26], [7], [18], [20], [25], [0], [4], [4], [10], [3], [0], [7], [7], [8], [0], [18], [4], [7], [15], [0], [2], [20], [0], [10], [9], [7], [15], [10], [13], [5], [0], [2], [1], [2], [10], [17], [4], [10], [0], [17], [9], [18], [4], [3], [4], [4], [18], [9], [8], [5], [7], [26], [6], [15], [20], [2], [4], [0], [25], [1], [22], [13], [1], [25], [25], [18], [12], [0], [25], [1], [15], [9], [15], [0], [1], [7], [22], [15], [18], [18], [10], [15], [18], [18], [26], [2], [2], [18], [4], [17], [1], [1], [17], [20], [18], [2], [17], [1], [9], [7], [6], [4], [9], [0], [24], [4], [0], [7], [18], [4], [25], [10], [14], [4], [8], [11], [13], [18], [15], [15], [13], [15], [4], [14], [4], [3], [3], [26], [3], [6], [5], [7], [20], [3], [18], [10], [26], [18], [26], [4], [22], [13], [10], [10], [22], [13], [4], [10], [1], [7], [4], [7], [1], [15], [11], [5], [24], [9], [10], [7], [25], [22], [6], [7], [3], [20], [13], [3], [26], [12], [25], [15], [9], [4], [3], [12], [9], [5], [1], [18], [0], [15], [10], [17], [0], [1], [18], [20], [20], [4], [0], [0], [4], [4], [10], [3], [0], [0], [1], [4], [26], [11], [1], [17], [7], [26], [4], [10], [17], [15], [9], [10], [4], [26], [15], [15], [26], [4], [10], [12], [17], [0], [0], [15], [0], [22], [18], [20], [0], [18], [2], [7], [17], [0], [0], [1], [15], [17], [11], [3], [11], [15], [2], [8], [26], [2], [5], [15], [4], [7], [18], [9], [9], [22], [15], [14], [7], [15], [3], [4], [6], [16], [10], [25], [4], [12], [24], [1], [15], [0], [1], [1], [0], [16], [7], [3], [7], [18], [1], [17], [22], [15], [4], [1], [15], [24], [2], [0], [0], [10], [10], [18], [26], [6], [1], [10], [17], [7], [20], [0], [22], [1], [8], [0], [5], [9], [0], [6], [2], [1], [3], [2], [4], [17], [17], [15], [2], [15], [11], [2], [21], [11], [0], [15], [11], [1], [11], [0], [6], [0], [11], [22], [3], [15], [15], [1], [7], [11], [0], [18], [7], [17], [9], [0], [10], [0], [15], [15], [7], [9], [0], [3], [4], [17], [25], [4], [20], [7], [26], [6], [4], [9], [2], [8], [10], [9], [10], [15], [7], [1], [2], [19], [0], [3], [0], [4], [9], [7], [17], [4], [7], [9], [0], [10], [11], [25], [20], [26], [6], [1], [2], [15], [0], [18], [0], [10], [10], [3], [5], [22], [1], [6], [2], [0], [9], [20], [15], [5], [2], [25], [2], [10], [15], [4], [15], [2], [0], [6], [1], [4], [10], [15], [18], [15], [15], [0], [4], [25], [11], [4], [7], [7], [26], [0], [6], [15], [18], [26], [7], [7], [4], [9], [15], [2], [3], [5], [2], [7], [18], [10], [4], [19], [24], [20], [17], [22], [18], [17], [17], [2], [13], [13], [24], [25], [11], [14], [17], [20], [1], [26], [10], [6], [9], [4], [15], [1], [20], [15], [7], [0], [17], [4], [0], [3], [15], [17], [13], [10], [18], [13], [9], [7], [11], [2], [26], [26], [4], [0], [18], [0], [5], [15], [7], [14], [12], [3], [0], [9], [0], [20], [18], [0], [10], [4], [24], [4], [17], [3], [20], [3], [1], [15], [10], [13], [16], [11], [18], [22], [20], [0], [18], [15], [0], [24], [18], [17], [25], [10], [7], [4], [4], [5], [4], [6], [7], [12], [18], [2], [18], [9], [8], [15], [1], [10], [10], [10], [25], [5], [5], [8], [3], [9], [25], [4], [4], [2], [1], [13], [5], [12], [13], [9], [3], [3], [0], [6], [11], [3], [15], [0], [6], [14], [8], [10], [1], [4], [11], [15], [0], [7], [4], [15], [6], [0], [0], [8], [20], [4], [24], [26], [9], [10], [20], [20], [4], [10], [0], [25], [26], [4], [18], [13], [24], [6], [10], [10], [20], [0], [7], [1], [15], [7], [15], [2], [0], [3], [8], [0], [0], [22], [11], [0], [1], [8], [10], [7], [22], [1], [12], [18], [3], [15], [10], [15], [11], [2], [7], [21], [1], [2], [17], [14], [15], [1], [7], [0], [0], [7], [0], [4], [0], [15], [15], [1], [19], [0], [1], [0], [3], [8], [6], [0], [20], [0], [1], [2], [7], [4], [18], [3], [7], [2], [23], [0], [4], [0], [22], [3], [0], [25], [25], [20], [2], [25], [14], [3], [8], [25], [10], [7], [1], [0], [25], [0], [6], [2], [20], [15], [3], [15], [18], [3], [5], [6], [17], [6], [6], [18], [0], [0], [20], [0], [22], [13], [13], [10], [6], [10], [2], [17], [6], [2], [18], [0], [10], [1], [10], [22], [24], [7], [25], [0], [10], [13], [13], [11], [7], [0], [22], [1], [3], [10], [9], [4], [17], [20], [11], [20], [11], [10], [13], [4], [10], [25], [1], [20], [25], [2], [14], [7], [15], [22], [0], [15], [3], [11], [3], [25], [7], [22], [0], [7], [15], [17], [2], [11], [18], [3], [26], [3], [15], [1], [4], [15], [15], [3], [0], [3], [22], [2], [18], [1], [15], [2], [18], [9], [0], [4], [11], [15], [15], [18], [0], [13], [4], [25], [0], [1], [0], [2], [10], [18], [4], [10], [0], [10], [17], [1], [15], [14], [0], [1], [0], [7], [0], [0], [17], [1], [2], [15], [7], [15], [20], [1], [4], [16], [13], [0], [4], [10], [7], [0], [17], [14], [15], [20], [1], [1], [6], [18], [6], [15], [26], [1], [0], [6], [1], [18], [7], [3], [5], [15], [10], [6], [12], [4], [10], [1], [15], [7], [18], [6], [20], [1], [15], [26], [1], [4], [7], [9], [4], [17], [4], [10], [10], [20], [20], [1], [15], [4], [3], [0], [17], [1], [1], [4], [17], [15], [1], [4], [11], [3], [3], [5], [3], [6], [15], [1], [6], [14], [7], [25], [2], [4], [10], [0], [15], [0], [13], [15], [3], [26], [2], [26], [18], [4], [15], [21], [9], [18], [19], [6], [3], [26], [26], [7], [3], [9], [3], [5], [3], [0], [7], [14], [20], [24], [4], [15], [7], [26], [2], [13], [15], [22], [2], [20], [9], [3], [0], [1], [7], [10], [15], [24], [26], [15], [3], [4], [4], [25], [9], [17], [1], [14], [4], [3], [22], [4], [1], [4], [14], [24], [17], [20], [10], [0], [4], [18], [25], [1], [2], [24], [25], [5], [8], [10], [4], [17], [10], [1], [15], [0], [0], [9], [3], [6], [2], [1], [0], [10], [8], [25], [17], [3], [3], [26], [7], [18], [0], [0], [0], [22], [14], [17], [11], [10], [10], [20], [22], [0], [10], [9], [0], [22], [4], [25], [0], [18], [18], [2], [15], [0], [20], [15], [11], [1], [0], [24], [3], [14], [17], [7], [7], [25], [18], [0], [15], [20], [10], [12], [24], [0], [0], [3], [15], [18], [25], [15], [12], [4], [0], [0], [16], [9], [0], [3], [4], [0], [0], [20], [11], [7], [15], [20], [7], [0], [13], [0], [5], [15], [2], [4], [3], [2], [10], [1], [17], [15], [6], [0], [4], [0], [4], [11], [20], [1], [0], [1], [25], [13], [0], [14], [12], [0], [7], [25], [0], [14], [3], [25], [15], [7], [18], [10], [0], [3], [0], [1], [10], [1], [14], [0], [5], [26], [4], [22], [3], [2], [17], [18], [25], [10], [0], [7], [20], [7], [4], [19], [3], [4], [11], [2], [3], [2], [1], [14], [1], [2], [1], [6], [25], [9], [15], [15], [6], [20], [3], [0], [5], [3], [2], [15], [0], [10], [18], [1], [3], [26], [3], [10], [1], [25], [18], [2], [1], [3], [1], [15], [24], [22], [7], [1], [3], [7], [7], [2], [26], [13], [0], [7], [18], [7], [0], [9], [26], [25], [15], [3], [14], [7], [4], [24], [10], [15], [4], [7], [20], [3], [7], [15], [15], [4], [1], [7], [15], [15], [25], [25], [2], [6], [17], [15], [8], [22], [16], [15], [14], [15], [7], [25], [0], [0], [20], [17], [6], [0], [10], [7], [0], [14], [20], [0], [24], [4], [17], [1], [26], [18], [10], [4], [6], [1], [11], [7], [0], [10], [6], [4], [17], [25], [17], [7], [0], [4], [1], [3], [1], [2], [20], [0], [0], [26], [0], [15], [3], [10], [4], [11], [15], [0], [25], [4], [0], [1], [12], [17], [25], [4], [24], [4], [17], [5], [7], [6], [4], [18], [2], [10], [3], [6], [14], [7], [6], [9], [7], [20], [17], [17], [20], [10], [20], [20], [12], [25], [10], [0], [7], [9], [25], [18], [7], [10], [26], [15], [26], [20], [0], [15], [6], [11], [12], [4], [18], [0], [1], [9], [10], [20], [15], [8], [3], [5], [5], [2], [15], [20], [3], [10], [18], [3], [18], [9], [6], [1], [6], [4], [0], [0], [4], [15], [14], [24], [6], [14], [25], [8], [4], [2], [4], [14], [14], [1], [15], [0], [7], [5], [17], [7], [18], [15], [6], [1], [4], [15], [14], [8], [15], [22], [11], [0], [15], [7], [15], [13], [6], [3], [25], [4], [2], [13], [4], [18], [25], [6], [0], [20], [15], [0], [25], [0], [7], [1], [15], [18], [18], [22], [20], [4], [18], [21], [13], [6], [1], [1], [2], [12], [22], [0], [26], [3], [15], [1], [15], [18], [0], [20], [1], [3], [17], [7], [18], [10], [20], [25], [10], [5], [3], [0], [4], [13], [25], [2], [5], [10], [26], [8], [3], [6], [17], [0], [10], [8], [25], [0], [0], [3], [25], [4], [1], [10], [1], [4], [3], [0], [18], [4], [1], [15], [4], [1], [8], [3], [18], [20], [7], [18], [0], [14], [14], [26], [17], [5], [8], [15], [18], [6], [2], [4], [0], [15], [4], [14], [15], [4], [18], [4], [4], [2], [15], [7], [24], [7], [18], [22], [0], [3], [1], [7], [22], [0], [18], [5], [18], [7], [10], [4], [13], [10], [25], [10], [3], [16], [10], [26], [4], [0], [22], [22], [18], [0], [7], [8], [2], [18], [0], [2], [20], [17], [17], [4], [22], [3], [0], [1], [7], [18], [24], [3], [10], [11], [0], [15], [4], [6], [0], [18], [24], [0], [15], [0], [14], [3], [6], [20], [20], [2], [25], [0], [18], [1], [9], [18], [25], [6], [1], [22], [0], [2], [10], [0], [17], [2], [0], [4], [0], [2], [10], [5], [10], [15], [0], [4], [10], [3], [0], [0], [22], [3], [0], [20], [18], [2], [3], [9], [7], [8], [15], [15], [0], [13], [10], [20], [12], [22], [25], [25], [0], [4], [4], [12], [20], [3], [9], [22], [10], [0], [22], [7], [5], [15], [0], [2], [6], [3], [17], [20], [18], [26], [25], [6], [1], [15], [15], [10], [25], [1], [0], [2], [18], [13], [7], [0], [18], [14], [2], [2], [6], [0], [6], [15], [14], [13], [5], [7], [4], [4], [4], [5], [0], [7], [13], [7], [6], [0], [25], [24], [0], [0], [25], [7], [2], [20], [0], [15], [3], [13], [0], [0], [13], [0], [17], [1], [3], [4], [9], [10], [11], [24], [0], [15], [3], [15], [7], [17], [15], [3], [0], [10], [24], [10], [1], [0], [2], [1], [0], [7], [25], [15], [5], [14], [25], [10], [1], [20], [3], [10], [6], [12], [1], [25], [18], [0], [0], [15], [0], [9], [15], [10], [26], [3], [15], [15], [17], [18], [7], [0], [18], [5], [0], [3], [18], [10], [9], [0], [20], [10], [26], [4], [10], [0], [3], [4], [26], [14], [14], [18], [4], [0], [24], [18], [18], [25], [4], [8], [19], [1], [16], [23], [6], [1], [15], [4], [1], [5], [18], [0], [6], [17], [9], [12], [0], [22], [9], [17], [1], [24], [7], [26], [15], [3], [1], [10], [3], [17], [0], [7], [0], [13], [17], [4], [6], [0], [1], [8], [10], [5], [18], [2], [4], [7], [3], [2], [1], [26], [4], [22], [4], [15], [1], [1], [10], [15], [0], [15], [10], [26], [1], [6], [10], [4], [10], [19], [9], [10], [2], [0], [0], [3], [15], [17], [18], [26], [0], [25], [1], [3], [6], [15], [11], [18], [4], [0], [22], [15], [7], [0], [4], [4], [0], [0], [18], [4], [18], [3], [0], [5], [0], [0], [9], [2], [7], [0], [0], [0], [18], [1], [26], [9], [18], [0], [10], [13], [24], [25], [6], [0], [1], [26], [2], [10], [6], [7], [15], [10], [4], [26], [15], [22], [15], [10], [11], [7], [18], [18], [25], [17], [0], [0], [9], [4], [18], [7], [10], [17], [11], [4], [15], [0], [4], [12], [7], [11], [17], [7], [15], [10], [26], [12], [25], [2], [13], [14], [20], [18], [18], [18], [4], [14], [3], [26], [15], [9], [7], [2], [1], [1], [18], [0], [13], [25], [4], [1], [0], [0], [18], [15], [15], [8], [25], [10], [10], [0], [22], [5], [1], [15], [3], [15], [7], [2], [18], [15], [4], [4], [3], [26], [0], [2], [10], [3], [13], [9], [11], [8], [6], [1], [20], [5], [0], [10], [3], [15], [6], [4], [5], [0], [8], [15], [0], [15], [1], [17], [2], [11], [0], [0], [11], [26], [7], [3], [18], [6], [3], [2], [10], [13], [0], [13], [25], [10], [24], [4], [0], [4], [10], [15], [0], [11], [11], [7], [1], [7], [1], [0], [18], [15], [4], [2], [3], [0], [0], [15], [7], [0], [24], [10], [25], [5], [11], [22], [8], [15], [0], [0], [5], [2], [18], [1], [5], [5], [13], [0], [25], [3], [22], [10], [2], [18], [4], [8], [4], [0], [6], [10], [20], [18], [3], [7], [5], [1], [2], [7], [4], [20], [9], [1], [13], [0], [1], [4], [18], [25], [15], [12], [22], [15], [7], [4], [17], [4], [6], [4], [22], [25], [11], [7], [2], [20], [15], [6], [2], [14], [15], [6], [5], [7], [20], [14], [4], [4], [9], [15], [1], [3], [3], [25], [8], [14], [0], [6], [26], [1], [15], [22], [0], [18], [4], [7], [0], [25], [15], [12], [18], [0], [7], [2], [15], [2], [8], [22], [17], [11], [4], [6], [3], [4], [20], [25], [10], [17], [2], [4], [10], [20], [1], [1], [10], [1], [4], [7], [6], [3], [1], [1], [0], [1], [15], [9], [17], [10], [2], [16], [10], [1], [10], [4], [24], [7], [12], [2], [5], [2], [3], [15], [0], [6], [12], [4], [4], [4], [0], [5], [2], [7], [26], [13], [4], [0], [18], [7], [15], [24], [0], [15], [25], [3], [0], [3], [22], [25], [8], [3], [25], [17], [15], [2], [5], [20], [1], [4], [26], [0], [1], [22], [7], [15], [15], [1], [3], [1], [20], [4], [7], [7], [18], [0], [15], [11], [10], [3], [6], [11], [0], [4], [0], [0], [18], [18], [15], [15], [15], [11], [18], [4], [13], [25], [7], [0], [18], [4], [15], [11], [6], [8], [15], [4], [0], [4], [25], [17], [11], [1], [8], [10], [13], [3], [4], [10], [17], [1], [18], [1], [4], [13], [18], [0], [11], [1], [6], [26], [11], [0], [10], [10], [10], [0], [20], [13], [10], [11], [3], [0], [15], [18], [15], [15], [4], [20], [0], [0], [7], [20], [20], [1], [14], [15], [20], [3], [4], [1], [25], [15], [10], [4], [18], [4], [3], [15], [24], [18], [3], [0], [26], [22], [6], [1], [25], [6], [24], [17], [17], [3], [3], [20], [15], [15], [18], [2], [18], [0], [20], [2], [8], [2], [1], [13], [18], [15], [0], [23], [0], [0], [2], [20], [0], [5], [8], [3], [1], [7], [17], [4], [11], [1], [4], [25], [7], [9], [2], [17], [4], [0], [26], [10], [8], [26], [18], [10], [18], [3], [9], [1], [3], [15], [0], [17], [0], [3], [17], [4], [6], [4], [5], [1], [25], [0], [26], [24], [0], [15], [6], [18], [4], [10], [20], [2], [10], [25], [1], [4], [18], [0], [6], [7], [4], [13], [15], [10], [0], [1], [25], [1], [26], [10], [6], [0], [4], [5], [14], [11], [10], [0], [15], [4], [1], [1], [18], [15], [4], [26], [15], [26], [0], [0], [3], [1], [10], [7], [15], [18], [17], [15], [7], [7], [7], [10], [15], [6], [14], [4], [21], [2], [7], [0], [0], [9], [7], [7], [7], [0], [10], [3], [6], [4], [3], [4], [0], [6], [13], [1], [3], [0], [0], [7], [15], [25], [1], [10], [4], [4], [20], [18], [22], [25], [3], [2], [4], [4], [2], [8], [3], [7], [2], [7], [4], [22], [0], [0], [25], [0], [18], [1], [2], [10], [20], [0], [7], [15], [2], [20], [11], [2], [15], [15], [17], [20], [10], [4], [7], [15], [7], [2], [18], [4], [6], [4], [3], [3], [26], [17], [11], [0], [4], [3], [10], [7], [1], [4], [9], [3], [7], [3], [26], [3], [0], [5], [15], [18], [0], [6], [26], [3], [13], [3], [8], [22], [7], [2], [13], [5], [2], [11], [22], [0], [16], [3], [15], [18], [0], [20], [0], [7], [3], [9], [7], [20], [11], [15], [0], [17], [0], [11], [4], [10], [10], [26], [5], [22], [25], [0], [22], [7], [15], [2], [26], [9], [10], [10], [0], [0], [4], [1], [15], [4], [6], [1], [4], [20], [1], [15], [3], [1], [15], [0], [10], [24], [0], [2], [3], [18], [6], [4], [0], [23], [0], [6], [18], [10], [10], [10], [0], [0], [26], [11], [20], [1], [4], [7], [2], [15], [6], [0], [7], [20], [2], [1], [7], [3], [22], [25], [17], [18], [4], [12], [0], [4], [7], [12], [15], [25], [5], [17], [1], [8], [25], [0], [2], [24], [26], [18], [5], [10], [15], [2], [0], [4], [4], [5], [24], [18], [0], [6], [9], [18], [0], [11], [3], [1], [3], [10], [22], [0], [4], [4], [26], [20], [24], [3], [10], [18], [15], [1], [0], [6], [9], [7], [1], [22], [7], [6], [18], [1], [9], [24], [5], [5], [18], [15], [14], [20], [20], [0], [18], [7], [25], [18], [12], [15], [6], [15], [0], [3], [12], [22], [17], [0], [22], [18], [26], [4], [15], [3], [8], [3], [20], [10], [3], [0], [17], [4], [7], [6], [2], [4], [15], [20], [10], [15], [20], [6], [3], [13], [15], [15], [13], [0], [0], [2], [5], [0], [3], [1], [13], [1], [10], [18], [0], [17], [4], [10], [4], [10], [10], [3], [4], [2], [18], [10], [4], [25], [14], [10], [20], [3], [12], [22], [4], [0], [5], [10], [4], [7], [2], [1], [2], [19], [14], [0], [1], [17], [2], [2], [24], [1], [0], [0], [3], [25], [17], [3], [0], [15], [17], [13], [4], [4], [0], [25], [15], [7], [9], [4], [1], [4], [0], [1], [12], [3], [3], [11], [10], [25], [1], [0], [1], [15], [14], [7], [0], [0], [0], [18], [0], [5], [7], [17], [14], [17], [9], [3], [0], [5], [1], [6], [13], [4], [26], [3], [15], [4], [4], [0], [15], [1], [15], [17], [9], [9], [10], [13], [6], [0], [4], [0], [23], [10], [2], [23], [17], [10], [1], [2], [15], [3], [11], [2], [4], [10], [0], [4], [10], [6], [10], [17], [22], [15], [3], [6], [22], [3], [15], [7], [20], [12], [0], [15], [0], [10], [4], [15], [20], [15], [3], [1], [4], [6], [7], [7], [15], [6], [2], [10], [0], [17], [15], [0], [1], [6], [13], [18], [18], [11], [0], [23], [17], [4], [0], [22], [7], [4], [20], [3], [22], [1], [10], [26], [4], [18], [13], [26], [16], [0], [4], [2], [20], [15], [0], [10], [22], [2], [2], [10], [7], [5], [3], [3], [1], [0], [6], [3], [3], [6], [2], [17], [0], [18], [15], [18], [7], [4], [9], [9], [18], [20], [20], [1], [15], [4], [14], [22], [18], [18], [18], [1], [7], [21], [18], [11], [10], [17], [3], [26], [4], [2], [5], [0], [1], [14], [5], [5], [20], [0], [3], [0], [25], [14], [2], [13], [7], [3], [21], [24], [0], [9], [7], [9], [4], [4], [15], [11], [0], [1], [25], [1], [10], [20], [4], [1], [4], [15], [17], [4], [24], [2], [7], [4], [4], [1], [1], [7], [15], [7], [13], [4], [7], [14], [10], [1], [6], [22], [3], [4], [15], [25], [25], [24], [14], [0], [6], [4], [15], [18], [2], [2], [4], [3], [24], [26], [0], [14], [1], [15], [8], [22], [15], [7], [15], [5], [4], [6], [0], [13], [4], [20], [4], [15], [4], [0], [11], [10], [25], [6], [10], [12], [3], [17], [2], [25], [1], [9], [8], [7], [5], [3], [18], [10], [7], [6], [25], [13], [7], [10], [4], [4], [3], [7], [1], [15], [5], [4], [20], [4], [15], [0], [2], [2], [24], [20], [11], [4], [13], [4], [0], [11], [5], [4], [9], [15], [20], [0], [26], [4], [0], [13], [22], [3], [1], [15], [1], [4], [20], [2], [1], [0], [10], [5], [5], [23], [17], [20], [26], [13], [9], [26], [3], [18], [4], [25], [20], [3], [1], [17], [1], [4], [9], [10], [4], [15], [19], [0], [11], [4], [15], [13], [3], [3], [13], [20], [15], [1], [5], [6], [25], [5], [15], [10], [15], [10], [20], [17], [14], [11], [18], [10], [9], [9], [1], [2], [5], [13], [0], [8], [4], [0], [25], [25], [2], [9], [5], [0], [7], [17], [13], [25], [18], [8], [6], [16], [26], [1], [25], [17], [10], [1], [4], [0], [18], [15], [0], [4], [15], [1], [5], [0], [10], [5], [10], [13], [1], [1], [7], [1], [8], [18], [0], [10], [20], [12], [6], [2], [10], [0], [3], [9], [10], [18], [11], [7], [15], [26], [17], [10], [15], [6], [6], [26], [15], [18], [4], [3], [4], [7], [14], [13], [17], [13], [7], [17], [0], [4], [15], [15], [25], [10], [1], [3], [6], [0], [25], [0], [9], [9], [3], [15], [15], [18], [15], [10], [1], [0], [22], [22], [20], [0], [6], [22], [18], [6], [4], [2], [3], [18], [6], [3], [26], [1], [19], [15], [1], [25], [15], [1], [18], [3], [0], [7], [10], [5], [23], [11], [20], [15], [22], [22], [5], [15], [26], [4], [3], [18], [2], [0], [24], [0], [9], [0], [26], [4], [15], [17], [7], [6], [26], [3], [11], [4], [23], [13], [25], [4], [13], [7], [14], [15], [18], [3], [25], [20], [6], [17], [4], [24], [13], [15], [0], [3], [2], [11], [1], [2], [12], [2], [18], [14], [7], [1], [2], [18], [1], [15], [17], [0], [4], [26], [1], [17], [4], [4], [23], [24], [0], [26], [11], [1], [17], [1], [4], [10], [0], [1], [25], [11], [18], [0], [0], [9], [20], [8], [9], [11], [1], [0], [26], [26], [3], [11], [0], [22], [13], [20], [7], [4], [1], [1], [7], [18], [5], [4], [1], [15], [1], [25], [15], [7], [4], [4], [25], [8], [20], [6], [2], [3], [6], [10], [14], [17], [0], [2], [1], [25], [3], [20], [9], [10], [15], [1], [4], [9], [0], [3], [10], [4], [17], [18], [2], [0], [4], [4], [22], [10], [4], [7], [22], [3], [15], [18], [14], [26], [9], [18], [4], [3], [17], [13], [3], [17], [8], [3], [6], [0], [22], [10], [4], [2], [0], [26], [23], [9], [4], [26], [7], [5], [20], [1], [0], [3], [20], [15], [8], [17], [10], [0], [0], [4], [10], [4], [6], [8], [18], [13], [13], [0], [18], [23], [1], [10], [10], [10], [4], [25], [5], [0], [10], [17], [17], [2], [9], [3], [24], [0], [18], [5], [4], [4], [0], [14], [0], [3], [15], [1], [20], [3], [15], [0], [4], [5], [7], [0], [10], [20], [15], [21], [18], [3], [7], [22], [7], [1], [18], [7], [3], [9], [10], [17], [20], [0], [22], [26], [0], [20], [7], [7], [17], [4], [13], [4], [6], [2], [1], [18], [1], [2], [18], [25], [7], [10], [4], [15], [7], [1], [0], [0], [14], [25], [17], [0], [5], [1], [0], [1], [0], [4], [20], [22], [1], [4], [1], [17], [4], [4], [1], [1], [7], [20], [4], [4], [7], [4], [11], [1], [3], [15], [3], [6], [4], [17], [9], [10], [0], [4], [10], [0], [0], [1], [3], [0], [15], [7], [26], [0], [3], [1], [4], [1], [1], [18], [4], [18], [4], [22], [18], [5], [6], [2], [8], [8], [3], [2], [4], [7], [7], [4], [0], [4], [3], [20], [22], [9], [0], [10], [0], [18], [14], [5], [0], [0], [25], [0], [7], [15], [15], [7], [15], [0], [11], [10], [15], [6], [12], [18], [4], [0], [0], [7], [26], [12], [9], [8], [0], [0], [24], [18], [10], [15], [1], [3], [3], [9], [20], [8], [3], [17], [6], [2], [6], [0], [18], [0], [5], [10], [24], [15], [4], [9], [17], [10], [1], [11], [18], [3], [1], [7], [2], [10], [6], [5], [1], [3], [2], [7], [5], [26], [0], [1], [20], [4], [0], [25], [10], [10], [10], [0], [18], [2], [15], [7], [14], [17], [5], [12], [3], [0], [3], [26], [3], [0], [18], [0], [14], [0], [0], [4], [18], [4], [20], [25], [18], [7], [3], [15], [4], [4], [22], [10], [18], [25], [2], [1], [0], [0], [7], [3], [2], [15], [15], [15], [1], [15], [3], [25], [3], [3], [3], [6], [15], [4], [3], [1], [1], [10], [26], [0], [3], [0], [10], [6], [3], [15], [10], [25], [0], [17], [0], [2], [25], [24], [10], [11], [20], [3], [3], [10], [14], [15], [10], [13], [22], [3], [15], [17], [8], [15], [15], [15], [22], [8], [18], [22], [22], [0], [10], [18], [10], [15], [18], [10], [25], [6], [6], [3], [3], [15], [13], [6], [2], [0], [3], [7], [20], [10], [1], [2], [13], [22], [17], [15], [15], [4], [9], [23], [11], [9], [7], [6], [1], [10], [2], [1], [0], [15], [3], [10], [1], [12], [20], [3], [15], [15], [22], [1], [1], [5], [20], [15], [18], [15], [9], [15], [15], [15], [14], [3], [10], [26], [20], [6], [2], [25], [1], [6], [2], [0], [3], [1], [0], [2], [6], [10], [17], [10], [25], [22], [7], [0], [20], [4], [4], [0], [4], [1], [25], [18], [0], [7], [9], [17], [0], [4], [14], [4], [6], [2], [15], [0], [1], [1], [18], [0], [18], [6], [15], [26], [15], [3], [9], [26], [18], [15], [20], [5], [8], [1], [14], [4], [17], [6], [4], [6], [19], [4], [17], [25], [15], [5], [3], [17], [0], [6], [11], [10], [2], [4], [22], [1], [8], [0], [3], [10], [6], [1], [20], [1], [5], [15], [15], [9], [17], [8], [10], [0], [15], [26], [7], [2], [10], [10], [17], [18], [3], [7], [10], [1], [24], [25], [20], [0], [1], [14], [7], [6], [3], [10], [26], [22], [10], [4], [9], [25], [15], [7], [22], [2], [4], [24], [17], [19], [13], [4], [7], [25], [25], [10], [4], [22], [0], [6], [18], [18], [25], [1], [0], [0], [2], [11], [25], [18], [7], [4], [14], [7], [4], [15], [0], [0], [4], [0], [20], [14], [26], [20], [22], [0], [12], [4], [4], [18], [6], [4], [1], [15], [3], [15], [18], [20], [15], [2], [11], [4], [1], [22], [20], [8], [2], [12], [18], [6], [7], [4], [20], [17], [4], [15], [18], [0], [20], [0], [1], [25], [22], [17], [12], [22], [4], [5], [26], [10], [4], [22], [17], [11], [10], [0], [2], [6], [9], [0], [8], [1], [3], [24], [4], [0], [3], [7], [15], [17], [3], [1], [6], [13], [10], [3], [4], [14], [22], [4], [10], [10], [1], [5], [7], [0], [4], [9], [12], [15], [11], [4], [4], [19], [17], [5], [18], [17], [17], [13], [18], [0], [8], [26], [1], [7], [0], [15], [7], [6], [11], [17], [0], [20], [1], [20], [4], [26], [0], [4], [3], [3], [10], [12], [1], [20], [10], [5], [26], [9], [0], [5], [7], [0], [24], [5], [3], [6], [2], [0], [1], [4], [0], [3], [15], [9], [25], [15], [1], [2], [7], [0], [6], [22], [0], [18], [15], [4], [1], [4], [3], [5], [7], [6], [0], [4], [1], [15], [6], [4], [4], [0], [3], [1], [22], [10], [22], [18], [15], [22], [0], [20], [15], [0], [18], [18], [4], [20], [5], [9], [24], [13], [1], [7], [0], [18], [7], [3], [25], [1], [1], [24], [3], [6], [20], [20], [8], [3], [9], [17], [15], [2], [15], [26], [26], [17], [18], [9], [4], [7], [6], [8], [9], [0], [15], [24], [20], [3], [0], [0], [26], [0], [7], [20], [15], [7], [3], [0], [5], [3], [4], [14], [5], [7], [4], [5], [22], [18], [12], [11], [15], [1], [7], [20], [15], [1], [11], [18], [10], [4], [4], [10], [26], [15], [20], [24], [18], [11], [1], [4], [0], [6], [10], [18], [0], [20], [10], [4], [0], [9], [18], [4], [14], [1], [26], [24], [3], [24], [18], [7], [1], [3], [0], [17], [3], [20], [18], [3], [11], [7], [18], [4], [15], [3], [20], [17], [26], [0], [0], [3], [1], [3], [22], [3], [5], [3], [15], [18], [0], [15], [7], [1], [3], [0], [14], [17], [14], [0], [15], [2], [20], [26], [0], [17], [5], [26], [15], [18], [2], [0], [15], [20], [4], [2], [25], [4], [10], [1], [15], [10], [18], [22], [7], [0], [9], [15], [22], [0], [8], [25], [0], [4], [4], [4], [20], [18], [18], [15], [21], [4], [3], [11], [0], [5], [18], [17], [25], [12], [17], [15], [18], [15], [1], [25], [8], [8], [3], [17], [1], [5], [26], [26], [17], [14], [7], [2], [1], [20], [11], [10], [7], [4], [7], [6], [5], [14], [3], [2], [3], [4], [25], [25], [2], [15], [3], [4], [13], [0], [2], [0], [12], [1], [0], [3], [25], [1], [11], [12], [17], [6], [4], [22], [0], [8], [7], [1], [4], [4], [2], [4], [4], [10], [0], [12], [25], [2], [15], [9], [0], [1], [2], [12], [15], [18], [24], [23], [7], [2], [0], [17], [10], [0], [18], [0], [7], [7], [5], [26], [22], [22], [13], [15], [0], [8], [15], [6], [2], [14], [26], [2], [0], [15], [22], [24], [0], [10], [2], [17], [18], [4], [0], [20], [2], [10], [10], [22], [26], [2], [17], [17], [24], [4], [0], [6], [4], [0], [18], [4], [18], [4], [15], [26], [7], [3], [15], [13], [26], [22], [9], [13], [7], [9], [1], [1], [15], [1], [7], [2], [15], [7], [9], [0], [4], [15], [15], [10], [10], [15], [18], [2], [6], [4], [4], [4], [26], [13], [6], [20], [0], [4], [15], [18], [14], [0], [26], [11], [20], [7], [1], [20], [20], [20], [24], [9], [24], [22], [3], [5], [15], [4], [0], [1], [15], [13], [23], [3], [15], [17], [1], [3], [14], [0], [24], [5], [8], [26], [22], [18], [22], [24], [14], [15], [18], [0], [10], [13], [3], [20], [6], [25], [25], [8], [1], [22], [0], [3], [4], [7], [1], [22], [3], [7], [13], [20], [7], [18], [5], [4], [15], [0], [15], [7], [18], [1], [18], [18], [25], [15], [18], [20], [1], [3], [18], [6], [0], [18], [20], [3], [15], [3], [11], [26], [0], [7], [3], [14], [18], [15], [3], [22], [17], [15], [24], [10], [7], [15], [4], [3], [7], [0], [0], [14], [4], [10], [18], [10], [0], [7], [1], [15], [3], [0], [13], [7], [6], [17], [10], [6], [5], [3], [22], [11], [7], [4], [2], [7], [2], [0], [10], [1], [4], [18], [15], [8], [7], [11], [4], [25], [18], [1], [2], [1], [20], [4], [26], [25], [3], [4], [19], [2], [16], [7], [10], [4], [1], [18], [12], [18], [4], [4], [11], [0], [0], [1], [7], [9], [3], [1], [1], [8], [19], [5], [10], [25], [25], [0], [0], [3], [8], [7], [6], [4], [25], [0], [4], [1], [6], [1], [4], [25], [17], [0], [20], [18], [3], [25], [4], [23], [10], [13], [0], [11], [6], [1], [15], [22], [1], [4], [0], [26], [4], [4], [1], [5], [9], [0], [26], [1], [0], [13], [9], [5], [10], [0], [8], [3], [4], [10], [15], [7], [0], [6], [12], [17], [0], [26], [25], [3], [18], [26], [3], [20], [1], [10], [10], [6], [0], [0], [1], [10], [5], [15], [2], [7], [17], [3], [10], [7], [15], [17], [15], [6], [4], [10], [12], [20], [15], [3], [2], [4], [7], [3], [20], [10], [1], [4], [1], [9], [4], [9], [15], [9], [7], [1], [3], [4], [10], [4], [2], [5], [26], [24], [15], [1], [7], [22], [2], [26], [1], [26], [0], [19], [5], [0], [1], [0], [1], [18], [1], [13], [18], [20], [17], [8], [26], [15], [3], [13], [1], [15], [10], [25], [18], [8], [18], [26], [13], [9], [18], [6], [15], [10], [26], [13], [22], [25], [26], [15], [7], [15], [15], [6], [0], [15], [0], [7], [3], [2], [25], [15], [9], [7], [2], [9], [2], [4], [9], [13], [2], [20], [4], [1], [15], [0], [14], [2], [2], [0], [15], [4], [5], [26], [3], [15], [8], [26], [0], [0], [14], [0], [5], [26], [20], [11], [3], [3], [1], [2], [13], [18], [2], [0], [7], [2], [15], [15], [0], [4], [25], [3], [24], [15], [0], [4], [10], [15], [7], [18], [23], [0], [5], [0], [5], [0], [15], [26], [14], [4], [0], [0], [20], [6], [17], [15], [10], [7], [1], [4], [7], [15], [6], [0], [0], [3], [7], [0], [22], [17], [1], [26], [25], [17], [3], [1], [10], [17], [0], [26], [6], [1], [24], [18], [20], [10], [6], [20], [15], [24], [2], [0], [1], [7], [3], [7], [18], [22], [2], [6], [15], [0], [3], [0], [15], [10], [12], [5], [3], [1], [14], [0], [7], [5], [14], [7], [10], [1], [3], [10], [15], [10], [22], [15], [20], [8], [10], [17], [11], [7], [1], [1], [7], [15], [17], [15], [15], [15], [5], [15], [10], [0], [25], [26], [10], [20], [0], [3], [1], [17], [7], [4], [10], [6], [22], [9], [26], [18], [0], [13], [18], [15], [9], [11], [2], [10], [9], [26], [5], [3], [10], [25], [3], [0], [22], [1], [3], [10], [15], [0], [0], [10], [18], [20], [3], [7], [6], [6], [17], [0], [21], [15], [0], [10], [7], [17], [15], [15], [10], [1], [12], [15], [6], [14], [7], [26], [7], [10], [2], [14], [14], [1], [13], [15], [22], [4], [14], [12], [1], [22], [7], [15], [6], [6], [10], [1], [11], [13], [2], [4], [1], [26], [2], [6], [9], [1], [15], [15], [1], [6], [18], [13], [0], [0], [22], [1], [10], [17], [1], [10], [10], [20], [4], [22], [0], [0], [13], [6], [4], [0], [3], [25], [10], [3], [20], [4], [26], [25], [0], [18], [15], [3], [10], [18], [4], [6], [18], [7], [8], [0], [3], [4], [8], [7], [1], [15], [10], [17], [14], [2], [7], [8], [26], [1], [26], [20], [14], [2], [1], [6], [9], [11], [0], [0], [13], [1], [15], [22], [0], [20], [4], [5], [2], [3], [0], [0], [15], [18], [0], [6], [26], [13], [14], [7], [1], [26], [0], [20], [2], [1], [2], [0], [3], [10], [15], [20], [0], [5], [17], [18], [10], [0], [10], [26], [20], [7], [22], [2], [10], [0], [0], [26], [22], [22], [20], [4], [6], [18], [15], [5], [5], [4], [17], [19], [5], [3], [4], [10], [4], [1], [6], [4], [17], [7], [9], [26], [12], [21], [17], [25], [9], [14], [10], [0], [10], [4], [1], [4], [20], [0], [1], [15], [10], [11], [15], [10], [15], [10], [3], [20], [14], [25], [10], [23], [6], [0], [3], [22], [7], [15], [2], [15], [9], [13], [10], [0], [24], [26], [13], [15], [4], [3], [20], [7], [10], [15], [0], [3], [4], [10], [15], [17], [20], [0], [20], [3], [14], [7], [7], [7], [10], [5], [0], [13], [0], [0], [8], [0], [7], [15], [12], [2], [5], [18], [3], [13], [3], [1], [6], [7], [0], [0], [5], [9], [6], [18], [19], [4], [0], [11], [15], [25], [9], [0], [3], [0], [11], [7], [18], [26], [15], [0], [10], [0], [18], [8], [15], [26], [25], [18], [20], [3], [15], [9], [11], [14], [10], [10], [18], [10], [22], [4], [4], [26], [18], [7], [0], [4], [24], [8], [1], [10], [10], [3], [22], [8], [10], [4], [4], [3], [9], [0], [2], [25], [23], [10], [4], [4], [9], [15], [4], [11], [22], [15], [18], [2], [18], [10], [0], [3], [3], [12], [24], [10], [24], [25], [3], [15], [18], [10], [10], [25], [4], [15], [6], [3], [25], [1], [15], [7], [15], [7], [18], [14], [7], [0], [0], [8], [9], [2], [14], [2], [0], [10], [0], [11], [9], [3], [25], [21], [25], [26], [10], [15], [15], [13], [26], [7], [0], [3], [20], [10], [5], [20], [20], [18], [10], [7], [26], [0], [0], [17], [9], [1], [10], [25], [25], [3], [0], [10], [15], [7], [5], [7], [0], [8], [15], [10], [20], [25], [4], [4], [7], [15], [6], [9], [4], [1], [14], [9], [18], [1], [7], [13], [10], [9], [6], [1], [4], [15], [15], [0], [5], [4], [10], [13], [19], [9], [13], [18], [0], [14], [22], [2], [0], [20], [18], [5], [14], [0], [3], [0], [1], [3], [18], [0], [3], [25], [25], [0], [7], [7], [3], [5], [18], [0], [7], [8], [22], [1], [5], [7], [17], [12], [10], [4], [8], [10], [8], [3], [1], [17], [6], [22], [2], [0], [10], [5], [15], [1], [18], [9], [5], [0], [0], [13], [12], [14], [7], [3], [0], [6], [7], [22], [7], [2], [20], [0], [14], [26], [0], [10], [15], [10], [0], [0], [4], [0], [0], [3], [26], [0], [1], [1], [1], [15], [8], [0], [0], [7], [10], [20], [20], [0], [17], [17], [15], [19], [4], [3], [1], [24], [24], [0], [7], [4], [2], [9], [17], [23], [22], [9], [21], [1], [0], [9], [15], [4], [15], [10], [0], [12], [6], [1], [4], [15], [1], [18], [25], [14], [1], [9], [15], [10], [4], [5], [10], [2], [11], [15], [15], [0], [14], [18], [15], [17], [0], [4], [0], [14], [5], [2], [18], [4], [18], [18], [7], [25], [3], [11], [7], [18], [4], [22], [20], [17], [17], [4], [6], [15], [0], [13], [0], [15], [3], [25], [5], [4], [4], [8], [18], [0], [26], [11], [25], [22], [18], [25], [4], [1], [15], [22], [10], [0], [18], [17], [0], [1], [1], [10], [4], [18], [4], [25], [5], [7], [15], [7], [4], [0], [20], [20], [0], [25], [14], [15], [17], [0], [3], [15], [15], [24], [4], [3], [2], [18], [15], [0], [1], [26], [1], [10], [12], [25], [3], [6], [4], [10], [26], [20], [7], [0], [1], [6], [18], [0], [0], [0], [18], [0], [10], [1], [0], [18], [0], [0], [0], [26], [7], [14], [22], [3], [4], [18], [10], [0], [15], [1], [6], [15], [1], [26], [0], [4], [3], [11], [20], [15], [0], [4], [0], [0], [2], [2], [1], [6], [18], [7], [26], [12], [14], [4], [4], [6], [0], [6], [3], [0], [0], [7], [2], [4], [15], [3], [0], [25], [4], [6], [1], [0], [25], [18], [22], [11], [17], [8], [12], [15], [10], [4], [15], [6], [17], [0], [10], [2], [15], [2], [0], [7], [10], [17], [7], [2], [10], [23], [18], [15], [7], [4], [3], [8], [26], [15], [16], [0], [1], [3], [18], [10], [3], [5], [22], [18], [15], [4], [17], [10], [2], [0], [0], [4], [25], [4], [26], [7], [4], [12], [10], [15], [15], [10], [0], [15], [4], [3], [3], [6], [26], [20], [7], [1], [9], [1], [4], [4], [18], [18], [0], [18], [1], [20], [4], [0], [12], [23], [10], [26], [11], [1], [15], [4], [11], [17], [7], [4], [17], [3], [7], [9], [3], [18], [26], [4], [4], [3], [14], [0], [2], [0], [0], [25], [12], [22], [11], [5], [11], [15], [22], [6], [25], [6], [10], [4], [10], [4], [0], [3], [1], [12], [13], [16], [2], [10], [25], [4], [6], [15], [7], [0], [3], [11], [18], [2], [20], [0], [3], [18], [15], [15], [8], [8], [17], [3], [15], [25], [1], [15], [7], [4], [2], [17], [25], [7], [1], [22], [0], [11], [20], [3], [5], [2], [17], [18], [6], [3], [7], [25], [2], [0], [10], [15], [10], [4], [18], [4], [13], [4], [7], [4], [1], [18], [18], [8], [15], [9], [18], [9], [3], [7], [0], [3], [15], [7], [10], [0], [8], [20], [2], [23], [7], [20], [3], [0], [6], [4], [7], [7], [17], [7], [2], [6], [7], [22], [14], [15], [10], [6], [0], [22], [6], [4], [3], [0], [6], [0], [13], [6], [9], [5], [7], [13], [26], [15], [14], [9], [0], [0], [4], [1], [10], [13], [24], [10], [4], [6], [0], [1], [11], [6], [6], [0], [14], [3], [20], [10], [5], [3], [5], [7], [1], [11], [7], [24], [8], [6], [20], [15], [1], [15], [8], [6], [20], [0], [1], [0], [6], [1], [7], [4], [17], [1], [3], [9], [26], [12], [4], [25], [26], [15], [10], [4], [4], [20], [7], [1], [18], [3], [3], [8], [22], [0], [15], [22], [15], [9], [0], [18], [10], [26], [10], [17], [3], [1], [0], [1], [10], [15], [10], [26], [2], [2], [26], [22], [17], [1], [2], [0], [7], [18], [7], [15], [15], [3], [17], [2], [9], [0], [2], [15], [3], [22], [18], [22], [15], [3], [7], [20], [6], [6], [12], [0], [6], [7], [6], [15], [6], [5], [11], [2], [10], [1], [2], [1], [23], [9], [2], [3], [18], [18], [26], [2], [0], [8], [15], [15], [8], [9], [0], [5], [11], [17], [18], [14], [3], [6], [6], [3], [4], [8], [4], [2], [18], [4], [0], [0], [15], [18], [0], [7], [15], [4], [15], [18], [22], [13], [0], [1], [6], [2], [1], [2], [18], [3], [20], [18], [25], [13], [22], [6], [18], [15], [0], [14], [3], [3], [0], [1], [9], [15], [7], [10], [17], [17], [5], [15], [11], [18], [17], [15], [18], [4], [8], [25], [18], [18], [7], [4], [24], [3], [15], [18], [3], [17], [4], [9], [18], [3], [18], [6], [0], [9], [5], [26], [6], [17], [3], [6], [2], [20], [7], [7], [18], [6], [20], [7], [2], [0], [17], [17], [3], [4], [18], [3], [1], [15], [15], [15], [0], [18], [19], [13], [5], [12], [26], [0], [0], [4], [26], [26], [18], [6], [0], [3], [1], [7], [22], [0], [9], [0], [3], [8], [1], [5], [1], [24], [10], [15], [18], [6], [7], [2], [18], [15], [3], [18], [9], [1], [17], [3], [8], [0], [3], [15], [20], [3], [11], [0], [18], [7], [0], [14], [15], [25], [6], [4], [4], [26], [25], [0], [1], [25], [1], [7], [18], [7], [6], [4], [8], [20], [25], [6], [4], [15], [9], [26], [20], [22], [7], [20], [0], [9], [1], [0], [10], [0], [0], [25], [3], [18], [3], [7], [5], [9], [15], [13], [9], [15], [11], [2], [25], [4], [0], [19], [20], [4], [13], [3], [15], [4], [3], [25], [6], [10], [26], [20], [0], [18], [2], [4], [11], [6], [4], [20], [1], [3], [2], [7], [20], [7], [25], [3], [0], [11], [4], [5], [22], [13], [19], [15], [4], [12], [0], [15], [7], [2], [4], [15], [1], [20], [7], [0], [0], [1], [15], [18], [9], [6], [4], [7], [6], [9], [25], [25], [1], [18], [4], [0], [6], [7], [0], [5], [5], [1], [14], [7], [18], [0], [25], [9], [10], [10], [15], [10], [7], [7], [4], [24], [2], [1], [24], [3], [26], [1], [3], [2], [15], [9], [0], [3], [4], [10], [7], [1], [3], [22], [15], [7], [3], [18], [20], [0], [6], [14], [7], [0], [6], [1], [15], [7], [22], [15], [7], [25], [20], [25], [1], [15], [24], [4], [1], [20], [2], [7], [18], [0], [0], [7], [22], [2], [2], [1], [1], [4], [4], [15], [15], [26], [15], [0], [15], [3], [3], [18], [1], [15], [17], [10], [7], [3], [9], [7], [18], [6], [17], [25], [20], [7], [2], [14], [0], [0], [20], [4], [15], [10], [13], [7], [17], [7], [20], [1], [6], [3], [1], [11], [3], [15], [26], [3], [14], [17], [0], [7], [15], [4], [12], [17], [3], [25], [0], [10], [0], [4], [24], [0], [3], [17], [0], [5], [0], [4], [6], [1], [4], [4], [4], [9], [6], [3], [0], [3], [9], [10], [20], [15], [0], [10], [22], [7], [3], [11], [11], [9], [15], [5], [0], [1], [25], [17], [1], [9], [10], [3], [11], [26], [1], [3], [3], [6], [18], [25], [4], [0], [6], [0], [5], [0], [6], [7], [17], [4], [8], [3], [0], [10], [4], [4], [17], [10], [13], [2], [7], [9], [21], [11], [3], [25], [0], [3], [18], [7], [4], [13], [7], [0], [15], [10], [2], [5], [1], [25], [18], [0], [15], [22], [14], [22], [20], [0], [17], [22], [1], [26], [26], [0], [10], [25], [1], [13], [7], [23], [18], [0], [7], [18], [18], [2], [13], [15], [4], [17], [6], [14], [15], [3], [12], [20], [2], [0], [7], [23], [15], [18], [7], [10], [0], [4], [7], [3], [11], [22], [0], [6], [15], [7], [7], [1], [25], [0], [2], [14], [7], [18], [14], [15], [0], [16], [3], [15], [9], [3], [1], [1], [3], [15], [10], [1], [0], [4], [26], [18], [13], [10], [20], [8], [22], [18], [5], [9], [0], [4], [1], [10], [10], [2], [17], [14], [26], [7], [20], [1], [15], [0], [23], [6], [10], [4], [13], [2], [1], [10], [26], [18], [22], [2], [21], [1], [18], [7], [1], [9], [3], [5], [17], [7], [26], [18], [4], [0], [4], [0], [2], [4], [0], [1], [1], [18], [17], [18], [26], [3], [2], [10], [15], [10], [26], [9], [22], [9], [0], [7], [10], [25], [10], [5], [22], [1], [18], [15], [3], [3], [13], [0], [26], [7], [1], [10], [0], [7], [3], [3], [0], [1], [10], [7], [5], [7], [15], [22], [20], [25], [10], [10], [6], [10], [26], [15], [20], [6], [4], [1], [18], [3], [10], [15], [0], [7], [18], [9], [10], [18], [15], [17], [7], [20], [5], [20], [0], [6], [14], [14], [16], [0], [7], [8], [4], [15], [15], [10], [4], [8], [12], [0], [0], [4], [0], [2], [2], [10], [13], [20], [15], [3], [18], [15], [12], [26], [6], [8], [18], [18], [4], [17], [25], [15], [7], [7], [13], [18], [4], [18], [22], [15], [9], [16], [5], [10], [15], [0], [11], [5], [4], [7], [0], [26], [0], [5], [11], [0], [1], [3], [15], [22], [0], [1], [25], [4], [10], [3], [4], [3], [1], [26], [8], [25], [7], [3], [9], [7], [1], [4], [4], [20], [13], [4], [24], [1], [3], [4], [22], [0], [6], [20], [15], [4], [3], [21], [15], [17], [11], [3], [2], [26], [5], [10], [22], [11], [12], [7], [12], [18], [2], [18], [18], [22], [23], [1], [11], [5], [4], [15], [17], [24], [4], [17], [18], [7], [7], [0], [0], [1], [18], [17], [15], [18], [0], [3], [4], [26], [20], [3], [12], [10], [22], [13], [15], [7], [0], [19], [14], [18], [13], [26], [7], [3], [26], [5], [0], [0], [4], [18], [3], [17], [9], [24], [18], [17], [0], [7], [0], [5], [2], [14], [0], [0], [4], [1], [2], [18], [15], [22], [0], [3], [18], [10], [9], [0], [17], [25], [0], [18], [3], [24], [0], [10], [18], [15], [10], [9], [24], [25], [15], [18], [26], [9], [7], [7], [7], [15], [3], [0], [0], [10], [4], [0], [15], [0], [2], [5], [20], [17], [9], [9], [3], [6], [11], [4], [11], [9], [5], [24], [18], [0], [14], [0], [1], [15], [9], [15], [3], [3], [4], [11], [4], [4], [6], [13], [17], [2], [15], [26], [3], [10], [22], [22], [18], [0], [3], [10], [26], [1], [10], [1], [15], [2], [9], [2], [3], [17], [26], [6], [4], [14], [11], [8], [4], [25], [3], [17], [6], [7], [1], [7], [1], [20], [9], [18], [26], [9], [5], [15], [12], [7], [4], [2], [22], [0], [0], [2], [4], [26], [15], [4], [0], [25], [7], [18], [24], [6], [2], [1], [3], [3], [1], [0], [21], [1], [11], [20], [1], [3], [3], [7], [9], [25], [3], [1], [0], [0], [10], [1], [4], [14], [4], [3], [0], [0], [3], [3], [22], [1], [2], [0], [2], [4], [10], [4], [18], [1], [0], [10], [5], [9], [5], [6], [0], [9], [1], [15], [26], [3], [6], [0], [17], [10], [18], [3], [0], [6], [15], [0], [4], [4], [25], [11], [1], [2], [3], [0], [12], [1], [0], [8], [17], [15], [3], [15], [10], [0], [2], [25], [2], [4], [10], [5], [1], [19], [0], [4], [1], [14], [10], [8], [10], [5], [24], [3], [25], [18], [2], [1], [4], [19], [9], [0], [6], [15], [18], [15], [17], [26], [4], [0], [6], [26], [2], [3], [17], [4], [0], [20], [4], [15], [10], [18], [20], [3], [0], [4], [10], [26], [2], [7], [25], [9], [14], [2], [0], [15], [20], [0], [22], [15], [2], [17], [18], [20], [4], [15], [4], [0], [0], [4], [13], [7], [3], [17], [6], [18], [18], [0], [13], [1], [20], [0], [7], [9], [2], [12], [13], [10], [18], [26], [8], [11], [0], [0], [21], [0], [6], [26], [17], [5], [20], [5], [11], [4], [4], [12], [13], [9], [8], [7], [7], [20], [18], [1], [15], [0], [17], [1], [0], [22], [10], [20], [0], [25], [0], [10], [6], [0], [0], [4], [15], [8], [20], [3], [7], [18], [14], [4], [10], [1], [10], [1], [15], [20], [0], [0], [18], [17], [15], [25], [8], [3], [10], [14], [1], [0], [1], [3], [5], [0], [9], [5], [11], [24], [26], [9], [20], [23], [11], [24], [4], [6], [10], [10], [15], [6], [10], [22], [8], [0], [4], [0], [7], [26], [3], [3], [7], [15], [7], [1], [17], [18], [1], [25], [10], [1], [1], [0], [9], [22], [1], [24], [14], [15], [15], [20], [3], [9], [25], [20], [3], [18], [26], [26], [4], [10], [0], [1], [11], [4], [26], [7], [3], [0], [4], [0], [1], [4], [0], [7], [2], [18], [16], [2], [2], [8], [0], [7], [24], [21], [25], [0], [9], [15], [20], [22], [24], [0], [1], [22], [18], [15], [1], [3], [4], [18], [2], [5], [0], [22], [10], [6], [3], [14], [18], [9], [14], [1], [4], [18], [2], [0], [25], [1], [15], [3], [1], [1], [14], [4], [17], [2], [25], [0], [11], [3], [17], [18], [4], [1], [15], [13], [2], [1], [4], [9], [1], [22], [17], [3], [11], [26], [3], [10], [18], [0], [1], [0], [0], [1], [11], [26], [0], [7], [3], [7], [6], [18], [18], [0], [25], [0], [12], [24], [7], [3], [3], [0], [24], [15], [15], [15], [6], [4], [4], [8], [18], [9], [0], [25], [25], [23], [0], [0], [7], [6], [13], [15], [0], [15], [8], [22], [3], [26], [7], [0], [15], [2], [4], [0], [17], [10], [15], [1], [3], [15], [4], [26], [3], [10], [6], [15], [11], [15], [3], [0], [15], [1], [15], [1], [22], [18], [24], [15], [3], [14], [0], [15], [6], [0], [13], [22], [2], [2], [10], [10], [2], [7], [9], [3], [17], [15], [9], [7], [9], [0], [0], [7], [4], [1], [11], [18], [4], [6], [0], [15], [15], [0], [0], [7], [25], [18], [3], [15], [5], [1], [3], [26], [25], [11], [11], [11], [26], [4], [4], [26], [18], [5], [0], [14], [18], [1], [8], [0], [10], [15], [20], [2], [7], [0], [8], [1], [4], [15], [11], [2], [1], [9], [18], [24], [10], [15], [13], [18], [2], [15], [1], [3], [9], [3], [0], [5], [2], [4], [18], [10], [17], [26], [15], [24], [4], [5], [6], [2], [10], [15], [10], [18], [23], [10], [1], [2], [7], [18], [10], [8], [3], [22], [15], [25], [6], [24], [0], [18], [1], [15], [20], [18], [17], [1], [1], [20], [22], [20], [0], [3], [9], [0], [3], [0], [0], [17], [10], [22], [13], [26], [18], [22], [18], [4], [17], [11], [11], [2], [2], [0], [0], [24], [2], [10], [17], [7], [0], [24], [6], [15], [1], [11], [11], [15], [18], [25], [10], [7], [6], [8], [25], [9], [1], [4], [24], [5], [0], [1], [4], [17], [7], [6], [8], [6], [7], [20], [1], [5], [25], [1], [4], [26], [21], [1], [9], [1], [0], [15], [1], [9], [15], [24], [7], [10], [1], [20], [10], [20], [15], [22], [3], [5], [4], [14], [1], [11], [15], [1], [10], [20], [26], [3], [26], [0], [1], [3], [11], [1], [11], [15], [14], [18], [18], [25], [8], [22], [6], [4], [4], [10], [7], [10], [3], [1], [18], [15], [8], [13], [2], [0], [6], [25], [9], [15], [13], [9], [26], [7], [17], [6], [25], [17], [8], [7], [7], [4], [3], [7], [11], [18], [26], [18], [0], [2], [3], [25], [18], [20], [22], [10], [25], [7], [10], [0], [5], [20], [10], [15], [26], [4], [3], [18], [24], [2], [0], [4], [1], [10], [15], [10], [1], [6], [1], [1], [0], [3], [14], [2], [10], [6], [4], [10], [18], [18], [25], [5], [4], [9], [0], [17], [20], [22], [20], [7], [15], [1], [0], [3], [2], [13], [24], [0], [5], [15], [0], [25], [10], [11], [5], [0], [15], [15], [18], [0], [1], [18], [15], [2], [7], [5], [6], [12], [18], [2], [4], [18], [0], [21], [0], [14], [15], [10], [7], [9], [17], [0], [4], [18], [3], [25], [6], [22], [18], [2], [22], [1], [22], [20], [6], [11], [1], [15], [3], [1], [15], [3], [2], [5], [15], [3], [0], [0], [15], [3], [20], [10], [0], [7], [2], [18], [0], [1], [1], [18], [15], [4], [15], [18], [26], [15], [20], [7], [25], [17], [20], [26], [20], [3], [20], [1], [18], [15], [18], [4], [2], [0], [4], [2], [18], [0], [6], [1], [4], [13], [14], [9], [21], [9], [22], [1], [7], [8], [1], [20], [18], [2], [13], [15], [15], [17], [4], [25], [6], [7], [2], [5], [0], [4], [9], [13], [3], [23], [18], [5], [2], [15], [22], [10], [26], [18], [15], [20], [20], [9], [0], [22], [1], [15], [3], [17], [1], [2], [7], [3], [18], [3], [15], [4], [6], [1], [17], [4], [2], [5], [3], [26], [25], [0], [1], [4], [20], [26], [0], [3], [2], [15], [4], [0], [3], [17], [6], [26], [1], [15], [3], [22], [15], [2], [1], [10], [17], [9], [4], [3], [25], [6], [8], [17], [0], [11], [11], [0], [11], [0], [7], [15], [4], [25], [25], [3], [13], [1], [0], [0], [18], [9], [1], [1], [4], [7], [10], [6], [2], [7], [0], [25], [18], [10], [1], [4], [0], [18], [22], [1], [0], [9], [20], [7], [18], [7], [6], [18], [13], [4], [3], [20], [10], [22], [2], [9], [9], [10], [2], [9], [18], [1], [0], [25], [10], [20], [22], [13], [15], [22], [22], [24], [7], [6], [2], [13], [3], [24], [14], [25], [1], [4], [22], [18], [5], [1], [4], [18], [11], [7], [10], [18], [1], [18], [0], [2], [14], [0], [0], [10], [7], [13], [1], [0], [10], [10], [26], [5], [4], [1], [10], [1], [17], [0], [11], [15], [8], [15], [25], [10], [7], [14], [26], [11], [15], [7], [4], [0], [26], [26], [25], [24], [15], [2], [13], [10], [5], [0], [17], [25], [0], [18], [5], [3], [15], [8], [10], [4], [3], [3], [15], [26], [17], [25], [1], [0], [18], [0], [18], [0], [25], [20], [12], [7], [22], [4], [0], [20], [0], [23], [5], [18], [8], [15], [25], [12], [4], [20], [10], [0], [6], [4], [17], [0], [10], [1], [9], [25], [17], [25], [0], [14], [3], [4], [2], [7], [2], [5], [0], [25], [0], [13], [19], [9], [2], [10], [4], [10], [18], [7], [21], [6], [17], [18], [3], [9], [4], [17], [2], [10], [5], [15], [2], [15], [1], [1], [25], [0], [17], [6], [9], [4], [15], [2], [7], [22], [2], [17], [1], [7], [6], [15], [0], [20], [24], [11], [5], [2], [25], [15], [0], [1], [22], [1], [15], [7], [25], [15], [10], [18], [22], [8], [7], [17], [4], [26], [2], [15], [3], [7], [2], [0], [0], [15], [15], [7], [1], [9], [2], [25], [25], [26], [15], [22], [20], [5], [14], [17], [15], [10], [4], [6], [24], [1], [8], [7], [24], [1], [6], [0], [7], [25], [0], [22], [18], [9], [25], [1], [18], [17], [1], [0], [9], [0], [0], [26], [4], [14], [18], [7], [15], [20], [4], [1], [4], [6], [3], [0], [1], [10], [18], [5], [25], [7], [0], [21], [22], [3], [7], [8], [3], [0], [1], [10], [3], [10], [10], [1], [3], [10], [0], [0], [10], [11], [0], [13], [7], [7], [3], [2], [18], [1], [14], [3], [20], [11], [14], [0], [8], [6], [3], [1], [18], [18], [5], [15], [1], [3], [4], [7], [18], [6], [7], [22], [0], [11], [26], [25], [7], [11], [13], [25], [0], [10], [0], [15], [15], [26], [0], [24], [0], [1], [26], [6], [2], [1], [10], [2], [4], [0], [7], [0], [4], [1], [4], [5], [4], [0], [1], [17], [14], [18], [3], [2], [24], [22], [24], [15], [3], [5], [0], [11], [5], [15], [7], [10], [25], [0], [0], [0], [1], [10], [3], [3], [1], [3], [0], [15], [8], [18], [0], [0], [25], [7], [17], [10], [0], [23], [4], [7], [11], [4], [8], [4], [3], [18], [18], [9], [26], [17], [14], [3], [20], [4], [6], [4], [6], [11], [0], [7], [20], [17], [20], [9], [7], [4], [7], [3], [17], [20], [13], [8], [18], [10], [12], [1], [9], [18], [18], [5], [3], [18], [5], [7], [24], [17], [5], [4], [3], [6], [7], [6], [7], [15], [0], [6], [15], [3], [18], [14], [10], [15], [15], [4], [10], [1], [9], [1], [2], [18], [2], [20], [6], [14], [15], [18], [10], [15], [7], [18], [13], [26], [0], [6], [18], [26], [0], [14], [1], [19], [1], [0], [0], [10], [0], [25], [15], [0], [6], [1], [24], [26], [3], [3], [1], [15], [7], [20], [4], [6], [22], [10], [0], [2], [6], [9], [0], [25], [0], [15], [5], [3], [7], [15], [0], [18], [0], [15], [4], [11], [0], [4], [0], [9], [22], [18], [10], [15], [5], [1], [1], [2], [0], [17], [6], [26], [7], [3], [22], [1], [10], [4], [2], [15], [17], [25], [15], [5], [4], [25], [1], [17], [3], [3], [1], [7], [1], [4], [10], [10], [6], [2], [15], [3], [0], [10], [15], [15], [1], [26], [18], [25], [1], [10], [6], [13], [18], [26], [26], [26], [4], [20], [1], [10], [7], [25], [18], [7], [15], [7], [17], [26], [25], [1], [0], [7], [3], [17], [8], [0], [25], [14], [0], [20], [3], [0], [1], [18], [4], [0], [17], [11], [15], [1], [3], [22], [0], [24], [15], [20], [3], [2], [12], [1], [22], [5], [26], [25], [18], [6], [17], [3], [15], [4], [25], [0], [4], [10], [17], [3], [2], [7], [26], [0], [6], [6], [7], [26], [25], [8], [17], [24], [6], [10], [18], [4], [7], [4], [8], [17], [13], [0], [25], [10], [18], [7], [5], [0], [22], [3], [15], [3], [22], [6], [7], [10], [3], [0], [3], [18], [9], [4], [18], [1], [17], [11], [17], [0], [15], [26], [2], [2], [0], [3], [26], [0], [3], [13], [1], [6], [26], [0], [0], [11], [22], [11], [3], [5], [4], [0], [10], [7], [22], [15], [7], [22], [8], [13], [6], [4], [15], [7], [24], [4], [3], [25], [18], [26], [18], [18], [1], [26], [0], [4], [7], [24], [20], [24], [7], [3], [13], [18], [7], [24], [8], [22], [1], [6], [4], [9], [18], [7], [3], [5], [3], [0], [0], [0], [0], [13], [7], [8], [0], [4], [11], [6], [13], [15], [9], [17], [7], [18], [4], [1], [22], [25], [4], [5], [1], [3], [15], [15], [5], [1], [15], [17], [22], [12], [15], [0], [0], [4], [25], [5], [13], [24], [18], [18], [15], [3], [2], [3], [20], [7], [20], [2], [15], [6], [20], [3], [4], [6], [4], [13], [20], [9], [17], [6], [9], [0], [10], [1], [7], [2], [2], [7], [9], [17], [1], [5], [8], [17], [3], [11], [25], [26], [14], [9], [14], [26], [4], [18], [17], [3], [20], [5], [9], [10], [0], [10], [13], [4], [12], [22], [2], [3], [26], [4], [4], [2], [8], [1], [2], [7], [18], [14], [0], [18], [6], [25], [1], [15], [15], [4], [1], [26], [0], [26], [5], [3], [7], [3], [15], [3], [18], [2], [6], [15], [4], [25], [17], [10], [7], [2], [22], [2], [22], [17], [25], [1], [0], [0], [1], [6], [4], [18], [0], [25], [4], [18], [17], [10], [6], [0], [4], [0], [26], [3], [2], [8], [7], [7], [1], [15], [26], [20], [4], [5], [9], [26], [26], [15], [15], [17], [25], [11], [15], [10], [18], [17], [4], [5], [1], [15], [1], [7], [25], [0], [4], [3], [1], [1], [3], [0], [6], [10], [20], [20], [2], [4], [9], [10], [7], [15], [3], [26], [19], [9], [5], [14], [2], [22], [19], [18], [2], [0], [7], [15], [25], [11], [0], [0], [9], [9], [9], [14], [2], [25], [18], [26], [20], [18], [0], [11], [0], [23], [2], [22], [1], [4], [0], [24], [17], [20], [13], [3], [18], [3], [6], [26], [3], [25], [4], [15], [7], [1], [22], [9], [4], [17], [5], [14], [13], [1], [0], [7], [3], [15], [20], [22], [18], [7], [18], [9], [8], [3], [18], [14], [13], [10], [25], [9], [5], [11], [4], [15], [21], [9], [9], [2], [6], [10], [9], [15], [7], [0], [7], [20], [3], [6], [0], [1], [0], [15], [5], [6], [25], [4], [4], [15], [2], [10], [18], [4], [4], [4], [9], [26], [25], [1], [0], [6], [15], [11], [15], [13], [7], [15], [10], [7], [10], [15], [4], [6], [1], [0], [22], [26], [5], [3], [7], [17], [22], [2], [5], [7], [0], [17], [18], [4], [2], [3], [5], [4], [13], [10], [7], [18], [3], [7], [2], [4], [7], [6], [0], [24], [18], [3], [20], [13], [15], [1], [18], [13], [3], [1], [20], [4], [20], [13], [3], [10], [15], [0], [25], [20], [2], [6], [25], [1], [22], [6], [13], [20], [1], [15], [4], [1], [15], [3], [15], [24], [14], [3], [15], [6], [0], [1], [0], [0], [1], [0], [25], [26], [25], [20], [15], [17], [18], [8], [4], [7], [4], [6], [1], [1], [18], [7], [7], [7], [1], [3], [10], [18], [18], [9], [15], [24], [10], [4], [0], [17], [18], [1], [3], [25], [1], [24], [5], [7], [6], [24], [15], [7], [10], [3], [1], [20], [18], [4], [17], [26], [9], [0], [18], [7], [22], [15], [4], [9], [18], [10], [15], [5], [6], [0], [6], [7], [1], [7], [5], [18], [10], [15], [20], [15], [13], [20], [7], [10], [4], [22], [0], [22], [10], [14], [3], [14], [11], [7], [0], [10], [24], [4], [0], [15], [24], [5], [9], [0], [4], [2], [0], [3], [25], [2], [3], [4], [24], [9], [2], [0], [15], [23], [19], [26], [3], [7], [25], [10], [0], [0], [9], [2], [2], [1], [0], [20], [23], [15], [0], [12], [9], [6], [2], [0], [15], [3], [4], [13], [2], [7], [13], [7], [15], [4], [7], [15], [15], [9], [3], [3], [2], [10], [8], [5], [5], [20], [17], [1], [10], [3], [10], [17], [15], [15], [3], [8], [6], [7], [6], [15], [13], [26], [0], [12], [4], [2], [4], [20], [10], [7], [6], [20], [2], [0], [5], [4], [15], [15], [4], [7], [8], [0], [4], [15], [13], [10], [5], [6], [6], [7], [10], [18], [10], [17], [10], [7], [6], [23], [25], [8], [1], [18], [0], [2], [0], [13], [3], [2], [5], [6], [4], [25], [2], [18], [13], [25], [1], [7], [2], [3], [10], [17], [10], [9], [9], [7], [25], [18], [2], [1], [7], [7], [13], [18], [20], [0], [6], [8], [26], [13], [24], [5], [4], [4], [15], [18], [0], [1], [18], [15], [15], [17], [2], [3], [3], [1], [22], [26], [7], [11], [1], [4], [0], [20], [6], [0], [5], [10], [25], [8], [15], [24], [14], [9], [7], [18], [25], [7], [17], [0], [9], [11], [25], [3], [25], [10], [13], [10], [25], [7], [11], [4], [6], [1], [9], [17], [7], [9], [24], [13], [6], [7], [17], [10], [24], [2], [7], [20], [20], [22], [10], [17], [20], [25], [23], [11], [9], [2], [2], [2], [4], [9], [3], [15], [10], [20], [25], [6], [3], [20], [3], [3], [7], [22], [7], [8], [2], [18], [20], [1], [8], [1], [11], [25], [20], [15], [4], [3], [1], [1], [11], [25], [20], [3], [6], [7], [0], [4], [18], [17], [5], [8], [6], [2], [13], [7], [12], [0], [21], [7], [25], [9], [13], [8], [23], [4], [5], [15], [3], [1], [20], [7], [13], [22], [15], [23], [15], [3], [10], [2], [0], [7], [17], [0], [10], [20], [24], [0], [14], [19], [9], [25], [0], [10], [17], [7], [14], [11], [15], [2], [15], [24], [2], [14], [0], [5], [24], [15], [20], [18], [19], [20], [1], [4], [7], [26], [0], [2], [0], [10], [15], [24], [17], [24], [10], [7], [3], [18], [7], [7], [0], [3], [12], [0], [25], [14], [7], [0], [18], [17], [0], [15], [14], [0], [9], [18], [15], [25], [7], [18], [22], [17], [15], [4], [9], [1], [1], [25], [2], [1], [4], [7], [1], [18], [11], [7], [4], [5], [20], [25], [15], [18], [0], [10], [1], [0], [6], [0], [20], [0], [17], [18], [26], [0], [6], [3], [3], [4], [0], [6], [3], [11], [22], [5], [3], [2], [26], [22], [22], [18], [14], [0], [1], [7], [20], [1], [1], [1], [8], [14], [25], [3], [4], [6], [3], [12], [3], [20], [7], [3], [10], [4], [7], [3], [25], [17], [24], [15], [25], [3], [2], [17], [0], [18], [1], [15], [0], [8], [25], [0], [20], [17], [3], [15], [10], [12], [15], [5], [3], [1], [4], [18], [1], [1], [3], [17], [7], [15], [20], [15], [18], [25], [3], [2], [2], [10], [5], [4], [10], [1], [25], [4], [25], [1], [4], [0], [7], [9], [4], [7], [1], [7], [18], [15], [15], [3], [22], [15], [18], [4], [17], [0], [18], [26], [2], [5], [15], [18], [10], [10], [3], [14], [10], [14], [1], [10], [15], [4], [25], [12], [5], [4], [15], [4], [1], [17], [0], [10], [14], [14], [1], [22], [2], [26], [1], [18], [6], [17], [10], [26], [6], [6], [18], [20], [4], [1], [7], [22], [25], [18], [4], [5], [20], [1], [0], [18], [10], [3], [6], [0], [0], [4], [17], [8], [1], [20], [3], [25], [8], [3], [10], [13], [0], [11], [0], [13], [4], [10], [4], [8], [4], [4], [1], [4], [24], [18], [18], [26], [2], [7], [4], [3], [25], [10], [12], [15], [6], [15], [18], [25], [26], [2], [11], [10], [18], [3], [10], [7], [10], [20], [2], [15], [6], [26], [4], [4], [11], [15], [18], [0], [2], [1], [0], [0], [9], [26], [18], [3], [3], [0], [18], [15], [7], [7], [5], [25], [4], [18], [18], [10], [0], [0], [7], [17], [17], [2], [5], [15], [1], [3], [6], [0], [17], [7], [7], [2], [2], [2], [5], [10], [18], [17], [1], [17], [0], [18], [25], [25], [14], [10], [6], [20], [13], [9], [0], [10], [14], [1], [0], [0], [4], [12], [26], [5], [1], [0], [7], [7], [2], [3], [3], [7], [0], [1], [2], [3], [6], [10], [6], [13], [26], [17], [13], [10], [25], [1], [1], [7], [10], [26], [8], [3], [1], [14], [6], [14], [2], [0], [0], [19], [17], [9], [4], [0], [17], [18], [26], [15], [0], [20], [17], [12], [3], [15], [0], [0], [14], [18], [0], [10], [10], [0], [11], [0], [1], [3], [1], [26], [15], [0], [5], [24], [4], [9], [6], [10], [4], [4], [18], [10], [18], [4], [2], [0], [0], [1], [9], [3], [1], [6], [1], [15], [0], [1], [9], [6], [4], [2], [20], [3], [26], [0], [0], [1], [0], [6], [3], [0], [18], [6], [6], [18], [7], [0], [20], [18], [7], [14], [10], [10], [0], [10], [1], [11], [15], [3], [10], [0], [26], [26], [13], [0], [7], [7], [26], [3], [2], [1], [2], [24], [15], [26], [14], [1], [0], [25], [8], [2], [0], [11], [7], [17], [9], [4], [22], [20], [3], [15], [20], [25], [4], [4], [3], [23], [4], [20], [3], [3], [20], [10], [3], [10], [4], [0], [0], [25], [7], [0], [3], [7], [7], [10], [0], [17], [7], [4], [19], [2], [22], [11], [6], [1], [7], [15], [15], [4], [7], [17], [5], [7], [2], [26], [1], [7], [5], [4], [15], [10], [13], [25], [2], [0], [15], [4], [1], [15], [5], [20], [3], [0], [20], [10], [4], [10], [20], [9], [20], [20], [1], [21], [4], [3], [0], [10], [26], [0], [4], [17], [1], [13], [19], [14], [20], [14], [7], [0], [3], [0], [4], [2], [18], [13], [20], [11], [22], [3], [0], [3], [18], [4], [4], [10], [15], [0], [11], [20], [1], [10], [6], [3], [11], [0], [15], [25], [13], [1], [10], [6], [4], [1], [23], [13], [4], [24], [3], [3], [4], [2], [4], [22], [17], [0], [6], [9], [9], [0], [25], [2], [14], [3], [20], [25], [2], [0], [7], [25], [7], [8], [24], [20], [25], [4], [18], [0], [1], [2], [12], [1], [6], [13], [10], [4], [2], [9], [14], [0], [4], [12], [2], [9], [7], [7], [17], [15], [3], [3], [13], [20], [13], [13], [15], [0], [6], [6], [0], [22], [18], [9], [1], [15], [26], [15], [22], [15], [22], [0], [9], [1], [9], [7], [10], [12], [0], [10], [18], [26], [0], [10], [17], [20], [18], [4], [10], [9], [0], [5], [25], [6], [1], [20], [17], [15], [0], [13], [10], [1], [15], [7], [7], [22], [1], [14], [4], [15], [10], [11], [26], [7], [11], [15], [22], [0], [0], [15], [2], [3], [24], [10], [20], [4], [18], [2], [10], [5], [24], [18], [7], [20], [25], [26], [2], [2], [6], [7], [4], [25], [9], [2], [25], [18], [3], [7], [6], [4], [3], [3], [15], [10], [3], [24], [22], [20], [26], [4], [24], [3], [7], [5], [1], [8], [4], [7], [7], [26], [10], [0], [1], [6], [4], [18], [4], [25], [9], [3], [3], [18], [10], [0], [14], [10], [26], [0], [14], [24], [0], [3], [7], [0], [6], [3], [22], [0], [10], [17], [11], [9], [25], [7], [26], [15], [0], [12], [2], [20], [18], [0], [3], [5], [22], [22], [18], [7], [18], [18], [3], [0], [15], [7], [26], [25], [15], [1], [5], [5], [18], [22], [7], [0], [4], [9], [13], [4], [10], [3], [2], [18], [5], [1], [10], [4], [20], [23], [18], [10], [4], [10], [1], [18], [8], [15], [8], [4], [8], [15], [25], [15], [3], [18], [3], [1], [4], [9], [1], [14], [25], [15], [22], [0], [3], [20], [10], [2], [2], [14], [0], [11], [20], [6], [4], [4], [18], [10], [3], [1], [0], [5], [3], [2], [0], [10], [18], [10], [26], [7], [3], [3], [1], [20], [0], [18], [7], [4], [0], [17], [4], [15], [14], [7], [4], [2], [22], [1], [0], [10], [10], [4], [0], [0], [6], [2], [22], [2], [7], [2], [25], [22], [5], [3], [10], [0], [18], [15], [3], [14], [0], [18], [22], [4], [22], [20], [1], [26], [2], [18], [0], [7], [15], [4], [10], [7], [13], [15], [13], [20], [4], [1], [2], [1], [24], [25], [26], [18], [14], [7], [22], [4], [15], [5], [2], [4], [4], [3], [5], [15], [7], [4], [4], [7], [24], [5], [2], [8], [2], [17], [1], [2], [18], [17], [20], [1], [0], [18], [18], [3], [25], [22], [1], [15], [26], [6], [25], [24], [18], [0], [12], [18], [4], [0], [6], [22], [5], [20], [7], [7], [4], [10], [7], [10], [19], [13], [0], [3], [26], [25], [18], [0], [2], [15], [10], [7], [20], [3], [3], [15], [7], [3], [11], [18], [13], [1], [0], [24], [4], [26], [4], [0], [20], [3], [4], [13], [1], [1], [12], [6], [1], [15], [18], [1], [10], [0], [7], [7], [0], [20], [6], [1], [3], [10], [25], [0], [3], [4], [20], [0], [23], [9], [3], [8], [7], [22], [16], [4], [7], [7], [10], [4], [0], [4], [7], [0], [15], [13], [22], [17], [2], [20], [26], [15], [11], [4], [26], [15], [17], [15], [2], [15], [17], [1], [18], [17], [5], [20], [18], [4], [4], [10], [11], [6], [0], [17], [10], [15], [1], [3], [3], [0], [3], [2], [13], [1], [15], [18], [13], [18], [2], [7], [18], [25], [0], [6], [14], [4], [0], [10], [1], [15], [4], [9], [4], [11], [18], [14], [10], [7], [0], [6], [0], [10], [18], [18], [8], [1], [4], [8], [0], [3], [14], [3], [3], [2], [4], [3], [0], [10], [14], [14], [2], [0], [0], [18], [3], [3], [4], [15], [20], [0], [25], [17], [4], [9], [14], [15], [25], [6], [1], [18], [15], [0], [1], [7], [5], [1], [18], [0], [17], [2], [6], [11], [3], [1], [1], [25], [25], [7], [0], [0], [6], [8], [14], [5], [1], [5], [18], [7], [16], [9], [18], [7], [0], [7], [1], [3], [15], [11], [0], [25], [0], [1], [0], [26], [0], [20], [2], [20], [6], [6], [9], [26], [0], [15], [25], [1], [0], [1], [17], [0], [11], [2], [22], [1], [9], [0], [3], [22], [0], [7], [4], [0], [10], [20], [7], [14], [20], [0], [17], [9], [3], [6], [14], [15], [10], [17], [18], [7], [13], [13], [17], [1], [1], [2], [0], [1], [1], [15], [15], [0], [10], [10], [1], [24], [15], [2], [0], [18], [24], [14], [25], [15], [14], [15], [15], [5], [0], [2], [5], [0], [7], [17], [15], [3], [4], [1], [4], [18], [10], [17], [20], [4], [3], [0], [26], [8], [5], [1], [13], [15], [20], [4], [10], [6], [18], [2], [1], [0], [12], [22], [0], [5], [10], [0], [26], [24], [25], [3], [15], [2], [0], [14], [2], [0], [2], [15], [7], [13], [8], [18], [11], [1], [7], [26], [20], [3], [0], [15], [17], [13], [15], [26], [0], [0], [15], [17], [15], [1], [4], [0], [19], [25], [10], [15], [4], [15], [15], [3], [0], [22], [25], [2], [7], [18], [25], [14], [26], [9], [15], [2], [4], [1], [1], [20], [7], [17], [2], [8], [4], [0], [0], [6], [17], [6], [4], [25], [1], [0], [25], [15], [22], [15], [6], [18], [24], [9], [13], [26], [8], [0], [10], [10], [6], [7], [18], [1], [22], [2], [13], [0], [18], [2], [9], [10], [20], [1], [3], [18], [1], [4], [3], [2], [18], [25], [6], [12], [10], [11], [3], [9], [15], [5], [2], [17], [0], [18], [9], [0], [15], [15], [2], [0], [6], [0], [25], [25], [11], [3], [0], [10], [18], [1], [10], [3], [1], [4], [0], [0], [25], [0], [5], [3], [12], [6], [4], [8], [0], [26], [23], [11], [4], [8], [25], [6], [0], [22], [8], [17], [20], [1], [4], [12], [1], [25], [1], [25], [8], [4], [3], [4], [0], [5], [0], [6], [5], [6], [4], [3], [15], [7], [2], [3], [25], [13], [4], [3], [2], [4], [0], [0], [11], [0], [26], [6], [0], [0], [18], [18], [0], [7], [4], [18], [5], [10], [4], [23], [6], [2], [26], [6], [4], [15], [15], [4], [22], [10], [10], [0], [0], [10], [0], [17], [15], [11], [5], [15], [5], [2], [6], [26], [13], [4], [9], [7], [12], [13], [7], [3], [9], [7], [4], [24], [25], [22], [15], [10], [18], [6], [0], [14], [2], [7], [5], [10], [15], [0], [3], [10], [26], [10], [14], [22], [20], [3], [4], [20], [22], [13], [18], [6], [9], [2], [10], [25], [17], [25], [4], [3], [20], [4], [1], [17], [24], [3], [4], [3], [0], [18], [18], [26], [0], [4], [3], [7], [15], [15], [0], [22], [15], [13], [1], [18], [4], [5], [2], [7], [7], [15], [6], [18], [3], [15], [4], [26], [0], [1], [18], [1], [8], [15], [4], [5], [7], [0], [9], [11], [22], [0], [0], [4], [10], [20], [13], [18], [0], [3], [2], [18], [5], [4], [1], [15], [18], [3], [4], [8], [7], [0], [3], [9], [3], [25], [7], [12], [10], [1], [6], [8], [20], [0], [15], [1], [0], [19], [22], [4], [20], [2], [17], [18], [20], [4], [1], [0], [15], [1], [7], [24], [7], [5], [18], [0], [11], [17], [9], [22], [4], [15], [3], [20], [2], [11], [13], [13], [0], [0], [2], [6], [9], [11], [4], [4], [4], [20], [14], [0], [4], [1], [1], [3], [4], [4], [9], [18], [15], [4], [0], [10], [13], [0], [2], [1], [8], [14], [17], [11], [17], [4], [1], [1], [22], [10], [15], [0], [0], [4], [12], [7], [9], [0], [0], [0], [26], [22], [7], [17], [0], [22], [26], [7], [4], [10], [13], [17], [7], [12], [0], [2], [5], [10], [25], [3], [1], [20], [20], [5], [8], [20], [11], [0], [3], [18], [2], [5], [2], [3], [15], [7], [1], [18], [10], [3], [18], [7], [1], [26], [9], [26], [4], [4], [15], [1], [1], [22], [15], [2], [2], [2], [7], [26], [3], [26], [13], [8], [8], [13], [25], [2], [7], [20], [7], [5], [10], [1], [13], [1], [0], [7], [15], [18], [0], [26], [0], [13], [15], [1], [0], [7], [1], [8], [7], [1], [20], [3], [9], [6], [7], [10], [7], [21], [18], [18], [4], [6], [26], [19], [14], [4], [1], [0], [5], [9], [12], [15], [4], [3], [0], [22], [1], [1], [15], [0], [7], [0], [18], [1], [22], [0], [1], [0], [7], [0], [17], [9], [4], [15], [18], [4], [6], [9], [3], [26], [18], [13], [0], [10], [11], [25], [0], [1], [15], [6], [25], [10], [26], [17], [10], [1], [4], [26], [6], [5], [18], [7], [22], [1], [10], [18], [5], [0], [0], [15], [20], [0], [4], [22], [13], [26], [1], [17], [17], [6], [17], [6], [15], [9], [7], [18], [26], [0], [17], [17], [1], [22], [15], [2], [10], [0], [18], [25], [17], [15], [1], [1], [15], [7], [7], [22], [10], [0], [3], [3], [2], [17], [18], [11], [7], [20], [24], [0], [4], [2], [5], [20], [25], [26], [15], [20], [13], [0], [1], [9], [11], [3], [10], [15], [7], [0], [7], [1], [25], [1], [8], [7], [15], [11], [14], [3], [0], [5], [17], [15], [1], [24], [0], [12], [18], [6], [7], [7], [24], [2], [22], [16], [18], [15], [0], [9], [14], [25], [10], [4], [17], [25], [25], [4], [7], [13], [0], [4], [1], [4], [3], [4], [6], [11], [1], [0], [9], [11], [5], [25], [3], [26], [8], [3], [26], [14], [9], [17], [3], [22], [26], [11], [8], [7], [15], [0], [0], [0], [15], [10], [17], [5], [17], [1], [25], [2], [2], [6], [12], [1], [3], [0], [13], [9], [25], [14], [4], [25], [0], [15], [18], [5], [10], [1], [14], [0], [12], [0], [17], [1], [7], [18], [11], [3], [7], [5], [14], [7], [10], [10], [20], [25], [0], [4], [0], [0], [7], [2], [6], [11], [19], [25], [1], [26], [0], [8], [16], [0], [3], [10], [6], [7], [15], [0], [3], [4], [3], [18], [25], [9], [3], [25], [4], [0], [3], [15], [10], [10], [1], [4], [17], [2], [0], [4], [0], [22], [4], [10], [0], [4], [20], [7], [0], [17], [23], [0], [1], [3], [9], [5], [15], [15], [0], [1], [7], [20], [18], [11], [25], [25], [15], [0], [18], [26], [10], [15], [24], [15], [18], [10], [10], [1], [1], [9], [17], [3], [5], [6], [1], [5], [6], [15], [20], [3], [7], [0], [1], [1], [20], [4], [18], [9], [22], [3], [10], [20], [1], [18], [0], [1], [18], [9], [15], [13], [5], [2], [13], [0], [10], [13], [12], [1], [4], [8], [18], [26], [2], [7], [0], [4], [15], [7], [3], [6], [0], [1], [15], [10], [9], [22], [18], [9], [25], [10], [9], [4], [18], [0], [1], [2], [0], [4], [24], [0], [26], [4], [25], [10], [15], [5], [0], [4], [25], [13], [0], [10], [3], [4], [3], [20], [26], [0], [11], [18], [10], [4], [25], [15], [4], [5], [2], [18], [11], [1], [4], [1], [0], [6], [12], [6], [26], [3], [14], [0], [0], [24], [4], [8], [0], [4], [9], [13], [4], [1], [17], [6], [15], [4], [4], [10], [6], [20], [20], [11], [0], [18], [10], [1], [18], [15], [3], [13], [0], [9], [15], [7], [23], [5], [26], [4], [15], [4], [1], [4], [5], [20], [0], [7], [25], [4], [0], [20], [11], [17], [17], [0], [20], [4], [0], [1], [25], [20], [17], [11], [18], [15], [5], [3], [25], [10], [7], [25], [3], [10], [4], [17], [25], [4], [22], [0], [4], [18], [18], [0], [14], [0], [2], [2], [7], [18], [18], [2], [3], [1], [18], [4], [20], [18], [15], [2], [0], [5], [24], [11], [20], [17], [2], [0], [7], [7], [0], [13], [25], [15], [0], [26], [7], [10], [12], [1], [3], [6], [0], [2], [0], [17], [15], [15], [10], [2], [10], [20], [11], [1], [8], [1], [7], [4], [1], [0], [18], [11], [7], [0], [0], [10], [0], [14], [7], [22], [22], [0], [17], [11], [1], [26], [1], [7], [9], [18], [0], [18], [12], [26], [0], [10], [10], [3], [3], [3], [17], [6], [19], [3], [15], [1], [6], [2], [3], [15], [14], [24], [0], [4], [17], [2], [0], [4], [10], [4], [0], [8], [3], [8], [11], [0], [15], [4], [15], [1], [15], [9], [3], [4], [4], [7], [3], [20], [15], [0], [24], [4], [17], [3], [22], [15], [18], [10], [6], [15], [3], [4], [6], [15], [0], [10], [0], [6], [1], [10], [22], [3], [20], [15], [0], [3], [3], [4], [4], [3], [2], [22], [15], [3], [0], [18], [0], [15], [11], [22], [15], [7], [21], [4], [4], [6], [15], [4], [18], [1], [7], [2], [0], [15], [2], [18], [15], [10], [6], [18], [3], [7], [13], [15], [7], [14], [25], [25], [9], [3], [13], [9], [6], [26], [3], [17], [6], [22], [25], [4], [10], [3], [3], [15], [7], [18], [26], [3], [1], [3], [4], [11], [3], [26], [5], [0], [6], [18], [10], [15], [17], [4], [2], [17], [0], [3], [0], [10], [10], [26], [6], [11], [5], [20], [3], [19], [17], [25], [7], [10], [13], [14], [11], [20], [0], [7], [18], [17], [0], [20], [17], [18], [0], [6], [1], [19], [4], [1], [1], [7], [3], [12], [4], [4], [18], [0], [2], [17], [9], [4], [10], [15], [9], [5], [22], [8], [2], [17], [1], [10], [26], [7], [10], [0], [7], [4], [22], [4], [0], [4], [20], [26], [24], [10], [10], [18], [20], [3], [5], [8], [11], [8], [17], [17], [6], [1], [12], [1], [9], [7], [9], [25], [25], [3], [15], [17], [7], [0], [4], [15], [5], [17], [12], [8], [15], [14], [7], [25], [0], [17], [4], [18], [3], [0], [1], [26], [15], [24], [4], [23], [0], [4], [1], [26], [6], [15], [4], [15], [0], [17], [22], [4], [15], [15], [7], [6], [4], [26], [22], [7], [10], [26], [4], [25], [15], [6], [15], [0], [4], [3], [24], [4], [17], [20], [0], [18], [2], [25], [3], [20], [4], [0], [18], [18], [9], [18], [18], [4], [7], [15], [7], [2], [0], [6], [7], [0], [1], [8], [18], [2], [9], [1], [15], [7], [4], [4], [7], [15], [4], [1], [7], [18], [12], [10], [4], [4], [26], [0], [18], [1], [25], [2], [11], [6], [2], [26], [9], [0], [9], [23], [9], [3], [26], [3], [22], [5], [24], [26], [0], [0], [10], [26], [10], [18], [18], [4], [1], [0], [4], [4], [25], [1], [4], [11], [4], [0], [5], [25], [10], [18], [22], [12], [7], [3], [17], [13], [2], [24], [18], [4], [10], [11], [10], [17], [10], [12], [24], [2], [7], [14], [3], [26], [26], [20], [2], [22], [25], [11], [7], [2], [26], [10], [8], [20], [4], [4], [1], [20], [15], [15], [17], [1], [25], [11], [3], [10], [7], [0], [11], [9], [7], [0], [20], [13], [0], [10], [1], [20], [20], [2], [17], [17], [11], [6], [2], [7], [1], [1], [18], [0], [18], [0], [3], [3], [15], [10], [0], [2], [10], [1], [8], [9], [7], [9], [17], [0], [22], [25], [15], [4], [0], [15], [9], [12], [18], [25], [10], [15], [20], [4], [10], [4], [2], [1], [0], [4], [10], [1], [4], [0], [18], [15], [4], [1], [5], [9], [6], [10], [0], [10], [5], [0], [18], [10], [25], [0], [10], [15], [24], [26], [7], [13], [9], [10], [3], [15], [3], [23], [7], [0], [22], [15], [26], [3], [18], [7], [18], [20], [11], [0], [0], [1], [10], [17], [9], [18], [18], [22], [25], [9], [3], [22], [25], [15], [9], [14], [26], [15], [24], [5], [2], [18], [1], [0], [1], [9], [15], [0], [4], [1], [4], [10], [10], [11], [6], [8], [0], [7], [4], [2], [7], [22], [4], [10], [6], [15], [17], [4], [20], [1], [8], [4], [9], [7], [4], [26], [15], [18], [1], [25], [10], [8], [1], [2], [9], [26], [22], [26], [7], [15], [26], [1], [15], [4], [3], [15], [1], [25], [0], [2], [26], [26], [0], [15], [13], [15], [7], [10], [0], [15], [25], [0], [17], [8], [25], [2], [5], [0], [7], [14], [7], [7], [13], [18], [15], [10], [10], [3], [20], [3], [7], [0], [6], [7], [26], [14], [10], [1], [0], [4], [0], [0], [7], [1], [6], [15], [2], [7], [7], [18], [16], [24], [0], [8], [0], [10], [25], [10], [17], [18], [11], [1], [0], [15], [18], [0], [25], [26], [4], [7], [2], [9], [4], [0], [17], [17], [10], [0], [15], [0], [24], [4], [19], [4], [18], [7], [18], [4], [1], [2], [15], [20], [15], [5], [18], [17], [0], [8], [15], [15], [0], [3], [18], [15], [1], [18], [18], [18], [0], [18], [18], [0], [15], [20], [0], [26], [3], [4], [20], [0], [6], [17], [3], [9], [24], [20], [19], [0], [15], [24], [3], [3], [15], [10], [7], [0], [15], [18], [15], [1], [3], [4], [7], [9], [7], [18], [17], [9], [2], [0], [18], [5], [15], [12], [4], [25], [1], [4], [10], [15], [6], [11], [18], [6], [0], [1], [14], [4], [1], [5], [24], [17], [12], [1], [0], [18], [6], [18], [4], [10], [2], [0], [2], [10], [10], [12], [1], [0], [10], [0], [4], [15], [0], [1], [18], [0], [15], [10], [0], [17], [0], [20], [7], [18], [6], [7], [17], [18], [9], [4], [11], [17], [15], [3], [2], [1], [5], [2], [3], [18], [0], [4], [8], [3], [17], [15], [18], [2], [2], [20], [1], [10], [3], [9], [1], [0], [7], [2], [4], [18], [1], [7], [0], [15], [18], [7], [26], [10], [24], [4], [9], [26], [1], [4], [20], [7], [4], [15], [7], [0], [20], [2], [7], [10], [14], [4], [0], [0], [18], [3], [10], [0], [2], [6], [9], [9], [0], [1], [4], [11], [3], [6], [15], [7], [0], [2], [3], [0], [15], [10], [0], [7], [1], [4], [1], [3], [0], [26], [0], [21], [26], [6], [7], [25], [10], [3], [0], [3], [17], [5], [3], [18], [9], [3], [0], [4], [24], [18], [10], [4], [4], [5], [4], [12], [1], [0], [4], [15], [7], [0], [15], [22], [14], [20], [20], [0], [20], [10], [7], [2], [15], [20], [3], [25], [3], [5], [0], [3], [4], [0], [25], [15], [3], [7], [7], [7], [0], [14], [18], [0], [3], [15], [22], [24], [4], [12], [18], [9], [7], [18], [25], [25], [0], [0], [4], [10], [0], [6], [9], [3], [0], [9], [15], [0], [15], [6], [5], [5], [15], [5], [20], [4], [8], [1], [2], [1], [22], [13], [4], [5], [10], [0], [2], [1], [0], [13], [17], [9], [4], [0], [3], [25], [8], [25], [5], [4], [1], [15], [8], [8], [24], [20], [4], [26], [9], [7], [22], [23], [4], [1], [4], [18], [1], [3], [17], [0], [13], [20], [0], [4], [4], [0], [14], [0], [7], [15], [4], [18], [18], [1], [12], [20], [3], [1], [20], [3], [0], [6], [0], [5], [15], [7], [18], [18], [3], [18], [17], [4], [7], [13], [0], [18], [10], [0], [1], [3], [2], [5], [1], [14], [0], [4], [4], [0], [3], [6], [1], [4], [3], [9], [5], [7], [13], [10], [17], [15], [9], [14], [22], [15], [0], [17], [1], [9], [0], [3], [15], [1], [3], [10], [26], [1], [20], [4], [18], [24], [0], [10], [18], [25], [18], [17], [15], [0], [15], [6], [0], [1], [13], [11], [13], [9], [20], [0], [0], [15], [9], [20], [4], [18], [25], [15], [18], [18], [13], [0], [0], [0], [15], [0], [18], [22], [10], [2], [15], [6], [15], [1], [4], [4], [19], [0], [4], [15], [5], [1], [1], [4], [2], [10], [22], [20], [4], [1], [25], [18], [0], [25], [7], [25], [3], [10], [10], [0], [13], [15], [22], [25], [4], [26], [26], [6], [3], [2], [25], [2], [22], [26], [1], [0], [3], [2], [0], [0], [11], [5], [1], [0], [18], [20], [6], [15], [1], [1], [20], [3], [5], [0], [26], [26], [14], [3], [10], [18], [15], [4], [2], [11], [1], [6], [26], [22], [15], [15], [9], [3], [7], [4], [15], [4], [0], [3], [18], [6], [4], [0], [0], [15], [4], [4], [2], [0], [16], [7], [23], [4], [11], [4], [7], [5], [0], [1], [0], [13], [3], [1], [5], [18], [3], [7], [9], [4], [20], [7], [24], [2], [18], [9], [26], [3], [17], [0], [4], [6], [20], [26], [11], [15], [7], [6], [18], [26], [10], [4], [18], [15], [1], [1], [4], [0], [3], [18], [4], [0], [25], [0], [24], [13], [5], [9], [17], [6], [4], [6], [18], [26], [26], [4], [0], [0], [7], [0], [25], [15], [26], [0], [3], [22], [20], [8], [14], [18], [1], [6], [10], [4], [0], [15], [0], [15], [6], [15], [24], [3], [22], [3], [7], [4], [25], [17], [1], [5], [15], [1], [7], [10], [4], [18], [17], [1], [3], [10], [17], [0], [3], [18], [2], [17], [8], [3], [4], [18], [3], [2], [5], [4], [4], [15], [1], [4], [0], [10], [11], [1], [17], [8], [15], [10], [18], [20], [1], [4], [10], [4], [14], [4], [5], [7], [4], [0], [17], [4], [5], [4], [0], [13], [17], [13], [0], [20], [1], [4], [22], [0], [0], [3], [20], [0], [7], [18], [13], [10], [1], [2], [14], [0], [4], [25], [15], [15], [18], [17], [9], [12], [4], [3], [4], [10], [0], [25], [18], [22], [9], [15], [6], [4], [0], [0], [4], [6], [5], [0], [15], [10], [1], [15], [15], [8], [8], [2], [1], [26], [4], [18], [1], [0], [4], [6], [0], [4], [10], [10], [7], [26], [7], [2], [0], [5], [15], [18], [1], [5], [25], [2], [19], [18], [10], [15], [15], [3], [15], [24], [6], [15], [1], [20], [2], [24], [0], [18], [26], [0], [24], [7], [6], [26], [11], [7], [7], [0], [13], [17], [18], [22], [3], [7], [15], [25], [11], [5], [13], [3], [7], [17], [15], [4], [7], [9], [17], [11], [10], [0], [13], [3], [22], [7], [15], [22], [15], [15], [17], [20], [10], [1], [3], [2], [15], [1], [18], [15], [9], [23], [18], [23], [25], [4], [25], [6], [5], [15], [7], [0], [15], [3], [10], [4], [15], [17], [10], [20], [25], [4], [15], [3], [20], [17], [18], [25], [6], [6], [13], [0], [4], [4], [15], [2], [25], [2], [0], [2], [18], [0], [4], [18], [6], [26], [15], [3], [26], [25], [10], [15], [0], [15], [10], [10], [18], [26], [0], [18], [3], [1], [24], [13], [4], [17], [3], [6], [13], [0], [0], [25], [21], [14], [7], [23], [13], [17], [19], [1], [15], [18], [1], [9], [1], [4], [1], [26], [0], [2], [17], [11], [7], [25], [6], [22], [15], [25], [17], [6], [22], [20], [5], [6], [15], [2], [24], [13], [15], [25], [8], [6], [26], [7], [14], [0], [3], [13], [4], [15], [1], [10], [10], [18], [7], [6], [1], [1], [13], [3], [7], [4], [0], [14], [7], [0], [7], [0], [20], [7], [3], [2], [3], [6], [2], [11], [0], [4], [7], [4], [24], [20], [19], [3], [1], [15], [5], [18], [18], [17], [4], [6], [10], [2], [2], [5], [3], [1], [3], [7], [7], [12], [4], [4], [8], [3], [1], [0], [1], [26], [7], [20], [0], [1], [10], [0], [3], [7], [17], [18], [3], [8], [7], [26], [17], [2], [0], [6], [15], [0], [4], [10], [7], [1], [9], [6], [15], [10], [17], [0], [18], [20], [0], [3], [7], [18], [2], [17], [20], [0], [0], [7], [18], [12], [4], [22], [18], [25], [14], [3], [3], [18], [7], [4], [17], [15], [4], [0], [20], [3], [1], [6], [3], [18], [26], [18], [3], [19], [11], [13], [12], [11], [10], [17], [12], [1], [11], [1], [18], [17], [20], [7], [1], [7], [10], [7], [22], [7], [7], [10], [15], [26], [3], [4], [0], [7], [1], [6], [24], [0], [18], [0], [0], [3], [1], [4], [18], [22], [11], [7], [15], [18], [15], [15], [8], [1], [17], [4], [3], [2], [2], [17], [4], [5], [10], [2], [2], [4], [6], [5], [4], [1], [15], [4], [2], [10], [0], [18], [3], [8], [3], [18], [11], [18], [24], [15], [4], [19], [0], [15], [22], [17], [18], [17], [15], [0], [5], [13], [15], [10], [15], [3], [26], [0], [11], [0], [14], [11], [0], [0], [8], [9], [4], [14], [13], [3], [15], [11], [0], [15], [0], [4], [21], [4], [15], [3], [4], [4], [17], [18], [18], [14], [15], [0], [4], [1], [11], [17], [13], [15], [8], [4], [13], [11], [5], [5], [18], [20], [7], [5], [19], [1], [3], [4], [15], [0], [3], [20], [7], [10], [4], [7], [13], [25], [7], [0], [1], [1], [26], [5], [18], [15], [25], [2], [0], [20], [0], [1], [10], [6], [24], [25], [26], [5], [20], [0], [1], [0], [5], [17], [0], [1], [6], [4], [24], [21], [22], [10], [10], [7], [25], [18], [20], [25], [0], [2], [18], [0], [1], [0], [5], [1], [24], [0], [13], [10], [1], [5], [11], [26], [4], [18], [13], [3], [4], [3], [3], [4], [26], [1], [1], [22], [2], [1], [0], [10], [9], [1], [1], [15], [12], [22], [15], [10], [0], [22], [1], [0], [15], [4], [17], [7], [0], [11], [4], [7], [2], [18], [17], [10], [1], [9], [15], [20], [15], [8], [0], [18], [3], [25], [3], [17], [2], [17], [1], [25], [3], [3], [20], [11], [13], [4], [8], [13], [7], [15], [18], [15], [14], [4], [4], [0], [15], [5], [0], [26], [7], [1], [13], [18], [15], [20], [11], [7], [21], [1], [15], [17], [0], [10], [13], [12], [4], [20], [26], [0], [20], [1], [22], [15], [18], [20], [1], [2], [13], [9], [4], [20], [11], [26], [3], [6], [25], [2], [10], [0], [0], [1], [18], [22], [0], [0], [18], [13], [4], [10], [9], [9], [17], [0], [4], [20], [7], [3], [10], [22], [10], [8], [0], [20], [15], [3], [3], [15], [7], [0], [1], [7], [6], [10], [0], [15], [15], [10], [18], [1], [10], [1], [19], [6], [26], [10], [25], [1], [4], [7], [0], [11], [4], [10], [6], [6], [2], [4], [8], [9], [20], [4], [25], [0], [1], [20], [15], [19], [6], [18], [7], [0], [7], [14], [20], [4], [2], [9], [1], [18], [0], [2], [22], [26], [18], [15], [21], [2], [4], [11], [6], [17], [0], [4], [1], [18], [4], [6], [7], [0], [6], [4], [2], [15], [3], [1], [7], [21], [17], [17], [6], [1], [1], [20], [0], [10], [0], [17], [20], [1], [20], [18], [24], [0], [0], [7], [0], [13], [20], [8], [10], [24], [22], [18], [14], [4], [17], [2], [15], [0], [9], [2], [10], [0], [4], [18], [4], [0], [0], [9], [2], [1], [20], [2], [22], [2], [3], [4], [25], [4], [20], [20], [2], [3], [4], [22], [2], [15], [3], [14], [2], [2], [0], [3], [4], [26], [26], [23], [4], [24], [4], [5], [4], [1], [0], [3], [7], [3], [4], [18], [0], [15], [18], [10], [15], [2], [15], [4], [9], [0], [0], [13], [17], [1], [22], [7], [3], [1], [18], [20], [20], [0], [15], [22], [10], [2], [13], [12], [3], [11], [15], [6], [4], [1], [0], [0], [15], [10], [11], [7], [13], [15], [4], [7], [10], [15], [2], [26], [26], [15], [4], [8], [3], [17], [8], [20], [17], [6], [6], [9], [23], [18], [2], [0], [9], [0], [7], [4], [25], [13], [17], [0], [20], [20], [17], [0], [17], [25], [25], [10], [7], [11], [3], [20], [0], [3], [13], [3], [7], [15], [0], [10], [18], [18], [0], [20], [9], [3], [5], [8], [5], [26], [10], [0], [0], [17], [6], [4], [0], [4], [4], [24], [7], [5], [1], [17], [1], [0], [2], [1], [15], [6], [26], [4], [0], [0], [25], [0], [0], [17], [13], [4], [7], [17], [3], [17], [0], [5], [3], [0], [3], [9], [6], [24], [10], [1], [0], [10], [0], [10], [15], [5], [6], [18], [11], [9], [1], [5], [11], [1], [7], [18], [7], [1], [1], [3], [10], [10], [15], [9], [3], [15], [0], [1], [7], [15], [5], [15], [9], [6], [2], [2], [14], [15], [17], [24], [4], [2], [0], [0], [4], [3], [15], [14], [4], [1], [4], [2], [1], [7], [1], [18], [4], [10], [5], [0], [2], [9], [0], [24], [6], [3], [15], [4], [25], [3], [9], [13], [8], [13], [26], [18], [11], [0], [1], [20], [7], [9], [2], [9], [2], [1], [0], [14], [26], [11], [4], [18], [6], [2], [25], [6], [21], [1], [18], [7], [1], [17], [14], [22], [4], [15], [3], [1], [6], [20], [25], [26], [0], [0], [20], [6], [7], [0], [6], [6], [15], [8], [10], [0], [3], [3], [15], [0], [24], [0], [7], [2], [0], [10], [0], [25], [24], [17], [0], [22], [0], [26], [0], [7], [15], [25], [4], [0], [0], [1], [20], [10], [15], [4], [22], [0], [10], [17], [18], [20], [0], [4], [6], [22], [24], [4], [7], [15], [26], [18], [15], [1], [4], [26], [10], [7], [0], [25], [17], [9], [18], [13], [4], [4], [10], [14], [17], [1], [0], [18], [2], [4], [17], [15], [13], [0], [6], [18], [14], [26], [4], [15], [25], [25], [1], [0], [10], [18], [0], [1], [3], [4], [4], [5], [10], [15], [20], [0], [20], [6], [4], [20], [10], [9], [2], [3], [3], [25], [20], [10], [7], [0], [18], [6], [6], [17], [1], [18], [1], [0], [2], [10], [1], [24], [6], [15], [10], [22], [0], [10], [25], [4], [9], [10], [15], [7], [5], [4], [3], [17], [2], [6], [18], [4], [18], [15], [5], [20], [20], [5], [3], [1], [13], [2], [4], [1], [5], [5], [4], [2], [7], [18], [1], [18], [10], [4], [6], [5], [6], [10], [3], [5], [9], [8], [15], [11], [2], [7], [0], [18], [10], [18], [7], [4], [2], [15], [15], [4], [0], [1], [5], [15], [0], [20], [25], [17], [2], [20], [7], [4], [8], [15], [8], [18], [18], [4], [4], [3], [26], [2], [18], [1], [26], [26], [15], [12], [20], [11], [3], [5], [4], [15], [18], [3], [17], [7], [25], [13], [8], [17], [6], [15], [15], [14], [4], [4], [22], [0], [22], [0], [0], [9], [4], [14], [17], [6], [0], [15], [10], [22], [3], [1], [9], [11], [10], [5], [18], [15], [5], [7], [9], [14], [6], [4], [22], [18], [0], [3], [24], [0], [11], [25], [9], [18], [10], [24], [6], [23], [9], [14], [0], [8], [4], [13], [15], [18], [15], [0], [1], [3], [25], [15], [0], [7], [15], [5], [11], [0], [2], [9], [10], [17], [1], [15], [15], [20], [22], [7], [0], [6], [1], [18], [5], [6], [10], [2], [9], [1], [18], [10], [20], [19], [9], [15], [17], [15], [4], [11], [6], [5], [8], [2], [14], [9], [9], [25], [7], [4], [0], [25], [6], [4], [23], [5], [1], [4], [10], [2], [25], [15], [18], [15], [12], [5], [25], [15], [1], [5], [14], [10], [5], [20], [10], [25], [15], [6], [2], [5], [20], [13], [13], [14], [0], [17], [13], [10], [15], [4], [3], [15], [20], [0], [2], [0], [26], [17], [7], [15], [2], [3], [10], [17], [18], [10], [0], [10], [0], [10], [1], [2], [18], [0], [4], [15], [6], [1], [0], [9], [13], [0], [0], [4], [15], [0], [10], [9], [12], [22], [6], [3], [4], [2], [4], [10], [4], [10], [20], [1], [5], [0], [25], [4], [26], [15], [0], [0], [9], [26], [7], [1], [14], [13], [20], [1], [20], [0], [0], [1], [1], [6], [0], [1], [10], [1], [13], [10], [6], [18], [10], [15], [15], [0], [14], [7], [17], [0], [1], [1], [5], [18], [10], [1], [4], [3], [25], [18], [6], [18], [1], [0], [8], [0], [1], [6], [15], [7], [1], [3], [15], [15], [5], [15], [14], [4], [7], [20], [18], [18], [15], [5], [1], [20], [15], [1], [3], [4], [1], [2], [24], [1], [1], [20], [18], [22], [17], [15], [24], [15], [0], [3], [4], [26], [25], [18], [7], [20], [1], [2], [5], [0], [20], [6], [7], [10], [10], [15], [7], [15], [20], [3], [18], [9], [7], [0], [10], [4], [26], [1], [15], [3], [4], [1], [26], [5], [3], [0], [4], [0], [0], [4], [3], [4], [2], [0], [0], [3], [10], [26], [18], [13], [4], [9], [22], [2], [18], [3], [15], [18], [11], [0], [15], [9], [7], [24], [12], [1], [15], [18], [25], [12], [18], [6], [15], [14], [10], [22], [11], [4], [2], [10], [5], [13], [10], [4], [2], [26], [15], [13], [4], [15], [4], [15], [13], [20], [26], [4], [0], [15], [0], [17], [8], [0], [1], [25], [15], [20], [5], [18], [4], [2], [15], [26], [17], [1], [0], [17], [9], [4], [14], [1], [7], [5], [0], [3], [3], [25], [18], [5], [25], [10], [7], [15], [18], [9], [25], [20], [1], [15], [18], [0], [7], [4], [18], [0], [3], [10], [26], [20], [3], [1], [10], [0], [3], [3], [22], [3], [2], [2], [11], [1], [4], [15], [6], [24], [4], [4], [4], [1], [10], [2], [22], [25], [0], [1], [1], [15], [22], [22], [13], [15], [7], [7], [1], [15], [0], [0], [0], [15], [4], [25], [18], [25], [21], [0], [4], [17], [0], [17], [0], [2], [25], [17], [15], [6], [8], [19], [15], [17], [0], [7], [4], [15], [14], [6], [25], [4], [15], [20], [1], [0], [7], [15], [4], [4], [6], [24], [0], [20], [13], [7], [7], [15], [22], [4], [17], [4], [4], [20], [10], [4], [11], [1], [0], [1], [10], [2], [8], [0], [0], [1], [7], [0], [18], [3], [10], [20], [2], [15], [11], [6], [0], [20], [5], [0], [3], [13], [11], [18], [0], [25], [2], [17], [7], [14], [9], [17], [0], [25], [0], [7], [7], [0], [7], [5], [2], [9], [25], [17], [14], [5], [7], [20], [15], [0], [0], [17], [0], [24], [25], [0], [15], [15], [2], [0], [24], [6], [18], [25], [0], [0], [7], [22], [4], [4], [0], [4], [25], [4], [25], [1], [24], [11], [26], [17], [15], [26], [3], [9], [18], [6], [9], [17], [0], [3], [26], [8], [6], [2], [0], [0], [1], [17], [2], [0], [20], [14], [24], [0], [15], [7], [17], [5], [15], [9], [6], [7], [6], [4], [0], [4], [9], [3], [2], [2], [18], [19], [5], [20], [20], [18], [11], [0], [2], [2], [13], [6], [17], [4], [17], [23], [3], [1], [6], [9], [5], [15], [1], [5], [7], [25], [20], [10], [9], [0], [5], [4], [1], [4], [3], [18], [1], [9], [10], [3], [4], [11], [10], [4], [22], [4], [7], [11], [4], [5], [0], [7], [0], [15], [10], [4], [18], [9], [18], [11], [4], [3], [15], [7], [14], [6], [7], [18], [1], [13], [4], [0], [0], [18], [6], [25], [18], [0], [18], [3], [15], [1], [1], [22], [0], [25], [1], [18], [2], [7], [9], [4], [8], [2], [10], [17], [10], [15], [15], [0], [5], [5], [23], [0], [15], [17], [3], [9], [4], [20], [0], [3], [4], [3], [8], [4], [20], [4], [0], [14], [1], [9], [15], [2], [0], [1], [26], [7], [18], [0], [17], [0], [0], [5], [2], [26], [11], [26], [7], [17], [3], [8], [9], [15], [5], [7], [4], [0], [17], [3], [7], [10], [2], [14], [15], [15], [6], [1], [0], [9], [8], [18], [24], [8], [1], [0], [14], [18], [2], [15], [10], [25], [15], [10], [10], [7], [0], [17], [0], [14], [12], [2], [0], [0], [6], [15], [18], [7], [23], [10], [1], [7], [15], [1], [16], [0], [14], [18], [4], [10], [18], [18], [15], [26], [6], [18], [11], [25], [15], [3], [13], [1], [15], [0], [9], [3], [26], [1], [13], [17], [9], [3], [0], [11], [6], [15], [24], [13], [20], [18], [18], [6], [0], [15], [22], [24], [25], [1], [9], [4], [2], [15], [0], [18], [2], [13], [6], [10], [1], [0], [4], [3], [13], [22], [26], [5], [15], [20], [6], [3], [15], [1], [0], [1], [17], [22], [7], [2], [15], [3], [8], [10], [10], [3], [0], [0], [2], [0], [8], [2], [12], [9], [15], [18], [11], [11], [10], [17], [1], [1], [15], [15], [10], [18], [15], [4], [0], [15], [1], [1], [7], [9], [0], [10], [26], [10], [1], [18], [18], [14], [14], [4], [0], [10], [4], [4], [15], [13], [7], [11], [1], [5], [7], [10], [19], [11], [17], [20], [10], [10], [7], [26], [0], [0], [4], [6], [7], [2], [4], [4], [15], [7], [2], [8], [3], [3], [4], [26], [2], [6], [20], [0], [4], [17], [3], [4], [7], [15], [3], [6], [6], [0], [7], [4], [17], [0], [7], [4], [14], [18], [3], [4], [3], [13], [8], [15], [10], [15], [1], [18], [4], [15], [1], [7], [1], [10], [1], [15], [14], [13], [15], [5], [8], [3], [6], [2], [4], [13], [6], [25], [1], [20], [20], [6], [22], [26], [10], [0], [18], [18], [5], [20], [8], [18], [7], [2], [4], [12], [1], [1], [25], [10], [0], [0], [13], [10], [2], [1], [4], [0], [4], [5], [15], [1], [0], [2], [2], [5], [15], [2], [4], [10], [3], [10], [5], [0], [15], [0], [2], [3], [0], [6], [3], [13], [15], [21], [5], [4], [2], [2], [10], [4], [2], [20], [2], [25], [9], [14], [24], [1], [26], [17], [0], [6], [4], [14], [1], [15], [15], [9], [13], [12], [17], [9], [9], [0], [13], [4], [18], [15], [5], [20], [11], [26], [6], [10], [0], [25], [6], [23], [2], [18], [4], [0], [0], [5], [7], [2], [4], [0], [7], [0], [2], [6], [4], [18], [25], [1], [4], [15], [24], [4], [20], [1], [4], [15], [15], [10], [18], [5], [11], [11], [25], [24], [6], [26], [10], [11], [18], [15], [18], [18], [2], [0], [0], [4], [0], [18], [20], [1], [9], [19], [0], [15], [7], [18], [20], [20], [11], [7], [12], [17], [4], [15], [3], [3], [4], [18], [17], [20], [10], [15], [7], [11], [0], [3], [4], [20], [10], [6], [18], [5], [15], [24], [0], [24], [20], [7], [12], [8], [15], [3], [18], [2], [8], [25], [10], [0], [15], [0], [9], [7], [2], [1], [2], [0], [1], [7], [1], [13], [3], [10], [0], [8], [0], [15], [15], [5], [0], [11], [4], [1], [14], [6], [2], [10], [5], [22], [26], [4], [18], [10], [0], [15], [0], [18], [18], [0], [18], [26], [0], [1], [4], [3], [2], [9], [10], [0], [10], [10], [6], [1], [10], [1], [18], [1], [11], [4], [7], [25], [7], [24], [3], [3], [4], [2], [1], [19], [14], [18], [15], [0], [7], [2], [7], [3], [20], [7], [7], [4], [4], [1], [17], [0], [20], [0], [0], [1], [0], [0], [7], [26], [0], [15], [6], [0], [10], [7], [17], [18], [25], [4], [10], [7], [5], [18], [22], [7], [17], [0], [15], [0], [15], [11], [18], [4], [14], [15], [20], [23], [3], [4], [2], [10], [1], [25], [1], [10], [4], [9], [0], [3], [11], [20], [10], [15], [15], [9], [3], [7], [7], [7], [10], [3], [10], [3], [18], [10], [22], [10], [18], [0], [14], [4], [18], [18], [10], [20], [5], [6], [26], [15], [10], [1], [2], [9], [9], [9], [0], [15], [2], [0], [9], [18], [7], [15], [25], [0], [25], [6], [1], [20], [0], [18], [22], [10], [1], [15], [9], [15], [15], [10], [18], [20], [6], [10], [6], [25], [7], [15], [10], [4], [26], [3], [22], [24], [13], [3], [1], [0], [2], [6], [0], [25], [10], [15], [15], [4], [20], [6], [6], [7], [3], [2], [15], [21], [5], [18], [5], [18], [24], [25], [10], [9], [9], [1], [20], [15], [26], [18], [0], [10], [0], [10], [6], [12], [20], [7], [22], [1], [15], [0], [5], [5], [8], [26], [0], [0], [6], [26], [5], [17], [2], [10], [20], [15], [5], [17], [1], [4], [9], [3], [22], [4], [4], [1], [7], [26], [17], [26], [20], [20], [1], [1], [18], [2], [7], [0], [3], [3], [26], [15], [18], [2], [1], [0], [7], [6], [20], [3], [11], [18], [10], [3], [18], [13], [8], [18], [18], [18], [14], [18], [15], [22], [14], [2], [0], [12], [10], [1], [13], [7], [0], [14], [25], [0], [6], [9], [4], [25], [15], [1], [18], [13], [18], [6], [0], [15], [11], [11], [8], [14], [15], [17], [15], [0], [3], [3], [0], [3], [25], [7], [0], [0], [26], [17], [2], [0], [12], [4], [18], [0], [7], [0], [0], [0], [9], [14], [3], [18], [0], [0], [0], [10], [5], [7], [13], [7], [0], [4], [7], [5], [10], [16], [1], [1], [3], [7], [4], [1], [8], [14], [9], [13], [3], [9], [3], [20], [17], [15], [15], [3], [4], [4], [1], [2], [4], [9], [10], [0], [0], [14], [0], [1], [25], [0], [22], [18], [25], [6], [6], [15], [4], [15], [0], [15], [26], [7], [1], [0], [0], [4], [26], [8], [0], [4], [7], [17], [1], [3], [0], [0], [9], [0], [1], [4], [22], [0], [2], [22], [6], [20], [13], [9], [10], [7], [5], [3], [7], [7], [22], [18], [7], [4], [22], [0], [15], [1], [18], [0], [4], [0], [7], [1], [7], [4], [17], [26], [0], [4], [7], [4], [3], [13], [14], [22], [7], [2], [4], [11], [11], [9], [9], [1], [18], [10], [1], [0], [4], [17], [18], [20], [6], [7], [0], [9], [4], [11], [9], [11], [1], [17], [10], [1], [24], [4], [18], [22], [3], [0], [17], [7], [24], [5], [4], [25], [17], [1], [1], [15], [11], [14], [4], [5], [3], [3], [4], [18], [17], [0], [1], [7], [0], [0], [25], [0], [3], [2], [4], [9], [22], [20], [17], [17], [13], [17], [17], [0], [3], [15], [4], [0], [10], [13], [7], [15], [13], [18], [8], [2], [0], [24], [0], [4], [3], [7], [4], [10], [15], [0], [7], [13], [9], [1], [0], [15], [18], [26], [15], [11], [3], [0], [4], [18], [4], [10], [15], [1], [0], [20], [15], [4], [20], [4], [18], [4], [3], [7], [4], [14], [2], [4], [15], [1], [18], [0], [5], [17], [13], [0], [18], [18], [1], [18], [2], [4], [15], [3], [3], [24], [18], [0], [2], [15], [26], [1], [6], [6], [7], [0], [0], [4], [22], [0], [10], [4], [5], [3], [18], [1], [1], [7], [0], [25], [2], [4], [6], [4], [4], [7], [1], [20], [4], [5], [0], [0], [9], [4], [1], [17], [24], [3], [0], [6], [5], [2], [0], [1], [17], [14], [15], [9], [1], [15], [7], [6], [0], [20], [0], [1], [4], [1], [23], [26], [10], [19], [17], [6], [15], [3], [13], [4], [10], [1], [14], [25], [4], [22], [17], [5], [0], [15], [13], [0], [15], [1], [0], [4], [6], [0], [5], [6], [25], [18], [24], [3], [4], [7], [8], [3], [14], [15], [2], [22], [4], [15], [2], [0], [0], [3], [18], [9], [15], [4], [15], [5], [0], [25], [15], [2], [6], [3], [25], [0], [15], [11], [10], [0], [1], [18], [24], [10], [18], [15], [6], [15], [24], [20], [13], [23], [13], [3], [18], [18], [12], [7], [14], [18], [4], [0], [24], [10], [15], [1], [3], [0], [5], [7], [0], [26], [26], [17], [0], [3], [1], [2], [3], [14], [7], [3], [15], [0], [7], [7], [6], [17], [3], [9], [3], [20], [13], [1], [4], [5], [26], [10], [0], [6], [25], [4], [2], [4], [17], [26], [6], [10], [18], [5], [20], [0], [0], [18], [24], [24], [1], [10], [15], [1], [7], [18], [11], [13], [15], [3], [18], [24], [15], [5], [20], [7], [22], [3], [5], [15], [7], [25], [4], [15], [26], [5], [3], [3], [2], [15], [11], [7], [26], [0], [25], [20], [6], [23], [3], [7], [6], [18], [18], [0], [24], [23], [18], [17], [8], [15], [3], [4], [0], [0], [1], [1], [5], [15], [14], [24], [24], [0], [2], [2], [10], [26], [15], [1], [14], [25], [15], [0], [9], [17], [25], [6], [1], [20], [2], [10], [1], [20], [18], [10], [10], [17], [18], [1], [11], [20], [7], [0], [7], [20], [0], [22], [2], [3], [9], [1], [0], [6], [5], [15], [4], [13], [1], [4], [4], [19], [7], [18], [0], [1], [2], [4], [17], [2], [25], [0], [4], [10], [17], [0], [22], [9], [26], [8], [2], [0], [11], [0], [1], [4], [25], [10], [15], [0], [8], [9], [0], [4], [20], [7], [9], [26], [10], [13], [3], [4], [10], [15], [25], [1], [7], [3], [20], [3], [1], [4], [4], [15], [18], [17], [17], [12], [18], [10], [15], [0], [0], [20], [7], [1], [10], [1], [0], [2], [15], [5], [3], [1], [1], [24], [5], [0], [1], [14], [15], [4], [7], [1], [10], [18], [18], [7], [7], [0], [8], [25], [26], [7], [14], [17], [26], [26], [26], [7], [15], [15], [1], [25], [26], [25], [1], [2], [26], [8], [3], [7], [4], [4], [6], [14], [20], [18], [6], [14], [20], [7], [25], [8], [25], [0], [2], [8], [4], [0], [4], [0], [15], [15], [13], [17], [13], [6], [7], [4], [18], [15], [7], [7], [9], [13], [22], [20], [7], [0], [20], [3], [26], [1], [2], [25], [3], [20], [9], [2], [4], [18], [15], [7], [7], [13], [16], [11], [15], [4], [16], [24], [18], [4], [2], [4], [0], [20], [24], [24], [1], [17], [25], [3], [26], [0], [26], [1], [5], [15], [0], [0], [1], [1], [1], [15], [7], [10], [18], [20], [22], [0], [15], [18], [0], [8], [17], [0], [18], [0], [2], [2], [25], [0], [15], [4], [11], [3], [19], [9], [0], [25], [20], [15], [1], [11], [10], [1], [1], [26], [6], [1], [22], [5], [15], [12], [24], [10], [10], [25], [8], [11], [10], [0], [1], [0], [3], [5], [11], [23], [2], [1], [15], [17], [25], [11], [3], [15], [11], [17], [1], [0], [7], [13], [15], [17], [2], [20], [9], [3], [0], [0], [1], [9], [1], [1], [15], [18], [6], [25], [0], [6], [8], [15], [0], [17], [14], [9], [4], [1], [4], [3], [13], [10], [0], [0], [25], [4], [2], [4], [17], [10], [18], [15], [18], [2], [1], [10], [18], [1], [17], [9], [1], [10], [22], [10], [13], [26], [1], [17], [1], [4], [2], [10], [0], [4], [20], [22], [22], [0], [4], [2], [15], [3], [0], [2], [14], [14], [1], [17], [1], [0], [8], [25], [18], [0], [0], [13], [10], [25], [4], [0], [15], [18], [7], [15], [2], [14], [0], [15], [10], [18], [1], [0], [13], [3], [17], [7], [22], [2], [6], [6], [1], [11], [18], [7], [18], [18], [18], [15], [10], [0], [21], [1], [17], [22], [7], [7], [7], [0], [6], [14], [18], [25], [26], [1], [4], [6], [11], [8], [25], [0], [26], [2], [0], [26], [25], [3], [10], [20], [20], [22], [20], [24], [14], [13], [5], [8], [18], [18], [20], [20], [18], [22], [1], [0], [18], [13], [4], [25], [15], [15], [20], [11], [3], [7], [6], [10], [20], [22], [2], [0], [1], [4], [7], [4], [15], [4], [20], [1], [7], [0], [15], [7], [26], [9], [1], [22], [5], [15], [7], [9], [3], [0], [0], [10], [3], [13], [7], [14], [4], [7], [26], [18], [6], [6], [15], [1], [11], [0], [9], [18], [21], [15], [2], [9], [4], [10], [9], [15], [22], [20], [3], [0], [24], [0], [4], [18], [18], [6], [0], [10], [15], [3], [0], [9], [0], [11], [10], [22], [6], [17], [0], [2], [1], [15], [0], [3], [18], [12], [4], [10], [8], [5], [26], [20], [10], [7], [15], [10], [20], [1], [7], [18], [3], [4], [1], [25], [0], [15], [17], [1], [12], [10], [25], [2], [0], [10], [7], [1], [7], [18], [15], [9], [1], [4], [8], [7], [3], [14], [0], [15], [6], [25], [18], [6], [10], [26], [25], [11], [10], [17], [26], [4], [18], [10], [4], [9], [17], [26], [2], [6], [15], [4], [26], [3], [1], [0], [4], [7], [10], [0], [1], [9], [0], [0], [13], [25], [4], [4], [24], [7], [20], [0], [18], [3], [1], [0], [20], [4], [5], [10], [24], [8], [10], [26], [25], [2], [6], [14], [0], [15], [9], [6], [3], [3], [3], [3], [3], [25], [2], [17], [15], [10], [25], [2], [18], [18], [18], [8], [24], [15], [11], [15], [8], [17], [17], [2], [20], [15], [25], [26], [4], [0], [16], [3], [4], [5], [0], [4], [22], [12], [5], [3], [20], [7], [2], [3], [1], [1], [10], [20], [6], [2], [1], [9], [5], [18], [4], [10], [24], [14], [15], [1], [9], [17], [11], [10], [4], [25], [20], [26], [24], [5], [15], [10], [1], [25], [15], [8], [4], [9], [26], [0], [18], [1], [14], [5], [17], [26], [4], [16], [10], [10], [15], [2], [2], [10], [18], [19], [10], [24], [18], [14], [26], [18], [1], [23], [11], [22], [17], [1], [7], [3], [5], [18], [0], [3], [1], [0], [20], [26], [0], [20], [14], [5], [5], [5], [10], [6], [26], [7], [7], [15], [8], [0], [10], [0], [1], [0], [3], [11], [15], [1], [17], [1], [20], [15], [7], [11], [4], [0], [12], [4], [3], [0], [10], [0], [17], [20], [19], [20], [9], [18], [4], [5], [5], [0], [15], [1], [9], [2], [0], [21], [17], [25], [4], [26], [15], [0], [6], [12], [5], [3], [0], [18], [0], [7], [22], [3], [6], [0], [10], [3], [15], [3], [25], [6], [25], [18], [24], [7], [20], [18], [5], [5], [4], [6], [17], [10], [7], [9], [18], [17], [4], [26], [9], [4], [10], [5], [4], [2], [8], [0], [17], [5], [17], [10], [3], [10], [6], [10], [7], [7], [3], [1], [15], [17], [3], [13], [1], [26], [26], [15], [5], [0], [16], [1], [0], [24], [8], [5], [9], [25], [18], [15], [3], [15], [4], [15], [1], [4], [9], [1], [1], [0], [7], [0], [0], [8], [18], [20], [26], [4], [7], [10], [12], [15], [15], [25], [25], [25], [0], [4], [12], [0], [0], [25], [6], [1], [15], [3], [22], [3], [1], [10], [3], [10], [11], [2], [0], [14], [10], [10], [17], [5], [7], [10], [0], [15], [25], [1], [8], [4], [15], [26], [5], [0], [17], [18], [15], [20], [10], [20], [25], [1], [18], [0], [0], [1], [6], [9], [15], [6], [15], [7], [5], [15], [13], [22], [17], [0], [2], [14], [14], [1], [26], [25], [20], [17], [0], [3], [0], [1], [14], [15], [4], [3], [1], [7], [8], [13], [0], [3], [17], [9], [0], [18], [7], [0], [5], [18], [4], [0], [4], [5], [18], [2], [9], [17], [1], [0], [0], [15], [14], [11], [10], [7], [0], [5], [3], [4], [8], [10], [14], [21], [3], [1], [10], [6], [17], [6], [10], [25], [20], [1], [14], [0], [0], [20], [4], [9], [20], [0], [0], [3], [3], [10], [4], [4], [4], [7], [17], [13], [4], [8], [1], [20], [7], [6], [10], [26], [10], [1], [1], [15], [0], [9], [2], [26], [9], [18], [0], [17], [0], [0], [6], [15], [10], [0], [17], [0], [10], [1], [22], [15], [4], [10], [18], [18], [4], [10], [10], [12], [26], [18], [1], [1], [20], [20], [4], [8], [15], [7], [18], [4], [4], [3], [20], [15], [25], [0], [3], [3], [3], [6], [4], [3], [18], [22], [25], [1], [2], [0], [0], [13], [3], [6], [13], [1], [10], [20], [10], [26], [4], [15], [17], [17], [24], [15], [26], [2], [2], [9], [18], [4], [3], [10], [17], [0], [1], [2], [15], [15], [0], [4], [22], [6], [11], [0], [0], [13], [4], [9], [17], [3], [4], [2], [20], [9], [7], [0], [17], [7], [15], [2], [5], [11], [22], [17], [10], [18], [14], [5], [7], [8], [2], [22], [11], [6], [1], [0], [22], [4], [1], [0], [4], [5], [0], [15], [13], [18], [3], [2], [20], [3], [18], [18], [9], [3], [6], [15], [13], [15], [0], [7], [17], [0], [14], [3], [15], [4], [3], [4], [20], [18], [0], [0], [18], [2], [0], [25], [7], [10], [15], [1], [17], [0], [7], [1], [0], [10], [15], [1], [5], [15], [26], [15], [1], [7], [8], [7], [3], [2], [15], [25], [4], [14], [10], [7], [3], [23], [4], [13], [2], [17], [10], [13], [18], [10], [4], [1], [17], [1], [11], [4], [15], [0], [4], [4], [0], [7], [13], [15], [10], [18], [6], [22], [6], [6], [6], [10], [15], [9], [25], [26], [7], [11], [2], [3], [24], [4], [8], [7], [26], [26], [6], [18], [25], [1], [25], [3], [9], [10], [6], [25], [0], [0], [22], [11], [18], [9], [8], [1], [3], [25], [3], [16], [4], [7], [20], [18], [3], [11], [2], [1], [20], [2], [1], [15], [15], [15], [17], [10], [10], [8], [4], [11], [4], [15], [26], [20], [15], [14], [17], [15], [2], [26], [11], [22], [7], [0], [5], [0], [13], [3], [0], [5], [10], [11], [7], [13], [1], [25], [14], [20], [0], [1], [10], [11], [15], [26], [20], [11], [0], [17], [2], [7], [0], [18], [19], [9], [25], [15], [8], [1], [18], [0], [3], [25], [1], [10], [26], [15], [17], [5], [18], [20], [2], [1], [4], [0], [0], [0], [7], [5], [0], [4], [17], [17], [24], [26], [26], [22], [14], [15], [11], [7], [6], [9], [18], [5], [3], [3], [2], [4], [7], [3], [10], [2], [4], [1], [2], [4], [18], [17], [7], [10], [17], [0], [15], [18], [0], [1], [6], [0], [18], [2], [15], [4], [19], [26], [25], [10], [17], [10], [20], [18], [22], [18], [7], [15], [3], [13], [0], [0], [4], [6], [9], [23], [0], [4], [6], [13], [23], [10], [6], [7], [0], [22], [11], [17], [11], [10], [1], [7], [1], [7], [15], [0], [10], [7], [0], [10], [0], [0], [9], [5], [2], [5], [16], [11], [0], [2], [7], [0], [26], [13], [22], [0], [3], [17], [22], [18], [3], [25], [1], [0], [22], [9], [18], [3], [20], [3], [19], [7], [8], [4], [18], [2], [15], [1], [4], [10], [7], [18], [9], [7], [15], [7], [0], [26], [25], [10], [7], [18], [0], [26], [7], [0], [3], [0], [15], [7], [13], [18], [0], [4], [7], [15], [4], [3], [20], [26], [1], [20], [10], [15], [18], [4], [10], [10], [18], [25], [15], [10], [25], [18], [3], [9], [1], [1], [4], [15], [7], [3], [18], [4], [22], [1], [0], [10], [26], [17], [0], [1], [7], [17], [15], [15], [18], [13], [10], [17], [23], [0], [15], [3], [26], [8], [1], [26], [4], [26], [13], [9], [4], [3], [17], [18], [18], [15], [15], [0], [26], [8], [12], [0], [26], [14], [15], [9], [25], [18], [11], [10], [7], [2], [1], [13], [4], [12], [18], [15], [15], [14], [14], [20], [15], [15], [5], [22], [2], [0], [3], [26], [11], [0], [6], [18], [2], [7], [7], [18], [1], [8], [13], [3], [22], [7], [4], [25], [1], [26], [0], [18], [18], [3], [0], [3], [15], [22], [15], [15], [13], [5], [3], [3], [6], [1], [15], [0], [0], [4], [22], [1], [15], [4], [15], [13], [3], [0], [2], [22], [2], [4], [5], [18], [0], [9], [22], [18], [2], [17], [0], [11], [7], [20], [3], [9], [9], [7], [25], [15], [0], [2], [1], [6], [20], [13], [15], [11], [0], [1], [18], [7], [8], [1], [3], [25], [9], [5], [2], [7], [22], [25], [25], [2], [4], [0], [15], [24], [1], [0], [25], [0], [10], [0], [17], [25], [22], [25], [9], [3], [15], [3], [9], [25], [4], [9], [0], [25], [14], [18], [8], [10], [4], [7], [3], [25], [18], [7], [10], [20], [20], [7], [15], [0], [15], [10], [7], [11], [6], [15], [2], [11], [4], [26], [0], [4], [0], [10], [18], [15], [18], [7], [7], [26], [2], [18], [1], [24], [1], [11], [1], [21], [15], [20], [1], [0], [22], [7], [6], [10], [1], [3], [15], [25], [22], [6], [0], [8], [1], [17], [6], [3], [3], [21], [26], [3], [13], [0], [9], [13], [18], [22], [1], [0], [4], [1], [25], [9], [15], [10], [1], [21], [22], [1], [3], [24], [10], [0], [0], [25], [0], [1], [4], [4], [4], [3], [5], [0], [14], [10], [4], [6], [7], [0], [13], [13], [26], [0], [7], [10], [8], [18], [11], [17], [9], [26], [0], [5], [0], [13], [18], [0], [5], [22], [2], [21], [4], [15], [0], [10], [17], [18], [7], [10], [9], [4], [4], [0], [18], [1], [14], [3], [1], [3], [13], [10], [5], [22], [6], [1], [1], [3], [1], [2], [0], [18], [10], [9], [18], [1], [23], [25], [1], [5], [15], [24], [14], [13], [0], [1], [3], [13], [15], [10], [18], [18], [8], [20], [18], [13], [1], [10], [10], [13], [7], [9], [12], [17], [1], [2], [1], [4], [26], [1], [21], [4], [1], [22], [25], [10], [6], [22], [10], [2], [20], [11], [3], [15], [5], [0], [7], [10], [0], [0], [25], [26], [15], [17], [6], [10], [1], [10], [17], [9], [3], [15], [9], [1], [18], [26], [11], [6], [2], [0], [5], [26], [3], [10], [17], [1], [0], [2], [6], [15], [10], [7], [17], [25], [3], [4], [25], [11], [0], [22], [0], [4], [0], [3], [7], [18], [8], [7], [5], [10], [7], [15], [22], [15], [0], [15], [18], [2], [6], [26], [4], [0], [20], [5], [17], [4], [20], [18], [5], [0], [25], [3], [9], [8], [20], [25], [10], [15], [4], [14], [9], [9], [3], [25], [0], [13], [10], [18], [25], [7], [18], [20], [24], [5], [18], [7], [8], [0], [4], [11], [0], [26], [3], [11], [5], [9], [4], [6], [3], [4], [0], [26], [18], [13], [15], [15], [15], [0], [4], [2], [7], [4], [4], [20], [7], [0], [11], [15], [22], [10], [25], [3], [0], [13], [4], [24], [1], [4], [15], [4], [25], [17], [26], [3], [5], [10], [20], [11], [15], [26], [7], [4], [17], [0], [18], [4], [1], [7], [0], [26], [25], [4], [15], [5], [1], [4], [1], [2], [20], [8], [23], [24], [0], [25], [26], [0], [25], [17], [0], [6], [8], [6], [17], [7], [24], [0], [0], [2], [6], [4], [1], [0], [0], [12], [3], [9], [7], [15], [5], [11], [10], [6], [1], [10], [20], [4], [10], [0], [0], [0], [2], [10], [26], [22], [15], [11], [7], [15], [2], [20], [20], [17], [0], [15], [0], [15], [0], [0], [18], [14], [0], [26], [17], [22], [17], [1], [15], [3], [4], [13], [22], [4], [13], [4], [18], [26], [11], [4], [9], [12], [15], [18], [1], [10], [20], [6], [20], [18], [2], [10], [4], [4], [18], [8], [18], [2], [11], [18], [4], [0], [6], [26], [4], [9], [9], [22], [25], [1], [15], [5], [15], [3], [10], [26], [10], [14], [14], [3], [12], [7], [0], [4], [26], [15], [15], [26], [4], [25], [11], [15], [0], [22], [0], [4], [4], [19], [13], [15], [22], [2], [4], [24], [18], [2], [1], [1], [22], [20], [0], [17], [2], [18], [0], [0], [10], [0], [16], [1], [3], [7], [0], [1], [15], [22], [10], [3], [7], [6], [0], [15], [3], [3], [7], [1], [0], [0], [8], [15], [20], [13], [2], [1], [1], [7], [3], [25], [7], [12], [0], [2], [26], [2], [15], [0], [24], [14], [15], [17], [6], [1], [0], [18], [7], [20], [0], [0], [7], [0], [1], [3], [18], [7], [22], [22], [18], [3], [22], [3], [0], [17], [18], [15], [8], [20], [25], [20], [6], [18], [14], [1], [1], [18], [18], [0], [15], [8], [4], [3], [10], [15], [17], [15], [26], [0], [20], [0], [14], [4], [9], [6], [6], [17], [25], [4], [22], [18], [4], [0], [4], [11], [22], [0], [17], [5], [13], [11], [15], [4], [25], [26], [1], [2], [15], [0], [15], [25], [25], [9], [10], [10], [7], [22], [7], [7], [15], [10], [0], [10], [9], [0], [15], [4], [4], [3], [4], [10], [7], [4], [15], [7], [2], [2], [2], [4], [3], [24], [6], [20], [0], [10], [15], [17], [26], [11], [10], [11], [14], [1], [20], [10], [11], [11], [19], [6], [9], [15], [7], [10], [3], [9], [20], [15], [11], [18], [4], [2], [20], [10], [24], [6], [1], [2], [4], [22], [0], [7], [15], [1], [24], [4], [10], [0], [10], [18], [10], [15], [15], [0], [25], [18], [11], [13], [2], [26], [0], [17], [4], [12], [4], [1], [20], [5], [2], [24], [3], [3], [15], [7], [15], [20], [17], [4], [8], [7], [25], [0], [13], [0], [0], [4], [10], [0], [1], [6], [10], [6], [7], [18], [6], [3], [13], [17]]\n",
            "dict_items([('text', Value(dtype='string', id=None)), ('labels', Sequence(feature=ClassLabel(num_classes=28, names=['admiration', 'amusement', 'anger', 'annoyance', 'approval', 'caring', 'confusion', 'curiosity', 'desire', 'disappointment', 'disapproval', 'disgust', 'embarrassment', 'excitement', 'fear', 'gratitude', 'grief', 'joy', 'love', 'nervousness', 'optimism', 'pride', 'realization', 'relief', 'remorse', 'sadness', 'surprise', 'neutral'], names_file=None, id=None), length=-1, id=None)), ('id', Value(dtype='string', id=None))])\n"
          ],
          "name": "stdout"
        }
      ]
    },
    {
      "cell_type": "markdown",
      "metadata": {
        "id": "lnjDIuQ3IrI-"
      },
      "source": [
        "\n",
        "The emotions are provided as numeric labels. These are the actual orderings, beginning at 0 for admiration:"
      ]
    },
    {
      "cell_type": "code",
      "metadata": {
        "id": "5o4rUteaIrI_"
      },
      "source": [
        "labels = [\"admiration\", \"amusement\", \"anger\", \"annoyance\", \"approval\", \"caring\", \n",
        "          \"confusion\", \"curiosity\", \"desire\", \"disappointment\", \"disapproval\",\n",
        "          \"disgust\", \"embarrassment\", \"excitement\", \"fear\", \"gratitude\", \"grief\",\n",
        "          \"joy\", \"love\", \"nervousness\", \"optimism\", \"pride\", \"realization\",\n",
        "          \"relief\", \"remorse\", \"sadness\", \"surprise\", \"neutral\"]   # 28 emotions are there.\n",
        "\n",
        "labelsPositiveNegative = [\"Neutral\",\"Positive\",\"Negative\"]\n",
        "\n",
        "# labelsPositive = [\"admiration\",\"amusement\",\"approval\",\"caring\",\"curiosity\",\"excitement\",\n",
        "#                   \"gratitude\",\"joy\",\"love\",\"optimism\",\"pride\",\"realization\",\"surprise\"]\n",
        "                  \n",
        "# labelsNegative = [\"anger\",\"annoyance\",\"disappointment\",\"disapproval\",\"disgust\",\"fear\",\"remorse\",\"embarrassment\"]\n",
        "\n",
        "# labelsNeutral = [\"confusion\",\"desire\",\"grief\",\"nervousness\",\"sadness\",\"neutral\"]\n",
        "\n",
        "\n",
        "labelsPositive = [\"admiration\",\"amusement\",\"approval\",\"caring\",\"curiosity\",\"excitement\",\n",
        "                  \"gratitude\",\"joy\",\"love\",\"optimism\",\"pride\",\"realization\",\"surprise\"]\n",
        "                  \n",
        "labelsNegative = [\"anger\",\"annoyance\",\"disappointment\",\"disapproval\",\"disgust\",\"fear\",\"remorse\",\"embarrassment\"]\n",
        "labelsNeutral = [\"confusion\",\"desire\",\"grief\",\"nervousness\",\"sadness\",\"neutral\"]\n",
        "\n",
        "\n",
        "index_to_labels = {index: label for index, label in enumerate(labels)}\n",
        "index_to_labels_positive_negative = {index: label for index, label in enumerate(labelsPositiveNegative)}"
      ],
      "execution_count": null,
      "outputs": []
    },
    {
      "cell_type": "markdown",
      "metadata": {
        "id": "n9qywopnIrJH"
      },
      "source": [
        "## Preprocessing the data"
      ]
    },
    {
      "cell_type": "markdown",
      "metadata": {
        "id": "YVx71GdAIrJH"
      },
      "source": [
        "Before we can feed those texts to our model, we need to preprocess them. This is done by a 🤗 Transformers `Tokenizer` which will (as the name indicates) tokenize the inputs (including converting the tokens to their corresponding IDs in the pretrained vocabulary) and put it in a format the model expects, as well as generate the other inputs that model requires.\n",
        "\n",
        "To do all of this, we instantiate our tokenizer with the `AutoTokenizer.from_pretrained` method, which will ensure:\n",
        "\n",
        "- we get a tokenizer that corresponds to the model architecture we want to use,\n",
        "- we download the vocabulary used when pretraining this specific checkpoint.\n",
        "\n",
        "That vocabulary will be cached, so it's not downloaded again the next time we run the cell."
      ]
    },
    {
      "cell_type": "code",
      "metadata": {
        "id": "eXNLu_-nIrJI",
        "colab": {
          "base_uri": "https://localhost:8080/",
          "height": 164,
          "referenced_widgets": [
            "38e34687b890429894bba59ca48c07dd",
            "109c9a5a48bc4a08969c45185abe4dc1",
            "9d01a4a0ef2742d1ada5cbf38135871f",
            "5451adf19b9646cea5dce03ac5f79057",
            "1d30080c512146f482f784b852dd4216",
            "1fa0061ae7404974a680894f380882b2",
            "c8c7c2abb2564bfc91117d4a7e9a15f6",
            "34ebd0eb5c9b42bea8020a7e6cdee799",
            "4d9693db347444faacefe99e56734b9f",
            "bd78d57c65ff4dd8bee354e3ce58b791",
            "34e58a7406f64eb3a501915bfbd76645",
            "1f9a7289a7ce46b18a20629de22df3ed",
            "6b7e16713a054c7fb43048ea09d3431d",
            "ea33fd8a15f445339e8318308beb05fd",
            "9906a9548dee4e16967cd3067851fc39",
            "41a34f9e0f0249ae801f371930204217",
            "190e234d3e984b54b203ad3f815de2b2",
            "3c4a97c23efa4ddba2b19380a2768cc3",
            "c4a5d46c1ecf4d62b35be14888ea955f",
            "09d62d15c83a4f2bafbf39546305790f",
            "4f25d82383374aef9489362e70f6c53e",
            "41f663a63b024713a8d16bb459eed554",
            "f3db5b12cafe40bb910e637e4228b5c8",
            "2970ac605a574be38a1f25ae60edb814"
          ]
        },
        "outputId": "b91d3154-7545-425e-f5d9-031050bd61fe"
      },
      "source": [
        "from transformers import AutoConfig, AutoModelForSequenceClassification, AutoTokenizer\n",
        "\n",
        "model_name = \"distilbert-base-uncased\" #'distilbert-base-uncased' #albert-base-v2\n",
        "config = AutoConfig.from_pretrained(model_name, num_labels=3)\n",
        "model = AutoModelForSequenceClassification.from_config(config=config)\n",
        "tokenizer = AutoTokenizer.from_pretrained(model_name, use_fast=True)"
      ],
      "execution_count": null,
      "outputs": [
        {
          "output_type": "display_data",
          "data": {
            "application/vnd.jupyter.widget-view+json": {
              "model_id": "38e34687b890429894bba59ca48c07dd",
              "version_minor": 0,
              "version_major": 2
            },
            "text/plain": [
              "HBox(children=(FloatProgress(value=0.0, description='Downloading', max=442.0, style=ProgressStyle(description_…"
            ]
          },
          "metadata": {
            "tags": []
          }
        },
        {
          "output_type": "stream",
          "text": [
            "\n"
          ],
          "name": "stdout"
        },
        {
          "output_type": "display_data",
          "data": {
            "application/vnd.jupyter.widget-view+json": {
              "model_id": "4d9693db347444faacefe99e56734b9f",
              "version_minor": 0,
              "version_major": 2
            },
            "text/plain": [
              "HBox(children=(FloatProgress(value=0.0, description='Downloading', max=231508.0, style=ProgressStyle(descripti…"
            ]
          },
          "metadata": {
            "tags": []
          }
        },
        {
          "output_type": "stream",
          "text": [
            "\n"
          ],
          "name": "stdout"
        },
        {
          "output_type": "display_data",
          "data": {
            "application/vnd.jupyter.widget-view+json": {
              "model_id": "190e234d3e984b54b203ad3f815de2b2",
              "version_minor": 0,
              "version_major": 2
            },
            "text/plain": [
              "HBox(children=(FloatProgress(value=0.0, description='Downloading', max=466062.0, style=ProgressStyle(descripti…"
            ]
          },
          "metadata": {
            "tags": []
          }
        },
        {
          "output_type": "stream",
          "text": [
            "\n"
          ],
          "name": "stdout"
        }
      ]
    },
    {
      "cell_type": "markdown",
      "metadata": {
        "id": "Vl6IidfdIrJK"
      },
      "source": [
        "We pass along `use_fast=True` to the call above to use one of the fast tokenizers (backed by Rust) from the 🤗 Tokenizers library. Those fast tokenizers are available for almost all models, but if you got an error with the previous call, remove that argument."
      ]
    },
    {
      "cell_type": "code",
      "metadata": {
        "id": "HakAebh53HGR",
        "colab": {
          "base_uri": "https://localhost:8080/",
          "height": 826,
          "referenced_widgets": [
            "d8ca352015664bc1ae1b6c84fc7acea3",
            "50cf1b331fe84d8ea3dec10806053e53",
            "d8140ae6440b410b8435a97ac05fccae",
            "14d27b2368a54611baabf6cfb20b486c",
            "055aac748459474b87ca7b216eb6e004",
            "594582f649d242d480da6a7824dc9e18",
            "a92a997fb3e04078b1f83355cd2011bf",
            "4427f48dd843475e8145cb3568768fcf",
            "ad882c278b234dc6a3567a276b71b79c",
            "e80a59dca2fe4dd5adcbe89a81113549",
            "df31f13dda094a8c9d9d1973db1f1f9d",
            "4dc120a4d4ca4e84bf67bc96cb694dd2",
            "2d45bb36de1a4cbb8bfbb5c6b1f85622",
            "356a01e8ca6d4bb5bffe4c5d3c81aa2b",
            "f933047144be434db7afd4934293af68",
            "139eadbb421c434bbc5097a4c65958d9",
            "ca1efcff317940a59fb3638e4d4e7383",
            "3f28ea0dce914654be8604df5cfcff44",
            "6aaaf05db0434262ba95a9117f1276c6",
            "c808334a8e73479593c80137727d161c",
            "4d9e123425f64004a2cbf9e53658d8b9",
            "d74db5ba515a40278bd7df406c9b8a81",
            "81a551b96f0e4a508e2ca33d63aef195",
            "c0bee841f5d9460e8226eb18399b3bf1",
            "758de2313d5c4165970dc47c626c3b91",
            "0ea6fba8e1a54f0c9d652b1e965c100f",
            "65c414f916cc4acd9675544bc165c8c6",
            "1287b930467b4f24a06c259c40d35d6a",
            "34538be17c1247c895daa820f1ef271e",
            "5664a4714f2f49ff9324b8fed84e3d20",
            "85be932ab1794aafb25d581143dade02",
            "70d0c143729e48328c71fb94b14a16d5",
            "80c6ec5addad43cc9386295d7261e4c7",
            "a683b2bd86524d818597a9dc697fb6ee",
            "d5881224c0a748b38eff3ce821feb072",
            "36d00c8bb00243e8ba847a4ce5e372f3",
            "a30b013ee3164ae695f64ab71b8cc85d",
            "34b755a3886b410884a7ea05a59cf8fa",
            "a26d3d8590964ef090a41e444167538d",
            "7927180524024e109f8ff805643cc45e",
            "53b38c16a29a4ee1abdb446318fde85a",
            "c136b92762c14b7cbb9c33d529d0f8cb",
            "13f25189db94479eaedeb77e6ad906cb",
            "601cf151816546089b20293b09551cfd",
            "70a4c172f18040edb02427f011fc3784",
            "1128cb626e6e45319e555d1068757e16",
            "37b33b45b97745099a721af3a1f7ca54",
            "8615a87c8b6b413793824561bb085ee2"
          ]
        },
        "outputId": "9058e7b5-c1b5-45eb-d0ef-5e25dcb8bb19"
      },
      "source": [
        "#Remember to check if names could be changed.\n",
        "\n",
        "def preprocess_function(examples):\n",
        "    return tokenizer(examples['text'], truncation=True)\n",
        "\n",
        "def convert_labels_to_int(example):\n",
        "    example['labels'] = example['labels'][0]\n",
        "    \n",
        "    #example['labels'] = 0\n",
        "\n",
        "    prediction_str = index_to_labels[example['labels']]\n",
        "    if prediction_str in labelsPositive:\n",
        "      example['labels'] = 1\n",
        "    elif prediction_str in labelsNegative:\n",
        "      example['labels'] = 2\n",
        "    else:\n",
        "      example['labels'] = 0\n",
        "\n",
        "      \n",
        "    return example\n",
        "\n",
        "encoded_dataset = restricted_dataset.map(preprocess_function, batched=True)\n",
        "encoded_dataset = encoded_dataset.map(convert_labels_to_int)\n",
        "\n",
        "#encoded_dataset = encoded_dataset.filter(lambda x: x[\"labels\"] == 1 and 2 in x['labels'])\n",
        "\n",
        "\n",
        "show_random_elements(encoded_dataset['train'])\n",
        "print(restricted_dataset['train'].features.items())\n",
        "\n",
        "#print(encoded_dataset)\n"
      ],
      "execution_count": null,
      "outputs": [
        {
          "output_type": "display_data",
          "data": {
            "application/vnd.jupyter.widget-view+json": {
              "model_id": "d8ca352015664bc1ae1b6c84fc7acea3",
              "version_minor": 0,
              "version_major": 2
            },
            "text/plain": [
              "HBox(children=(FloatProgress(value=0.0, max=24.0), HTML(value='')))"
            ]
          },
          "metadata": {
            "tags": []
          }
        },
        {
          "output_type": "stream",
          "text": [
            "\n"
          ],
          "name": "stdout"
        },
        {
          "output_type": "display_data",
          "data": {
            "application/vnd.jupyter.widget-view+json": {
              "model_id": "ad882c278b234dc6a3567a276b71b79c",
              "version_minor": 0,
              "version_major": 2
            },
            "text/plain": [
              "HBox(children=(FloatProgress(value=0.0, max=3.0), HTML(value='')))"
            ]
          },
          "metadata": {
            "tags": []
          }
        },
        {
          "output_type": "stream",
          "text": [
            "\n"
          ],
          "name": "stdout"
        },
        {
          "output_type": "display_data",
          "data": {
            "application/vnd.jupyter.widget-view+json": {
              "model_id": "ca1efcff317940a59fb3638e4d4e7383",
              "version_minor": 0,
              "version_major": 2
            },
            "text/plain": [
              "HBox(children=(FloatProgress(value=0.0, max=3.0), HTML(value='')))"
            ]
          },
          "metadata": {
            "tags": []
          }
        },
        {
          "output_type": "stream",
          "text": [
            "\n"
          ],
          "name": "stdout"
        },
        {
          "output_type": "display_data",
          "data": {
            "application/vnd.jupyter.widget-view+json": {
              "model_id": "758de2313d5c4165970dc47c626c3b91",
              "version_minor": 0,
              "version_major": 2
            },
            "text/plain": [
              "HBox(children=(FloatProgress(value=0.0, max=23485.0), HTML(value='')))"
            ]
          },
          "metadata": {
            "tags": []
          }
        },
        {
          "output_type": "stream",
          "text": [
            "\n"
          ],
          "name": "stdout"
        },
        {
          "output_type": "display_data",
          "data": {
            "application/vnd.jupyter.widget-view+json": {
              "model_id": "80c6ec5addad43cc9386295d7261e4c7",
              "version_minor": 0,
              "version_major": 2
            },
            "text/plain": [
              "HBox(children=(FloatProgress(value=0.0, max=2956.0), HTML(value='')))"
            ]
          },
          "metadata": {
            "tags": []
          }
        },
        {
          "output_type": "stream",
          "text": [
            "\n"
          ],
          "name": "stdout"
        },
        {
          "output_type": "display_data",
          "data": {
            "application/vnd.jupyter.widget-view+json": {
              "model_id": "53b38c16a29a4ee1abdb446318fde85a",
              "version_minor": 0,
              "version_major": 2
            },
            "text/plain": [
              "HBox(children=(FloatProgress(value=0.0, max=2984.0), HTML(value='')))"
            ]
          },
          "metadata": {
            "tags": []
          }
        },
        {
          "output_type": "stream",
          "text": [
            "\n"
          ],
          "name": "stdout"
        },
        {
          "output_type": "display_data",
          "data": {
            "text/html": [
              "<table border=\"1\" class=\"dataframe\">\n",
              "  <thead>\n",
              "    <tr style=\"text-align: right;\">\n",
              "      <th></th>\n",
              "      <th>attention_mask</th>\n",
              "      <th>id</th>\n",
              "      <th>input_ids</th>\n",
              "      <th>labels</th>\n",
              "      <th>text</th>\n",
              "    </tr>\n",
              "  </thead>\n",
              "  <tbody>\n",
              "    <tr>\n",
              "      <th>0</th>\n",
              "      <td>[1, 1, 1, 1, 1, 1, 1, 1, 1, 1, 1, 1, 1, 1, 1, 1, 1, 1, 1, 1, 1, 1, 1, 1, 1, 1, 1, 1, 1, 1, 1, 1]</td>\n",
              "      <td>eev6obc</td>\n",
              "      <td>[101, 1045, 13675, 10696, 12264, 1998, 17490, 12136, 2035, 100, 1996, 100, 4365, 100, 2051, 1012, 1045, 2228, 2026, 2303, 2113, 2027, 1521, 2128, 10250, 10050, 2063, 1998, 26780, 9742, 100, 102]</td>\n",
              "      <td>0</td>\n",
              "      <td>I crave nuts and nut butter all 👏 the 👏 damn 👏 time. I think my body know they’re calorie and nutrient dense 😂</td>\n",
              "    </tr>\n",
              "    <tr>\n",
              "      <th>1</th>\n",
              "      <td>[1, 1, 1, 1, 1, 1, 1]</td>\n",
              "      <td>ee1lj8m</td>\n",
              "      <td>[101, 4283, 2005, 1996, 18140, 1012, 102]</td>\n",
              "      <td>1</td>\n",
              "      <td>thanks for the correction.</td>\n",
              "    </tr>\n",
              "    <tr>\n",
              "      <th>2</th>\n",
              "      <td>[1, 1, 1, 1, 1, 1, 1, 1, 1, 1, 1, 1, 1, 1, 1, 1, 1, 1, 1, 1, 1, 1, 1, 1, 1, 1, 1, 1, 1, 1, 1, 1]</td>\n",
              "      <td>edm9boe</td>\n",
              "      <td>[101, 3348, 14421, 1013, 13507, 2024, 6069, 5672, 2068, 2151, 2185, 1012, 6057, 2008, 1012, 2184, 2086, 3283, 6343, 2052, 2031, 2245, 2008, 3348, 3667, 2052, 2022, 2999, 2011, 13507, 1012, 102]</td>\n",
              "      <td>1</td>\n",
              "      <td>Sex dolls/robots are gonna replace them any away. Funny that. 10 years ago nobody would have thought that sex workers would be replaced by robots.</td>\n",
              "    </tr>\n",
              "    <tr>\n",
              "      <th>3</th>\n",
              "      <td>[1, 1, 1, 1, 1, 1, 1, 1, 1, 1, 1, 1, 1, 1, 1, 1, 1, 1, 1, 1, 1, 1, 1, 1, 1, 1, 1, 1, 1, 1]</td>\n",
              "      <td>edqqvhq</td>\n",
              "      <td>[101, 1028, 2021, 2009, 2758, 6555, 2157, 1999, 2037, 2171, 1012, 1012, 1012, 1012, 2182, 1005, 1055, 1037, 3376, 2611, 2005, 2017, 1012, 1012, 1012, 1034, 1034, 1013, 1055, 102]</td>\n",
              "      <td>1</td>\n",
              "      <td>&gt; But it says progressive right in their name.... Here's a beautiful girl for you... ^^/s</td>\n",
              "    </tr>\n",
              "    <tr>\n",
              "      <th>4</th>\n",
              "      <td>[1, 1, 1, 1, 1, 1, 1, 1, 1, 1, 1, 1, 1]</td>\n",
              "      <td>ed8wbdn</td>\n",
              "      <td>[101, 4365, 7858, 1998, 19006, 3689, 2003, 3565, 21115, 2005, 2417, 23194, 102]</td>\n",
              "      <td>1</td>\n",
              "      <td>Damn youtube and outrage drama is super lucrative for reddit</td>\n",
              "    </tr>\n",
              "    <tr>\n",
              "      <th>5</th>\n",
              "      <td>[1, 1, 1, 1, 1, 1, 1, 1, 1, 1, 1, 1, 1, 1, 1, 1, 1]</td>\n",
              "      <td>edrrqxr</td>\n",
              "      <td>[101, 2054, 1037, 9467, 1012, 1012, 1012, 2016, 2001, 4458, 2428, 2092, 2205, 1012, 1012, 1012, 102]</td>\n",
              "      <td>2</td>\n",
              "      <td>What a shame... she was passing really well too...</td>\n",
              "    </tr>\n",
              "    <tr>\n",
              "      <th>6</th>\n",
              "      <td>[1, 1, 1, 1, 1, 1, 1, 1, 1, 1, 1, 1, 1, 1, 1, 1, 1, 1, 1, 1, 1, 1, 1, 1, 1, 1]</td>\n",
              "      <td>eem4t9e</td>\n",
              "      <td>[101, 2009, 2003, 11757, 4795, 2029, 2003, 2339, 2045, 2024, 8390, 2005, 2023, 1010, 2036, 2122, 8390, 2224, 1037, 25653, 1998, 2025, 1037, 3829, 5442, 102]</td>\n",
              "      <td>1</td>\n",
              "      <td>It is incredibly dangerous which is why there are professionals for this, also these professionals use a saber and not a kitchen knife</td>\n",
              "    </tr>\n",
              "    <tr>\n",
              "      <th>7</th>\n",
              "      <td>[1, 1, 1, 1, 1, 1, 1, 1, 1, 1, 1, 1, 1, 1, 1, 1, 1]</td>\n",
              "      <td>eew5ddv</td>\n",
              "      <td>[101, 15624, 1010, 2049, 2145, 2051, 2241, 2061, 3083, 2097, 2022, 7078, 10958, 6834, 2009, 1999, 102]</td>\n",
              "      <td>1</td>\n",
              "      <td>yep, its still time based so 1st will be absolutely raking it in</td>\n",
              "    </tr>\n",
              "    <tr>\n",
              "      <th>8</th>\n",
              "      <td>[1, 1, 1, 1, 1, 1, 1, 1, 1, 1, 1, 1]</td>\n",
              "      <td>edn8upi</td>\n",
              "      <td>[101, 2017, 2034, 999, 2191, 2009, 2062, 5875, 2084, 2023, 999, 102]</td>\n",
              "      <td>1</td>\n",
              "      <td>You first! Make it more interesting than this!</td>\n",
              "    </tr>\n",
              "    <tr>\n",
              "      <th>9</th>\n",
              "      <td>[1, 1, 1, 1, 1, 1, 1, 1, 1, 1, 1, 1, 1, 1, 1, 1, 1, 1, 1, 1, 1]</td>\n",
              "      <td>ednyo7p</td>\n",
              "      <td>[101, 2339, 2025, 1029, 3061, 2000, 2033, 3475, 1521, 1056, 2004, 2673, 1045, 2342, 2003, 2006, 1996, 2723, 8840, 2140, 102]</td>\n",
              "      <td>1</td>\n",
              "      <td>why not? standing to me isn’t as everything i need is on the floor lol</td>\n",
              "    </tr>\n",
              "  </tbody>\n",
              "</table>"
            ],
            "text/plain": [
              "<IPython.core.display.HTML object>"
            ]
          },
          "metadata": {
            "tags": []
          }
        },
        {
          "output_type": "stream",
          "text": [
            "dict_items([('text', Value(dtype='string', id=None)), ('labels', Sequence(feature=ClassLabel(num_classes=28, names=['admiration', 'amusement', 'anger', 'annoyance', 'approval', 'caring', 'confusion', 'curiosity', 'desire', 'disappointment', 'disapproval', 'disgust', 'embarrassment', 'excitement', 'fear', 'gratitude', 'grief', 'joy', 'love', 'nervousness', 'optimism', 'pride', 'realization', 'relief', 'remorse', 'sadness', 'surprise', 'neutral'], names_file=None, id=None), length=-1, id=None)), ('id', Value(dtype='string', id=None))])\n"
          ],
          "name": "stdout"
        }
      ]
    },
    {
      "cell_type": "markdown",
      "metadata": {
        "id": "545PP3o8IrJV"
      },
      "source": [
        "## Fine-tuning the model"
      ]
    },
    {
      "cell_type": "markdown",
      "metadata": {
        "id": "_N8urzhyIrJY"
      },
      "source": [
        "To instantiate a `Trainer`, we will need to define two more things. The most important is the [`TrainingArguments`](https://huggingface.co/transformers/main_classes/trainer.html#transformers.TrainingArguments), which is a class that contains all the attributes to customize the training. It requires one folder name, which will be used to save the checkpoints of the model, and all other arguments are optional:"
      ]
    },
    {
      "cell_type": "code",
      "metadata": {
        "id": "Bliy8zgjIrJY"
      },
      "source": [
        "from transformers import Trainer, TrainingArguments\n",
        "metric_name = \"accuracy\"\n",
        "\n",
        "args = TrainingArguments(\n",
        "    \"test-emotions\",\n",
        "    evaluation_strategy = \"epoch\",\n",
        "    learning_rate=5e-5,\n",
        "    per_device_train_batch_size=32,\n",
        "    per_device_eval_batch_size=32,\n",
        "    num_train_epochs=4,\n",
        "    weight_decay=0.01,\n",
        "    load_best_model_at_end=True,\n",
        "    metric_for_best_model=metric_name,\n",
        ")"
      ],
      "execution_count": null,
      "outputs": []
    },
    {
      "cell_type": "markdown",
      "metadata": {
        "id": "km3pGVdTIrJc"
      },
      "source": [
        "Here we set the evaluation to be done at the end of each epoch, tweak the learning rate, use the `batch_size` defined at the top of the notebook and customize the number of epochs for training, as well as the weight decay. Since the best model might not be the one at the end of training, we ask the `Trainer` to load the best model it saved (according to `metric_name`) at the end of training."
      ]
    },
    {
      "cell_type": "code",
      "metadata": {
        "id": "UmvbnJ9JIrJd",
        "colab": {
          "base_uri": "https://localhost:8080/",
          "height": 66,
          "referenced_widgets": [
            "f3e97a1c56a24e14bfd142086aade2b2",
            "0c1c0ed951684f38b5f56a9b91fdcf5f",
            "a6129d03b7e54ab49bf605d891879228",
            "c2b7c5cb6dcd482a8315140ba5019091",
            "a5fcc8500a004daa86572d62b44ec863",
            "bd481803fed940dea9943a16b3d3e539",
            "49c220264c8c4434b0ba684dcf321117",
            "db764f16304d4fc3896bab575b9c0bda"
          ]
        },
        "outputId": "2c76d0b0-e600-4164-e909-49073fd9bf67"
      },
      "source": [
        "metric = datasets.load_metric('accuracy')\n",
        "def compute_metrics(eval_pred):\n",
        "    predictions, labels = eval_pred\n",
        "    predictions = np.argmax(predictions, axis=1)\n",
        "    return metric.compute(predictions=predictions, references=labels)"
      ],
      "execution_count": null,
      "outputs": [
        {
          "output_type": "display_data",
          "data": {
            "application/vnd.jupyter.widget-view+json": {
              "model_id": "f3e97a1c56a24e14bfd142086aade2b2",
              "version_minor": 0,
              "version_major": 2
            },
            "text/plain": [
              "HBox(children=(FloatProgress(value=0.0, description='Downloading', max=1362.0, style=ProgressStyle(description…"
            ]
          },
          "metadata": {
            "tags": []
          }
        },
        {
          "output_type": "stream",
          "text": [
            "\n"
          ],
          "name": "stdout"
        }
      ]
    },
    {
      "cell_type": "markdown",
      "metadata": {
        "id": "rXuFTAzDIrJe"
      },
      "source": [
        "Then we just need to pass all of this along with our datasets to the `Trainer`:"
      ]
    },
    {
      "cell_type": "code",
      "metadata": {
        "id": "imY1oC3SIrJf"
      },
      "source": [
        "validation_key = \"validation\"\n",
        "trainer = Trainer(\n",
        "    model,\n",
        "    args,\n",
        "    train_dataset=encoded_dataset[\"train\"],\n",
        "    eval_dataset=encoded_dataset[\"validation\"],\n",
        "    tokenizer=tokenizer,\n",
        "    compute_metrics=compute_metrics\n",
        ")"
      ],
      "execution_count": null,
      "outputs": []
    },
    {
      "cell_type": "markdown",
      "metadata": {
        "id": "ibWGmvxbIrJg"
      },
      "source": [
        "You might wonder why we pass along the `tokenizer` when we already preprocessed our data. This is because we will use it once last time to make all the samples we gather the same length by applying padding, which requires knowing the model's preferences regarding padding (to the left or right? with which token?). The `tokenizer` has a pad method that will do all of this right for us, and the `Trainer` will use it. You can customize this part by defining and passing your own `data_collator` which will receive the samples like the dictionaries seen above and will need to return a dictionary of tensors."
      ]
    },
    {
      "cell_type": "markdown",
      "metadata": {
        "id": "CdzABDVcIrJg"
      },
      "source": [
        "We can now finetune our model by just calling the `train` method:"
      ]
    },
    {
      "cell_type": "code",
      "metadata": {
        "colab": {
          "base_uri": "https://localhost:8080/",
          "height": 216
        },
        "id": "uNx5pyRlIrJh",
        "outputId": "08bd7f08-3d87-4aef-f3fe-c2be376c5f18"
      },
      "source": [
        "import numpy as np\n",
        "trainer.train()"
      ],
      "execution_count": null,
      "outputs": [
        {
          "output_type": "display_data",
          "data": {
            "text/html": [
              "\n",
              "    <div>\n",
              "        <style>\n",
              "            /* Turns off some styling */\n",
              "            progress {\n",
              "                /* gets rid of default border in Firefox and Opera. */\n",
              "                border: none;\n",
              "                /* Needs to be in here for Safari polyfill so background images work as expected. */\n",
              "                background-size: auto;\n",
              "            }\n",
              "        </style>\n",
              "      \n",
              "      <progress value='2936' max='2936' style='width:300px; height:20px; vertical-align: middle;'></progress>\n",
              "      [2936/2936 04:15, Epoch 4/4]\n",
              "    </div>\n",
              "    <table border=\"1\" class=\"dataframe\">\n",
              "  <thead>\n",
              "    <tr style=\"text-align: left;\">\n",
              "      <th>Epoch</th>\n",
              "      <th>Training Loss</th>\n",
              "      <th>Validation Loss</th>\n",
              "      <th>Accuracy</th>\n",
              "      <th>Runtime</th>\n",
              "      <th>Samples Per Second</th>\n",
              "    </tr>\n",
              "  </thead>\n",
              "  <tbody>\n",
              "    <tr>\n",
              "      <td>1</td>\n",
              "      <td>0.723600</td>\n",
              "      <td>0.595485</td>\n",
              "      <td>0.759134</td>\n",
              "      <td>1.813300</td>\n",
              "      <td>1630.201000</td>\n",
              "    </tr>\n",
              "    <tr>\n",
              "      <td>2</td>\n",
              "      <td>0.541400</td>\n",
              "      <td>0.531301</td>\n",
              "      <td>0.791272</td>\n",
              "      <td>1.809100</td>\n",
              "      <td>1633.963000</td>\n",
              "    </tr>\n",
              "    <tr>\n",
              "      <td>3</td>\n",
              "      <td>0.390300</td>\n",
              "      <td>0.558334</td>\n",
              "      <td>0.788566</td>\n",
              "      <td>1.810800</td>\n",
              "      <td>1632.422000</td>\n",
              "    </tr>\n",
              "    <tr>\n",
              "      <td>4</td>\n",
              "      <td>0.355200</td>\n",
              "      <td>0.610985</td>\n",
              "      <td>0.783491</td>\n",
              "      <td>1.812200</td>\n",
              "      <td>1631.145000</td>\n",
              "    </tr>\n",
              "  </tbody>\n",
              "</table><p>"
            ],
            "text/plain": [
              "<IPython.core.display.HTML object>"
            ]
          },
          "metadata": {
            "tags": []
          }
        },
        {
          "output_type": "execute_result",
          "data": {
            "text/plain": [
              "TrainOutput(global_step=2936, training_loss=0.47007800317915, metrics={'train_runtime': 256.0773, 'train_samples_per_second': 11.465, 'total_flos': 1354956246018936, 'epoch': 4.0})"
            ]
          },
          "metadata": {
            "tags": []
          },
          "execution_count": 13
        }
      ]
    },
    {
      "cell_type": "markdown",
      "metadata": {
        "id": "CKASz-2vIrJi"
      },
      "source": [
        "We can check with the `evaluate` method that our `Trainer` did reload the best model properly (if it was not the last one). We also run a sample prediction to demonstrate the API:"
      ]
    },
    {
      "cell_type": "code",
      "metadata": {
        "colab": {
          "base_uri": "https://localhost:8080/",
          "height": 122
        },
        "id": "UOUcBkX8IrJi",
        "outputId": "273d0628-5a3a-4bc6-bd23-2eb28e6dfab6"
      },
      "source": [
        "dic = trainer.evaluate()\n",
        "accuracies.append(dic['eval_accuracy']*100)\n",
        "dic"
      ],
      "execution_count": null,
      "outputs": [
        {
          "output_type": "display_data",
          "data": {
            "text/html": [
              "\n",
              "    <div>\n",
              "        <style>\n",
              "            /* Turns off some styling */\n",
              "            progress {\n",
              "                /* gets rid of default border in Firefox and Opera. */\n",
              "                border: none;\n",
              "                /* Needs to be in here for Safari polyfill so background images work as expected. */\n",
              "                background-size: auto;\n",
              "            }\n",
              "        </style>\n",
              "      \n",
              "      <progress value='93' max='93' style='width:300px; height:20px; vertical-align: middle;'></progress>\n",
              "      [93/93 00:01]\n",
              "    </div>\n",
              "    "
            ],
            "text/plain": [
              "<IPython.core.display.HTML object>"
            ]
          },
          "metadata": {
            "tags": []
          }
        },
        {
          "output_type": "execute_result",
          "data": {
            "text/plain": [
              "{'epoch': 4.0,\n",
              " 'eval_accuracy': 0.7912719891745602,\n",
              " 'eval_loss': 0.531300961971283,\n",
              " 'eval_runtime': 1.8301,\n",
              " 'eval_samples_per_second': 1615.237}"
            ]
          },
          "metadata": {
            "tags": []
          },
          "execution_count": 14
        }
      ]
    },
    {
      "cell_type": "code",
      "metadata": {
        "colab": {
          "base_uri": "https://localhost:8080/",
          "height": 282
        },
        "id": "7Jpw7A6kj4EJ",
        "outputId": "03be7042-6178-4cd1-83f0-efba49413115"
      },
      "source": [
        "plt.plot(accuracies)\n",
        "plt.ylabel('some numbers')\n",
        "plt.show()\n",
        "\n",
        "accuracies\n"
      ],
      "execution_count": null,
      "outputs": [
        {
          "output_type": "display_data",
          "data": {
            "image/png": "[encoded data removed]",
            "text/plain": [
              "<Figure size 432x288 with 1 Axes>"
            ]
          },
          "metadata": {
            "tags": [],
            "needs_background": "light"
          }
        },
        {
          "output_type": "execute_result",
          "data": {
            "text/plain": [
              "[79.12719891745603]"
            ]
          },
          "metadata": {
            "tags": []
          },
          "execution_count": 15
        }
      ]
    },
    {
      "cell_type": "code",
      "metadata": {
        "colab": {
          "base_uri": "https://localhost:8080/",
          "height": 52
        },
        "id": "Y6-FmS4d1mDE",
        "outputId": "4fac4768-ac7f-4535-ae1c-095d56e93b4a"
      },
      "source": [
        "prepared_input = tokenizer.prepare_seq2seq_batch([\"You are fine\"], return_tensors='pt')\n",
        "model = model.to('cpu')\n",
        "model.eval()\n",
        "model_output = model(**prepared_input)\n",
        "prediction = np.argmax(model_output.logits[0].detach().numpy())\n",
        "\n",
        "print(prediction)\n",
        "\n",
        "prediction_str = index_to_labels[prediction]\n",
        "\n",
        "# if prediction_str in labelsPositive:\n",
        "#      #print(labelsPositive[prediction])\n",
        "#       print(\"Positive Emotion\")\n",
        "\n",
        "# elif prediction_str in labelsNegative:\n",
        "#     #print(labelsNegative[prediction])\n",
        "#     print(\"Negative Emotion\")\n",
        "\n",
        "# else:\n",
        "#   print(\"Neutral\")\n",
        "\n",
        "index_to_labels_positive_negative[prediction]"
      ],
      "execution_count": null,
      "outputs": [
        {
          "output_type": "stream",
          "text": [
            "1\n"
          ],
          "name": "stdout"
        },
        {
          "output_type": "execute_result",
          "data": {
            "application/vnd.google.colaboratory.intrinsic+json": {
              "type": "string"
            },
            "text/plain": [
              "'Positive'"
            ]
          },
          "metadata": {
            "tags": []
          },
          "execution_count": 16
        }
      ]
    },
    {
      "cell_type": "markdown",
      "metadata": {
        "id": "U-1Jo6jShRwF"
      },
      "source": [
        "# Your work"
      ]
    },
    {
      "cell_type": "code",
      "metadata": {
        "id": "8YhB0mvh01au",
        "colab": {
          "base_uri": "https://localhost:8080/"
        },
        "outputId": "cb9769d6-0382-4d8b-c713-8dbf38ed220d"
      },
      "source": [
        "from google.colab import drive\n",
        "drive.mount('/content/drive', force_remount=True)\n",
        "\n",
        "\n"
      ],
      "execution_count": null,
      "outputs": [
        {
          "output_type": "stream",
          "text": [
            "Mounted at /content/drive\n"
          ],
          "name": "stdout"
        }
      ]
    },
    {
      "cell_type": "markdown",
      "metadata": {
        "id": "cQGD4MZhhsB1"
      },
      "source": [
        "prQs 1. Can you report how accuracy changes with varying the hypyerparameters defined above? How does accuracy change with increasing number of epochs? Learning rate? Mention your final choice of parameters and graph how they impact accuracy. \n",
        "\n",
        "Qs 2. Try any 2 other models for sequence classification supported by Huggingface and repeat Qs 1 for these. You can find a full list of these [here](https://huggingface.co/transformers/model_doc/auto.html#automodelforsequenceclassification). (For those of you working with text for your project, you may also find several other useful models for Seq2Seq modeling, question answering, etc.)\n",
        "\n",
        "Qs 3. Wrangle / change the data so that you can instead build a \"positive\" emotion vs \"negative\" emotions classifier, by combining labels. For any emotions that you feel are too neutral, you may drop them from evaluation. Can you now report the accuracy of a classifer on this data? You may use one of the model architectures from (1) or (2)\n",
        "\n",
        "Qs 4. Export models from qs 1 and 3, and build a FastAPI around it, as discussed in class, which returns the most likely emotion found. (You may need to look up Huggingface documentation on how to save and load models). In particular, you should support two API endpoints - \"detect_emotion_binary\" and \"detect_emotion_full\" which supports each model.\n",
        "\n",
        "Qs 5. Finally, can you dockerize this? You do NOT need to deploy this to the cloud.\n",
        "\n",
        "Submission instructions: Zip your compiled .ipynb notebook, your fast_api code and your dockerfile, and submit to LMS as one file. You should confirm that your .ipynb can be imported to colab and run in sequence. All your results for Qs 1-3 should be reported in the notebook itself."
      ]
    },
    {
      "cell_type": "code",
      "metadata": {
        "id": "n5VeU4ob4YF6"
      },
      "source": [
        "\n",
        "# [func for func in dir(model) if callable(getattr(model, func)) and \"save\" in func]\n",
        "# [func for func in dir(Trainer) if callable(getattr(Trainer, func))]\n",
        "model_dir = '/content/drive/My Drive/Colab Notebooks/models/'\n",
        "model.save_pretrained(model_dir + 'my_model.h5')"
      ],
      "execution_count": null,
      "outputs": []
    }
  ]
}